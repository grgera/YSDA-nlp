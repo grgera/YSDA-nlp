{
  "metadata": {
    "kernelspec": {
      "language": "python",
      "display_name": "Python 3",
      "name": "python3"
    },
    "language_info": {
      "name": "python",
      "version": "3.7.12",
      "mimetype": "text/x-python",
      "codemirror_mode": {
        "name": "ipython",
        "version": 3
      },
      "pygments_lexer": "ipython3",
      "nbconvert_exporter": "python",
      "file_extension": ".py"
    },
    "colab": {
      "name": "4_Attention.ipynb",
      "provenance": [],
      "collapsed_sections": []
    },
    "accelerator": "GPU"
  },
  "nbformat_minor": 0,
  "nbformat": 4,
  "cells": [
    {
      "cell_type": "markdown",
      "source": [
        "## Encoder-decoder neural networks\n",
        "\n",
        "Today we shall compose encoder-decoder neural networks and apply them to the task of machine translation.\n",
        "\n",
        "![img](https://esciencegroup.files.wordpress.com/2016/03/seq2seq.jpg)\n"
      ],
      "metadata": {
        "id": "HmsFABwClrsS"
      }
    },
    {
      "cell_type": "code",
      "source": [
        "from nltk.tokenize import WordPunctTokenizer\n",
        "from subword_nmt.learn_bpe import learn_bpe\n",
        "from subword_nmt.apply_bpe import BPE\n",
        "import numpy as np\n",
        "import matplotlib.pyplot as plt\n",
        "from vocab import Vocab\n",
        "import torch\n",
        "import torch.nn as nn\n",
        "import torch.nn.functional as F\n",
        "from IPython.display import clear_output\n",
        "from tqdm import tqdm, trange\n",
        "from nltk.translate.bleu_score import corpus_bleu\n",
        "import bokeh.plotting as pl\n",
        "import bokeh.models as bm\n",
        "from bokeh.io import output_notebook, show\n",
        "output_notebook()\n",
        "%matplotlib inline"
      ],
      "metadata": {
        "id": "I7Jw4bO4JJla",
        "execution": {
          "iopub.status.busy": "2022-03-06T16:39:33.647808Z",
          "iopub.execute_input": "2022-03-06T16:39:33.648442Z",
          "iopub.status.idle": "2022-03-06T16:39:34.956103Z",
          "shell.execute_reply.started": "2022-03-06T16:39:33.648404Z",
          "shell.execute_reply": "2022-03-06T16:39:34.954231Z"
        },
        "trusted": true
      },
      "execution_count": 1,
      "outputs": []
    },
    {
      "cell_type": "markdown",
      "source": [
        "## Our task: machine translation\n",
        "\n",
        "We gonna try our encoder-decoder models on russian to english machine translation problem. More specifically, we'll translate hotel and hostel descriptions.\n",
        "\n",
        "+ Data will be tokenized with WordPunctTokenizer.\n",
        "\n",
        "+ Our data lines contain unique rare words. If we operate on a word level, we will have to deal with large vocabulary size. If instead we use character-level models, it would take lots of iterations to process a sequence. This time we're gonna pick something inbetween.\n",
        "\n",
        "+ One popular approach is called [Byte Pair Encoding](https://github.com/rsennrich/subword-nmt) aka __BPE__. The algorithm starts with a character-level tokenization and then iteratively merges most frequent pairs for N iterations. This results in frequent words being merged into a single token and rare words split into syllables or even characters.\n",
        "\n"
      ],
      "metadata": {
        "id": "R4N9AD2dlrsU"
      }
    },
    {
      "cell_type": "code",
      "source": [
        "!pip3 install torch>=1.3.0\n",
        "!pip3 install subword-nmt &> log\n",
        "!wget https://raw.githubusercontent.com/yandexdataschool/nlp_course/2020/week04_seq2seq/vocab.py -O vocab.py\n",
        "!wget https://www.dropbox.com/s/yy2zqh34dyhv07i/data.txt?dl=1 -O data.txt\n",
        "# thanks to tilda and deephack teams for the data, Dmitry Emelyanenko for the code :)"
      ],
      "metadata": {
        "id": "12JluSHlJp9C",
        "outputId": "baa2d0e1-0193-426f-8bd0-352a20d9db1b",
        "execution": {
          "iopub.status.busy": "2022-03-06T16:38:43.289973Z",
          "iopub.execute_input": "2022-03-06T16:38:43.290624Z",
          "iopub.status.idle": "2022-03-06T16:39:03.410210Z",
          "shell.execute_reply.started": "2022-03-06T16:38:43.290524Z",
          "shell.execute_reply": "2022-03-06T16:39:03.409393Z"
        },
        "trusted": true,
        "colab": {
          "base_uri": "https://localhost:8080/"
        }
      },
      "execution_count": 2,
      "outputs": [
        {
          "output_type": "stream",
          "name": "stdout",
          "text": [
            "--2022-03-06 18:07:30--  https://raw.githubusercontent.com/yandexdataschool/nlp_course/2020/week04_seq2seq/vocab.py\n",
            "Resolving raw.githubusercontent.com (raw.githubusercontent.com)... 185.199.108.133, 185.199.109.133, 185.199.110.133, ...\n",
            "Connecting to raw.githubusercontent.com (raw.githubusercontent.com)|185.199.108.133|:443... connected.\n",
            "HTTP request sent, awaiting response... 200 OK\n",
            "Length: 2879 (2.8K) [text/plain]\n",
            "Saving to: ‘vocab.py’\n",
            "\n",
            "\rvocab.py              0%[                    ]       0  --.-KB/s               \rvocab.py            100%[===================>]   2.81K  --.-KB/s    in 0s      \n",
            "\n",
            "2022-03-06 18:07:30 (30.4 MB/s) - ‘vocab.py’ saved [2879/2879]\n",
            "\n",
            "--2022-03-06 18:07:30--  https://www.dropbox.com/s/yy2zqh34dyhv07i/data.txt?dl=1\n",
            "Resolving www.dropbox.com (www.dropbox.com)... 162.125.67.18, 2620:100:6021:18::a27d:4112\n",
            "Connecting to www.dropbox.com (www.dropbox.com)|162.125.67.18|:443... connected.\n",
            "HTTP request sent, awaiting response... 301 Moved Permanently\n",
            "Location: /s/dl/yy2zqh34dyhv07i/data.txt [following]\n",
            "--2022-03-06 18:07:30--  https://www.dropbox.com/s/dl/yy2zqh34dyhv07i/data.txt\n",
            "Reusing existing connection to www.dropbox.com:443.\n",
            "HTTP request sent, awaiting response... 302 Found\n",
            "Location: https://uc1a9b465655ae0a7e913d1cd1fa.dl.dropboxusercontent.com/cd/0/get/Bg-2OXvvk02RgWmYzgHfKVa-fBwwx-O8BahMis5K5LQgxNgIiB2XkECHNmQcVI3i45rBRUWfRorbb4LwTvn2K4rEQx-TEKdVNimMHBBfq0xP-UcGGkNcsQzpJqPv3HHwbwMIJmsNwZuIfcMk79mf8vav/file?dl=1# [following]\n",
            "--2022-03-06 18:07:31--  https://uc1a9b465655ae0a7e913d1cd1fa.dl.dropboxusercontent.com/cd/0/get/Bg-2OXvvk02RgWmYzgHfKVa-fBwwx-O8BahMis5K5LQgxNgIiB2XkECHNmQcVI3i45rBRUWfRorbb4LwTvn2K4rEQx-TEKdVNimMHBBfq0xP-UcGGkNcsQzpJqPv3HHwbwMIJmsNwZuIfcMk79mf8vav/file?dl=1\n",
            "Resolving uc1a9b465655ae0a7e913d1cd1fa.dl.dropboxusercontent.com (uc1a9b465655ae0a7e913d1cd1fa.dl.dropboxusercontent.com)... 162.125.67.15, 2620:100:6021:15::a27d:410f\n",
            "Connecting to uc1a9b465655ae0a7e913d1cd1fa.dl.dropboxusercontent.com (uc1a9b465655ae0a7e913d1cd1fa.dl.dropboxusercontent.com)|162.125.67.15|:443... connected.\n",
            "HTTP request sent, awaiting response... 200 OK\n",
            "Length: 12905335 (12M) [application/binary]\n",
            "Saving to: ‘data.txt’\n",
            "\n",
            "data.txt            100%[===================>]  12.31M  7.36MB/s    in 1.7s    \n",
            "\n",
            "2022-03-06 18:07:33 (7.36 MB/s) - ‘data.txt’ saved [12905335/12905335]\n",
            "\n"
          ]
        }
      ]
    },
    {
      "cell_type": "code",
      "source": [
        "tokenizer = WordPunctTokenizer()\n",
        "\n",
        "def tokenize(x):\n",
        "    return ' '.join(tokenizer.tokenize(x.lower()))\n",
        "\n",
        "# split and tokenize the data\n",
        "with open('train.en', 'w') as f_src,  open('train.ru', 'w') as f_dst:\n",
        "    for line in open('data.txt'):\n",
        "        src_line, dst_line = line.strip().split('\\t')\n",
        "        f_src.write(tokenize(src_line) + '\\n')\n",
        "        f_dst.write(tokenize(dst_line) + '\\n')\n",
        "\n",
        "# build and apply bpe vocs\n",
        "bpe = {}\n",
        "for lang in ['en', 'ru']:\n",
        "    learn_bpe(open('./train.' + lang), open('bpe_rules.' + lang, 'w'), num_symbols=8000)\n",
        "    bpe[lang] = BPE(open('./bpe_rules.' + lang))\n",
        "    \n",
        "    with open('train.bpe.' + lang, 'w') as f_out:\n",
        "        for line in open('train.' + lang):\n",
        "            f_out.write(bpe[lang].process_line(line.strip()) + '\\n')"
      ],
      "metadata": {
        "id": "g9kP0SdxlrsY",
        "outputId": "fe631b96-39b2-4734-9bd7-f2076fa4c4b5",
        "execution": {
          "iopub.status.busy": "2022-03-06T16:39:38.921516Z",
          "iopub.execute_input": "2022-03-06T16:39:38.921993Z",
          "iopub.status.idle": "2022-03-06T16:40:10.941006Z",
          "shell.execute_reply.started": "2022-03-06T16:39:38.921954Z",
          "shell.execute_reply": "2022-03-06T16:40:10.940211Z"
        },
        "trusted": true,
        "colab": {
          "base_uri": "https://localhost:8080/"
        }
      },
      "execution_count": 3,
      "outputs": [
        {
          "output_type": "stream",
          "name": "stderr",
          "text": [
            "100%|██████████| 8000/8000 [00:24<00:00, 330.16it/s]\n",
            "100%|██████████| 8000/8000 [00:13<00:00, 589.57it/s]\n"
          ]
        }
      ]
    },
    {
      "cell_type": "markdown",
      "source": [
        "### Building vocabularies\n",
        "\n",
        "We now need to build vocabularies that map strings to token ids and vice versa. We're gonna need these fellas when we feed training data into model or convert output matrices into words."
      ],
      "metadata": {
        "id": "0UPW3sV8lrsb"
      }
    },
    {
      "cell_type": "code",
      "source": [
        "data_inp = np.array(open('./train.bpe.ru').read().split('\\n'))\n",
        "data_out = np.array(open('./train.bpe.en').read().split('\\n'))\n",
        "\n",
        "assert len(data_inp) == len(data_out), 'Number of inp & out sequences must be the same'\n",
        "print('Number of sequences: %s' % len(data_inp), end='\\n\\n')\n",
        "\n",
        "from sklearn.model_selection import train_test_split\n",
        "train_inp, dev_inp, train_out, dev_out = train_test_split(data_inp, data_out, test_size=3000,\n",
        "                                                          random_state=42)\n",
        "for i in range(3):\n",
        "    print('inp:', train_inp[i])\n",
        "    print('out:', train_out[i], end='\\n\\n')"
      ],
      "metadata": {
        "id": "8PskgBSxlrsd",
        "outputId": "36935dcc-ebba-4e41-b3e2-143556364914",
        "execution": {
          "iopub.status.busy": "2022-03-06T16:40:32.041847Z",
          "iopub.execute_input": "2022-03-06T16:40:32.042144Z",
          "iopub.status.idle": "2022-03-06T16:40:32.452531Z",
          "shell.execute_reply.started": "2022-03-06T16:40:32.042112Z",
          "shell.execute_reply": "2022-03-06T16:40:32.451825Z"
        },
        "trusted": true,
        "colab": {
          "base_uri": "https://localhost:8080/"
        }
      },
      "execution_count": 4,
      "outputs": [
        {
          "output_type": "stream",
          "name": "stdout",
          "text": [
            "Number of sequences: 50001\n",
            "\n",
            "inp: на территории обустроена бесплатная частная парковка .\n",
            "out: free private parking is available on site .\n",
            "\n",
            "inp: кроме того , в 5 минутах ходьбы работают многочисленные бары и рестораны .\n",
            "out: guests can find many bars and restaurants within a 5 - minute walk .\n",
            "\n",
            "inp: отель san mi@@ gu@@ el расположен в центре мор@@ ели@@ и , в 750 метрах от главной площади города и кафедрального собора .\n",
            "out: hotel san miguel is located in central more@@ lia , 750 metres from the city ’ s main square and cathedral .\n",
            "\n"
          ]
        }
      ]
    },
    {
      "cell_type": "code",
      "source": [
        "inp_voc = Vocab.from_lines(train_inp)\n",
        "out_voc = Vocab.from_lines(train_out)"
      ],
      "metadata": {
        "id": "vipg4O61lrsg",
        "execution": {
          "iopub.status.busy": "2022-03-06T16:40:33.927297Z",
          "iopub.execute_input": "2022-03-06T16:40:33.929431Z",
          "iopub.status.idle": "2022-03-06T16:40:34.374378Z",
          "shell.execute_reply.started": "2022-03-06T16:40:33.929394Z",
          "shell.execute_reply": "2022-03-06T16:40:34.373600Z"
        },
        "trusted": true
      },
      "execution_count": 5,
      "outputs": []
    },
    {
      "cell_type": "code",
      "source": [
        "# Here's how you cast lines into ids and backwards.\n",
        "batch_lines = sorted(train_inp, key=len)[5:10]\n",
        "batch_ids = inp_voc.to_matrix(batch_lines)\n",
        "batch_lines_restored = inp_voc.to_lines(batch_ids)\n",
        "\n",
        "print(\"lines\")\n",
        "print(batch_lines)\n",
        "print(\"\\nwords to ids (0 = bos, 1 = eos):\")\n",
        "print(batch_ids)\n",
        "print(\"\\nback to words\")\n",
        "print(batch_lines_restored)"
      ],
      "metadata": {
        "id": "cwOoHfuhlrsi",
        "outputId": "25f08e5e-aba9-4c27-c44e-e2343978bae0",
        "execution": {
          "iopub.status.busy": "2022-03-06T16:40:35.704836Z",
          "iopub.execute_input": "2022-03-06T16:40:35.705463Z",
          "iopub.status.idle": "2022-03-06T16:40:35.810494Z",
          "shell.execute_reply.started": "2022-03-06T16:40:35.705420Z",
          "shell.execute_reply": "2022-03-06T16:40:35.809695Z"
        },
        "trusted": true,
        "colab": {
          "base_uri": "https://localhost:8080/"
        }
      },
      "execution_count": 6,
      "outputs": [
        {
          "output_type": "stream",
          "name": "stdout",
          "text": [
            "lines\n",
            "['гостевой дом r .', 'до афин — 20 км .', 'работает боулинг .', 'оборудован балкон .', 'подключен wi - fi .']\n",
            "\n",
            "words to ids (0 = bos, 1 = eos):\n",
            "tensor([[   0, 2688, 2943, 1108,   29,    1,    1,    1],\n",
            "        [   0, 2922, 1834, 8035,   59, 3800,   29,    1],\n",
            "        [   0, 6030, 2083,   29,    1,    1,    1,    1],\n",
            "        [   0, 4927, 1870,   29,    1,    1,    1,    1],\n",
            "        [   0, 5549, 1453,   27,  592,   29,    1,    1]])\n",
            "\n",
            "back to words\n",
            "['гостевой дом r .', 'до афин — 20 км .', 'работает боулинг .', 'оборудован балкон .', 'подключен wi - fi .']\n"
          ]
        }
      ]
    },
    {
      "cell_type": "markdown",
      "source": [
        "Draw source and translation length distributions to estimate the scope of the task."
      ],
      "metadata": {
        "id": "gSYu-MkElrsk"
      }
    },
    {
      "cell_type": "code",
      "source": [
        "plt.figure(figsize=[8, 4])\n",
        "plt.subplot(1, 2, 1)\n",
        "plt.title(\"source length\")\n",
        "plt.hist(list(map(len, map(str.split, train_inp))), bins=20);\n",
        "\n",
        "plt.subplot(1, 2, 2)\n",
        "plt.title(\"translation length\")\n",
        "plt.hist(list(map(len, map(str.split, train_out))), bins=20);"
      ],
      "metadata": {
        "id": "TLLl9cSNlrsl",
        "outputId": "2b891028-2857-4543-b97c-24e83b128039",
        "execution": {
          "iopub.status.busy": "2022-03-06T16:40:37.993504Z",
          "iopub.execute_input": "2022-03-06T16:40:37.994244Z",
          "iopub.status.idle": "2022-03-06T16:40:39.113701Z",
          "shell.execute_reply.started": "2022-03-06T16:40:37.994205Z",
          "shell.execute_reply": "2022-03-06T16:40:39.112999Z"
        },
        "trusted": true,
        "colab": {
          "base_uri": "https://localhost:8080/",
          "height": 281
        }
      },
      "execution_count": 7,
      "outputs": [
        {
          "output_type": "display_data",
          "data": {
            "image/png": "[encoded data removed]",
            "text/plain": [
              "<Figure size 576x288 with 2 Axes>"
            ]
          },
          "metadata": {
            "needs_background": "light"
          }
        }
      ]
    },
    {
      "cell_type": "markdown",
      "source": [
        "### Encoder-decoder model\n",
        "\n",
        "The code below contains a template for a simple encoder-decoder model: single GRU encoder/decoder, no attention or anything."
      ],
      "metadata": {
        "id": "BHWgx34flrsn"
      }
    },
    {
      "cell_type": "code",
      "source": [
        "device = 'cuda' if torch.cuda.is_available() else 'cpu'\n",
        "device"
      ],
      "metadata": {
        "id": "pd_rDRm9lrso",
        "outputId": "f01ee12d-998d-4b1f-bf3f-1ad1a0cf82d5",
        "execution": {
          "iopub.status.busy": "2022-03-06T16:40:40.727911Z",
          "iopub.execute_input": "2022-03-06T16:40:40.728874Z",
          "iopub.status.idle": "2022-03-06T16:40:40.757770Z",
          "shell.execute_reply.started": "2022-03-06T16:40:40.728819Z",
          "shell.execute_reply": "2022-03-06T16:40:40.757090Z"
        },
        "trusted": true,
        "colab": {
          "base_uri": "https://localhost:8080/",
          "height": 35
        }
      },
      "execution_count": 8,
      "outputs": [
        {
          "output_type": "execute_result",
          "data": {
            "application/vnd.google.colaboratory.intrinsic+json": {
              "type": "string"
            },
            "text/plain": [
              "'cuda'"
            ]
          },
          "metadata": {},
          "execution_count": 8
        }
      ]
    },
    {
      "cell_type": "code",
      "source": [
        "class BasicModel(nn.Module):\n",
        "    def __init__(self, inp_voc, out_voc, emb_size=64, hid_size=128):\n",
        "        \"\"\"\n",
        "        A simple encoder-decoder seq2seq model\n",
        "        \"\"\"\n",
        "        super().__init__() # initialize base class to track sub-layers, parameters, etc.\n",
        "\n",
        "        self.inp_voc, self.out_voc = inp_voc, out_voc\n",
        "        self.hid_size = hid_size\n",
        "        \n",
        "        self.emb_inp = nn.Embedding(len(inp_voc), emb_size)\n",
        "        self.emb_out = nn.Embedding(len(out_voc), emb_size)\n",
        "        self.enc0 = nn.GRU(emb_size, hid_size, batch_first=True)\n",
        "\n",
        "        self.dec_start = nn.Linear(hid_size, hid_size)\n",
        "        self.dec0 = nn.GRUCell(emb_size, hid_size)\n",
        "        self.logits = nn.Linear(hid_size, len(out_voc))\n",
        "        \n",
        "    def forward(self, inp, out):\n",
        "        \"\"\" Apply model in training mode \"\"\"\n",
        "        initial_state = self.encode(inp)\n",
        "        return self.decode(initial_state, out)\n",
        "\n",
        "\n",
        "    def encode(self, inp, **flags):\n",
        "        \"\"\"\n",
        "        Takes symbolic input sequence, computes initial state\n",
        "        :param inp: matrix of input tokens [batch, time]\n",
        "        :returns: initial decoder state tensors, one or many\n",
        "        \"\"\"\n",
        "        inp_emb = self.emb_inp(inp)\n",
        "        batch_size = inp.shape[0]\n",
        "        \n",
        "        enc_seq, [last_state_but_not_really] = self.enc0(inp_emb)\n",
        "        # enc_seq: [batch, time, hid_size], last_state: [batch, hid_size]\n",
        "        \n",
        "        # note: last_state is not _actually_ last because of padding, let's find the real last_state\n",
        "        lengths = (inp != self.inp_voc.eos_ix).to(torch.int64).sum(dim=1).clamp_max(inp.shape[1] - 1)\n",
        "        last_state = enc_seq[torch.arange(len(enc_seq)), lengths]\n",
        "        # ^-- shape: [batch_size, hid_size]\n",
        "        \n",
        "        dec_start = self.dec_start(last_state)\n",
        "        return [dec_start]\n",
        "\n",
        "    def decode_step(self, prev_state, prev_tokens, **flags):\n",
        "        \"\"\"\n",
        "        Takes previous decoder state and tokens, returns new state and logits for next tokens\n",
        "        :param prev_state: a list of previous decoder state tensors, same as returned by encode(...)\n",
        "        :param prev_tokens: previous output tokens, an int vector of [batch_size]\n",
        "        :return: a list of next decoder state tensors, a tensor of logits [batch, len(out_voc)]\n",
        "        \"\"\"\n",
        "        prev_gru0_state = prev_state[0]\n",
        "        out_emb = self.emb_out(prev_tokens)\n",
        "        \n",
        "        new_dec_state = self.dec0(out_emb, prev_gru0_state)\n",
        "        output_logits = self.logits(new_dec_state)\n",
        "        \n",
        "        return [new_dec_state], output_logits\n",
        "\n",
        "    def decode(self, initial_state, out_tokens, **flags):\n",
        "        \"\"\" Iterate over reference tokens (out_tokens) with decode_step \"\"\"\n",
        "        batch_size = out_tokens.shape[0]\n",
        "        state = initial_state\n",
        "        \n",
        "        # initial logits: always predict BOS\n",
        "        onehot_bos = F.one_hot(torch.full([batch_size], self.out_voc.bos_ix, dtype=torch.int64),\n",
        "                               num_classes=len(self.out_voc)).to(device=out_tokens.device)\n",
        "        first_logits = torch.log(onehot_bos.to(torch.float32) + 1e-9)\n",
        "        \n",
        "        logits_sequence = [first_logits]\n",
        "        for i in range(out_tokens.shape[1] - 1):\n",
        "            state, logits = self.decode_step(state, out_tokens[:, i])\n",
        "            logits_sequence.append(logits)\n",
        "        return torch.stack(logits_sequence, dim=1)\n",
        "\n",
        "    def decode_inference(self, initial_state, max_len=100, **flags):\n",
        "        \"\"\" Generate translations from model (greedy version) \"\"\"\n",
        "        batch_size, device = len(initial_state[0]), initial_state[0].device\n",
        "        state = initial_state\n",
        "        outputs = [torch.full([batch_size], self.out_voc.bos_ix, dtype=torch.int64, \n",
        "                              device=device)]\n",
        "        all_states = [initial_state]\n",
        "\n",
        "        for i in range(max_len):\n",
        "            state, logits = self.decode_step(state, outputs[-1])\n",
        "            outputs.append(logits.argmax(dim=-1))\n",
        "            all_states.append(state)\n",
        "        \n",
        "        return torch.stack(outputs, dim=1), all_states\n",
        "\n",
        "    def translate_lines(self, inp_lines, **kwargs):\n",
        "        inp = self.inp_voc.to_matrix(inp_lines).to(device)\n",
        "        initial_state = self.encode(inp)\n",
        "        out_ids, states = self.decode_inference(initial_state, **kwargs)\n",
        "        return self.out_voc.to_lines(out_ids.cpu().numpy()), states\n"
      ],
      "metadata": {
        "id": "wgfN5-F7lrst",
        "execution": {
          "iopub.status.busy": "2022-03-06T16:40:42.257055Z",
          "iopub.execute_input": "2022-03-06T16:40:42.257816Z",
          "iopub.status.idle": "2022-03-06T16:40:42.280731Z",
          "shell.execute_reply.started": "2022-03-06T16:40:42.257778Z",
          "shell.execute_reply": "2022-03-06T16:40:42.279951Z"
        },
        "trusted": true
      },
      "execution_count": 9,
      "outputs": []
    },
    {
      "cell_type": "code",
      "source": [
        "# debugging area\n",
        "model = BasicModel(inp_voc, out_voc).to(device)\n",
        "\n",
        "dummy_inp_tokens = inp_voc.to_matrix(sorted(train_inp, key=len)[5:10]).to(device)\n",
        "dummy_out_tokens = out_voc.to_matrix(sorted(train_out, key=len)[5:10]).to(device)\n",
        "\n",
        "h0 = model.encode(dummy_inp_tokens)\n",
        "h1, logits1 = model.decode_step(h0, torch.arange(len(dummy_inp_tokens), device=device))\n",
        "\n",
        "assert isinstance(h1, list) and len(h1) == len(h0)\n",
        "assert h1[0].shape == h0[0].shape and not torch.allclose(h1[0], h0[0])\n",
        "assert logits1.shape == (len(dummy_inp_tokens), len(out_voc))\n",
        "\n",
        "logits_seq = model.decode(h0, dummy_out_tokens)\n",
        "assert logits_seq.shape == (dummy_out_tokens.shape[0], dummy_out_tokens.shape[1], len(out_voc))\n",
        "\n",
        "# full forward\n",
        "logits_seq2 = model(dummy_inp_tokens, dummy_out_tokens)\n",
        "assert logits_seq2.shape == logits_seq.shape"
      ],
      "metadata": {
        "id": "nS6gJbjFVCp8",
        "execution": {
          "iopub.status.busy": "2022-03-06T16:40:47.776800Z",
          "iopub.execute_input": "2022-03-06T16:40:47.777514Z",
          "iopub.status.idle": "2022-03-06T16:40:50.246043Z",
          "shell.execute_reply.started": "2022-03-06T16:40:47.777473Z",
          "shell.execute_reply": "2022-03-06T16:40:50.245063Z"
        },
        "trusted": true
      },
      "execution_count": 10,
      "outputs": []
    },
    {
      "cell_type": "code",
      "source": [
        "dummy_translations, dummy_states = model.translate_lines(train_inp[:3], max_len=25)\n",
        "print(\"Translations without training:\")\n",
        "print('\\n'.join([line for line in dummy_translations]))"
      ],
      "metadata": {
        "id": "n8R-cGK_VCp8",
        "outputId": "7956ba95-df77-4394-f0b6-390c52076800",
        "execution": {
          "iopub.status.busy": "2022-03-06T16:40:50.247789Z",
          "iopub.execute_input": "2022-03-06T16:40:50.248091Z",
          "iopub.status.idle": "2022-03-06T16:40:50.261262Z",
          "shell.execute_reply.started": "2022-03-06T16:40:50.248053Z",
          "shell.execute_reply": "2022-03-06T16:40:50.260495Z"
        },
        "trusted": true,
        "colab": {
          "base_uri": "https://localhost:8080/"
        }
      },
      "execution_count": 11,
      "outputs": [
        {
          "output_type": "stream",
          "name": "stdout",
          "text": [
            "Translations without training:\n",
            "med@@ hom@@ mini@@ super super mark@@ cro@@ yoghur@@ bottled ro@@ had elevator 5th kö@@ vie@@ yogur@@ phuket fels sightseeing sightseeing massi@@ nos shine north samui\n",
            "colours in@@ olym@@ hosts ra deposit angan aber@@ sant fine tasty tasty novo apartament aria can dia any they mer@@ ci@@ leg@@ pastries leg@@ ess\n",
            "med@@ swimming lia isab@@ front schiphol bath@@ schiphol aeg@@ ji ufa mystic cinque majestic ro@@ purchas@@ apartament bever@@ fab@@ sche idyl@@ resor@@ wald aren@@ re@@\n"
          ]
        }
      ]
    },
    {
      "cell_type": "markdown",
      "source": [
        "### Training loss \n",
        "Our training objective is almost the same as it was for neural language models:\n",
        "$$ L = {\\frac1{|D|}} \\sum_{X, Y \\in D} \\sum_{y_t \\in Y} - \\log p(y_t \\mid y_1, \\dots, y_{t-1}, X, \\theta) $$\n",
        "\n",
        "where $|D|$ is the __total length of all sequences__, including BOS and first EOS, but excluding PAD."
      ],
      "metadata": {
        "id": "_wuv1-aVlrs0"
      }
    },
    {
      "cell_type": "code",
      "source": [
        "def compute_loss(model, inp, out, **flags):\n",
        "    \"\"\"\n",
        "    Compute loss (float32 scalar) as in the formula above\n",
        "    :param inp: input tokens matrix, int32[batch, time]\n",
        "    :param out: reference tokens matrix, int32[batch, time]\n",
        "    \n",
        "    In order to pass the tests, your function should\n",
        "    * include loss at first EOS but not the subsequent ones\n",
        "    * divide sum of losses by a sum of input lengths (use voc.compute_mask)\n",
        "    \"\"\"\n",
        "    mask = model.out_voc.compute_mask(out) # [batch_size, out_len]\n",
        "    targets_1hot = F.one_hot(out, len(model.out_voc)).to(torch.float32)\n",
        "    \n",
        "    # outputs of the model, [batch_size, out_len, num_tokens]\n",
        "    logits_seq = model(inp, out)\n",
        "\n",
        "    # log-probabilities of all tokens at all steps, [batch_size, out_len, num_tokens]\n",
        "    logprobs_seq = F.log_softmax(logits_seq, dim=-1)\n",
        "   \n",
        "    # log-probabilities of correct outputs, [batch_size, out_len]\n",
        "    logp_out = (logprobs_seq * targets_1hot).sum(dim=-1)\n",
        "    # ^-- this will select the probability of the actual next token.\n",
        "\n",
        "    mask_loss = torch.sum(logp_out * mask)\n",
        "    loss = - mask_loss / torch.sum(mask)\n",
        "\n",
        "    return loss "
      ],
      "metadata": {
        "id": "c8XPV8sWlrs5",
        "scrolled": true,
        "execution": {
          "iopub.status.busy": "2022-03-06T16:41:00.649266Z",
          "iopub.execute_input": "2022-03-06T16:41:00.649538Z",
          "iopub.status.idle": "2022-03-06T16:41:00.656591Z",
          "shell.execute_reply.started": "2022-03-06T16:41:00.649510Z",
          "shell.execute_reply": "2022-03-06T16:41:00.655897Z"
        },
        "trusted": true
      },
      "execution_count": 12,
      "outputs": []
    },
    {
      "cell_type": "code",
      "source": [
        "dummy_loss = compute_loss(model, dummy_inp_tokens, dummy_out_tokens)\n",
        "print(\"Loss:\", dummy_loss)\n",
        "assert np.allclose(dummy_loss.item(), 7.5, rtol=0.1, atol=0.1), \"We're sorry for your loss\"\n",
        "\n",
        "# test autograd\n",
        "dummy_loss.backward()\n",
        "for name, param in model.named_parameters():\n",
        "    assert param.grad is not None and abs(param.grad.max()) != 0, f\"Param {name} received no gradients\""
      ],
      "metadata": {
        "id": "ME_LWUeklrs7",
        "outputId": "8fd6df17-e272-4611-9563-e7507dabc682",
        "execution": {
          "iopub.status.busy": "2022-03-06T16:41:02.456332Z",
          "iopub.execute_input": "2022-03-06T16:41:02.458853Z",
          "iopub.status.idle": "2022-03-06T16:41:02.595595Z",
          "shell.execute_reply.started": "2022-03-06T16:41:02.458807Z",
          "shell.execute_reply": "2022-03-06T16:41:02.594880Z"
        },
        "trusted": true,
        "colab": {
          "base_uri": "https://localhost:8080/"
        }
      },
      "execution_count": 13,
      "outputs": [
        {
          "output_type": "stream",
          "name": "stdout",
          "text": [
            "Loss: tensor(7.5055, device='cuda:0', grad_fn=<DivBackward0>)\n"
          ]
        }
      ]
    },
    {
      "cell_type": "markdown",
      "source": [
        "### Evaluation: BLEU\n",
        "\n",
        "Machine translation is commonly evaluated with [BLEU](https://en.wikipedia.org/wiki/BLEU) score. This metric simply computes which fraction of predicted n-grams is actually present in the reference translation. It does so for n=1,2,3 and 4 and computes the geometric average with penalty if translation is shorter than reference.\n",
        "\n",
        "While BLEU [has many drawbacks](http://www.cs.jhu.edu/~ccb/publications/re-evaluating-the-role-of-bleu-in-mt-research.pdf), it still remains the most commonly used metric and one of the simplest to compute."
      ],
      "metadata": {
        "id": "HpbaBpW7lrs-"
      }
    },
    {
      "cell_type": "code",
      "source": [
        "def compute_bleu(model, inp_lines, out_lines, bpe_sep='@@ ', **flags):\n",
        "    \"\"\"\n",
        "    Estimates corpora-level BLEU score of model's translations given inp and reference out\n",
        "    Note: if you're serious about reporting your results, use https://pypi.org/project/sacrebleu\n",
        "    \"\"\"\n",
        "    with torch.no_grad():\n",
        "        translations, _ = model.translate_lines(inp_lines, **flags)\n",
        "        translations = [line.replace(bpe_sep, '') for line in translations]\n",
        "        actual = [line.replace(bpe_sep, '') for line in out_lines]\n",
        "        return corpus_bleu(\n",
        "            [[ref.split()] for ref in actual],\n",
        "            [trans.split() for trans in translations],\n",
        "            smoothing_function=lambda precisions, **kw: [p + 1.0 / p.denominator for p in precisions]\n",
        "            ) * 100"
      ],
      "metadata": {
        "id": "Gb1-PhKIlrs-",
        "execution": {
          "iopub.status.busy": "2022-03-06T16:41:05.063281Z",
          "iopub.execute_input": "2022-03-06T16:41:05.063976Z",
          "iopub.status.idle": "2022-03-06T16:41:05.070679Z",
          "shell.execute_reply.started": "2022-03-06T16:41:05.063937Z",
          "shell.execute_reply": "2022-03-06T16:41:05.069961Z"
        },
        "trusted": true
      },
      "execution_count": 14,
      "outputs": []
    },
    {
      "cell_type": "code",
      "source": [
        "print('Untrained model BLEU: ', compute_bleu(model, dev_inp, dev_out))"
      ],
      "metadata": {
        "id": "gZvfid1RlrtA",
        "outputId": "668af256-4dab-4780-e8f5-c50544d63ad5",
        "execution": {
          "iopub.status.busy": "2022-03-06T16:41:06.886771Z",
          "iopub.execute_input": "2022-03-06T16:41:06.888878Z",
          "iopub.status.idle": "2022-03-06T16:41:08.888621Z",
          "shell.execute_reply.started": "2022-03-06T16:41:06.888839Z",
          "shell.execute_reply": "2022-03-06T16:41:08.887728Z"
        },
        "trusted": true,
        "colab": {
          "base_uri": "https://localhost:8080/"
        }
      },
      "execution_count": 15,
      "outputs": [
        {
          "output_type": "stream",
          "name": "stdout",
          "text": [
            "Untrained model BLEU:  0.0021518056105784755\n"
          ]
        }
      ]
    },
    {
      "cell_type": "markdown",
      "source": [
        "### Training loop\n",
        "\n",
        "Training encoder-decoder models isn't that different from any other models: sample batches, compute loss, backprop and update"
      ],
      "metadata": {
        "id": "nQDhGwg4lrtC"
      }
    },
    {
      "cell_type": "code",
      "source": [
        "def train_model(model, n_iters=15000, batch_size=64, lr=1e-3):\n",
        "    metrics = {'train_loss': [], 'dev_bleu': [] }\n",
        "    opt = torch.optim.Adam(model.parameters(), lr=1e-3)\n",
        "\n",
        "    for _ in trange(n_iters):\n",
        "        step = len(metrics['train_loss']) + 1\n",
        "        batch_ix = np.random.randint(len(train_inp), size=batch_size)\n",
        "        batch_inp = inp_voc.to_matrix(train_inp[batch_ix]).to(device)\n",
        "        batch_out = out_voc.to_matrix(train_out[batch_ix]).to(device)\n",
        "    \n",
        "        loss_t = compute_loss(model, batch_inp, batch_out)\n",
        "        opt.zero_grad()\n",
        "        loss_t.backward()\n",
        "        opt.step()\n",
        "    \n",
        "        metrics['train_loss'].append((step, loss_t.item()))\n",
        "    \n",
        "        if step % 100 == 0:\n",
        "            metrics['dev_bleu'].append((step, compute_bleu(model, dev_inp, dev_out)))\n",
        "        \n",
        "            clear_output(True)\n",
        "            plt.figure(figsize=(12,4))\n",
        "            for i, (name, history) in enumerate(sorted(metrics.items())):\n",
        "                plt.subplot(1, len(metrics), i + 1)\n",
        "                plt.title(name)\n",
        "                plt.plot(*zip(*history))\n",
        "                plt.grid()\n",
        "            plt.show()\n",
        "\n",
        "            print(\"Mean loss=%.3f\" % np.mean(metrics['train_loss'][-10:], axis=0)[1], flush=True)\n",
        "    return metrics"
      ],
      "metadata": {
        "id": "z8P8s_iiQ5Qp",
        "execution": {
          "iopub.status.busy": "2022-03-06T16:41:26.832857Z",
          "iopub.execute_input": "2022-03-06T16:41:26.833507Z",
          "iopub.status.idle": "2022-03-06T16:41:26.843780Z",
          "shell.execute_reply.started": "2022-03-06T16:41:26.833454Z",
          "shell.execute_reply": "2022-03-06T16:41:26.842774Z"
        },
        "trusted": true
      },
      "execution_count": 16,
      "outputs": []
    },
    {
      "cell_type": "code",
      "source": [
        "basic_model = BasicModel(inp_voc, out_voc).to(device)\n",
        "%time metric = train_model(basic_model, batch_size=128, lr=1e-3*5)"
      ],
      "metadata": {
        "id": "yfwIaixHlrtI",
        "outputId": "53f1f00e-6429-45d0-da5c-1acac81509bb",
        "execution": {
          "iopub.status.busy": "2022-03-06T16:41:28.944087Z",
          "iopub.execute_input": "2022-03-06T16:41:28.944736Z",
          "iopub.status.idle": "2022-03-06T16:56:55.876944Z",
          "shell.execute_reply.started": "2022-03-06T16:41:28.944700Z",
          "shell.execute_reply": "2022-03-06T16:56:55.876241Z"
        },
        "trusted": true,
        "colab": {
          "base_uri": "https://localhost:8080/",
          "height": 350
        }
      },
      "execution_count": 17,
      "outputs": [
        {
          "output_type": "display_data",
          "data": {
            "image/png": "[encoded data removed]",
            "text/plain": [
              "<Figure size 864x288 with 2 Axes>"
            ]
          },
          "metadata": {
            "needs_background": "light"
          }
        },
        {
          "output_type": "stream",
          "name": "stdout",
          "text": [
            "Mean loss=1.600\n"
          ]
        },
        {
          "output_type": "stream",
          "name": "stderr",
          "text": [
            "100%|██████████| 15000/15000 [41:58<00:00,  5.96it/s]"
          ]
        },
        {
          "output_type": "stream",
          "name": "stdout",
          "text": [
            "CPU times: user 36min 23s, sys: 5min 40s, total: 42min 3s\n",
            "Wall time: 41min 58s\n"
          ]
        },
        {
          "output_type": "stream",
          "name": "stderr",
          "text": [
            "\n"
          ]
        }
      ]
    },
    {
      "cell_type": "code",
      "source": [
        "for inp_line, trans_line in zip(dev_inp[::500], basic_model.translate_lines(dev_inp[::500])[0]):\n",
        "    print(inp_line)\n",
        "    print(trans_line)\n",
        "    print()"
      ],
      "metadata": {
        "id": "KyaHOpealrtS",
        "outputId": "533cb51d-6dd4-4498-ac34-b11c9dba8df0",
        "execution": {
          "iopub.status.busy": "2022-03-06T16:58:08.643655Z",
          "iopub.execute_input": "2022-03-06T16:58:08.644344Z",
          "iopub.status.idle": "2022-03-06T16:58:08.671564Z",
          "shell.execute_reply.started": "2022-03-06T16:58:08.644285Z",
          "shell.execute_reply": "2022-03-06T16:58:08.670870Z"
        },
        "trusted": true,
        "colab": {
          "base_uri": "https://localhost:8080/"
        }
      },
      "execution_count": 18,
      "outputs": [
        {
          "output_type": "stream",
          "name": "stdout",
          "text": [
            "в распоряжении гостей общая кухня и общая гостиная .\n",
            "there is a shared kitchen and a dining area .\n",
            "\n",
            "кроме того , предоставляется прокат велосипедов , услуги трансфера и бесплатная парковка .\n",
            "other facilities offered include a bicycle rental bikes , free and bicycle rental .\n",
            "\n",
            "расстояние до города ки@@ сси@@ м@@ ми составляет 26 км .\n",
            "alushta is 26 km from the property .\n",
            "\n",
            "апартаменты в пент@@ хаусе с общим открытым бассейном , садом , кондиционером и террасой для загара расположены в 5 минутах ходьбы от пляжа на курорте ка@@ бо - рой .\n",
            "set in a 5 - minute walk from the beach , this air - conditioned apartment features a terrace and a garden .\n",
            "\n",
            "апартаменты mo@@ s@@ co@@ w point - loft red square находятся в москве , в 200 метрах от большого театра .\n",
            "apartamenty malin@@ di mare is a self - catering accommodation located in the centre of minsk , while the vá@@ t vá@@ 4 is 700 metres from the property .\n",
            "\n",
            "в вашем распоряжении собственная ванная комната с душем и полотенцами .\n",
            "featuring a shower , private bathrooms also come with towels .\n",
            "\n"
          ]
        }
      ]
    },
    {
      "cell_type": "code",
      "source": [
        "print('Current BLEU: ', compute_bleu(basic_model, dev_inp, dev_out))"
      ],
      "metadata": {
        "colab": {
          "base_uri": "https://localhost:8080/"
        },
        "id": "ok0EKl6Y6eKB",
        "outputId": "9e885739-30e9-46d7-a69e-1c248de5f39a"
      },
      "execution_count": 27,
      "outputs": [
        {
          "output_type": "stream",
          "name": "stdout",
          "text": [
            "Current BLEU:  17.654375789151473\n"
          ]
        }
      ]
    },
    {
      "cell_type": "markdown",
      "source": [
        "### **Subtotal:** simple Encoder-decoder model takes `BLEU = 17.65`, but quality of translation is bad"
      ],
      "metadata": {
        "id": "sbsoaBeTaLjd"
      }
    },
    {
      "cell_type": "markdown",
      "source": [
        "# Attention!"
      ],
      "metadata": {
        "id": "Tv0s8qxOXp5y"
      }
    },
    {
      "cell_type": "markdown",
      "source": [
        "### Your Attention Required\n",
        "\n",
        "Need to improve over the basic model by implementing a simple attention mechanism.\n",
        "\n",
        "This is gonna be a two-parter: building the __attention layer__ and using it for an __attentive seq2seq model__."
      ],
      "metadata": {
        "id": "edk_oVg0lrtW"
      }
    },
    {
      "cell_type": "markdown",
      "source": [
        "### Attention layer\n",
        "\n",
        "Here you will have to implement a layer that computes a simple additive attention:\n",
        "\n",
        "Given encoder sequence $ h^e_0, h^e_1, h^e_2, ..., h^e_T$ and a single decoder state $h^d$,\n",
        "\n",
        "* Compute logits with a 2-layer neural network\n",
        "$$a_t = linear_{out}(tanh(linear_{e}(h^e_t) + linear_{d}(h_d)))$$\n",
        "* Get probabilities from logits, \n",
        "$$ p_t = {{e ^ {a_t}} \\over { \\sum_\\tau e^{a_\\tau} }} $$\n",
        "\n",
        "* Add up encoder states with probabilities to get __attention response__\n",
        "$$ attn = \\sum_t p_t \\cdot h^e_t $$\n",
        "\n",
        "You can learn more about attention layers in the lecture slides or [from this post](https://distill.pub/2016/augmented-rnns/)."
      ],
      "metadata": {
        "id": "Qz9aROAIlrtX"
      }
    },
    {
      "cell_type": "code",
      "source": [
        "class AttentionLayer(nn.Module):\n",
        "    def __init__(self, name, enc_size, dec_size, hid_size, activ=torch.tanh):\n",
        "        \"\"\" A layer that computes additive attention response and weights \"\"\"\n",
        "        super().__init__()\n",
        "        self.name = name\n",
        "        self.enc_size = enc_size # num units in encoder state\n",
        "        self.dec_size = dec_size # num units in decoder state\n",
        "        self.hid_size = hid_size # attention layer hidden units\n",
        "        self.activ = activ       # attention layer hidden nonlinearity\n",
        "\n",
        "        self.linear1 = nn.Linear(enc_size, hid_size)\n",
        "        self.linear2 = nn.Linear(dec_size, hid_size)\n",
        "        self.linear3 = nn.Linear(hid_size, 1)\n",
        "        \n",
        "\n",
        "    def forward(self, enc, dec, inp_mask):\n",
        "        \"\"\"\n",
        "        Computes attention response and weights\n",
        "        :param enc: encoder activation sequence, float32[batch_size, ninp, enc_size]\n",
        "        :param dec: single decoder state used as \"query\", float32[batch_size, dec_size]\n",
        "        :param inp_mask: mask on enc activatons (0 after first eos), float32 [batch_size, ninp]\n",
        "        :returns: attn[batch_size, enc_size], probs[batch_size, ninp]\n",
        "            - attn - attention response vector (weighted sum of enc)\n",
        "            - probs - attention weights after softmax\n",
        "        \"\"\"\n",
        "        # Compute logits\n",
        "        batch_size, n_inp, enc_size = enc.shape\n",
        "\n",
        "        tmp = self.linear2(dec)\n",
        "        tmp = tmp.reshape(-1, 1, self.hid_size)\n",
        "        \n",
        "        logits = self.linear1(enc)\n",
        "        logits = self.activ(logits + tmp)\n",
        "        logits = self.linear3(logits)\n",
        "\n",
        "        # Apply mask - if mask is 0, logits should be -inf or -1e9\n",
        "        logits[torch.where(inp_mask == False)] = -1e9\n",
        "\n",
        "        # Compute attention probabilities (softmax)\n",
        "        probs = F.softmax(logits.reshape(batch_size, n_inp), dim=-1)\n",
        "\n",
        "        # Compute attention response using enc and probs\n",
        "        attn = (probs.reshape(batch_size, n_inp, 1) * enc).sum(axis=1)\n",
        "\n",
        "        return attn, probs"
      ],
      "metadata": {
        "id": "8FUbgXJ9VCp_",
        "execution": {
          "iopub.status.busy": "2022-03-06T16:58:23.863872Z",
          "iopub.execute_input": "2022-03-06T16:58:23.864154Z",
          "iopub.status.idle": "2022-03-06T16:58:23.875387Z",
          "shell.execute_reply.started": "2022-03-06T16:58:23.864122Z",
          "shell.execute_reply": "2022-03-06T16:58:23.873903Z"
        },
        "trusted": true
      },
      "execution_count": 20,
      "outputs": []
    },
    {
      "cell_type": "markdown",
      "source": [
        "### Seq2seq model with attention \n",
        "\n",
        "You can now use the attention layer to build a network. The simplest way to implement attention is to use it in decoder phase:\n",
        "![img](https://i.imgur.com/6fKHlHb.png)\n",
        "_image from distill.pub [article](https://distill.pub/2016/augmented-rnns/)_\n",
        "\n",
        "On every step, use __previous__ decoder state to obtain attention response. Then feed concat this response to the inputs of next attention layer.\n",
        "\n",
        "The key implementation detail here is __model state__. Put simply, you can add any tensor into the list of `encode` outputs. You will then have access to them at each `decode` step. This may include:\n",
        "* Last RNN hidden states (as in basic model)\n",
        "* The whole sequence of encoder outputs (to attend to) and mask\n",
        "* Attention probabilities (to visualize)\n",
        "\n"
      ],
      "metadata": {
        "id": "IalfpdAelrtb"
      }
    },
    {
      "cell_type": "code",
      "source": [
        "class AttentiveModel(BasicModel):\n",
        "    def __init__(self, inp_voc, out_voc,\n",
        "                 emb_size=256, hid_size=256, attn_size=256):\n",
        "        \"\"\" Translation model that uses attention. See instructions above. \"\"\"\n",
        "        super().__init__(inp_voc, out_voc, emb_size, hid_size)\n",
        "        self.inp_voc, self.out_voc = inp_voc, out_voc\n",
        "        self.hid_size = hid_size\n",
        "        \n",
        "        self.attention = AttentionLayer('Attn', hid_size, hid_size, attn_size)\n",
        "        self.dec0 = nn.GRUCell(emb_size + hid_size, hid_size)\n",
        "\n",
        "    def encode(self, inp, **flags):\n",
        "        \"\"\"\n",
        "        Takes symbolic input sequence, computes initial state\n",
        "        :param inp: matrix of input tokens [batch, time]\n",
        "        :return: a list of initial decoder state tensors\n",
        "        \"\"\"\n",
        "        # encode input sequence, create initial decoder states\n",
        "        inp_emb = self.emb_inp(inp)\n",
        "        enc_seq, last_state_but_not_really = self.enc0(inp_emb)\n",
        "\n",
        "        enc_mask = self.out_voc.compute_mask(inp)\n",
        "        [dec_start] = super().encode(inp, *flags)\n",
        "        \n",
        "        # apply attention layer from initial decoder hidden state\n",
        "        first_attn_probas = self.attention(enc_seq, dec_start, enc_mask)[1]\n",
        "        \n",
        "        first_state = [dec_start, enc_seq, enc_mask, first_attn_probas]\n",
        "        return first_state\n",
        "   \n",
        "    def decode_step(self, prev_state, prev_tokens, **flags):\n",
        "        \"\"\"\n",
        "        Takes previous decoder state and tokens, returns new state and logits for next tokens\n",
        "        :param prev_state: a list of previous decoder state tensors\n",
        "        :param prev_tokens: previous output tokens, an int vector of [batch_size]\n",
        "        :return: a list of next decoder state tensors, a tensor of logits [batch, n_tokens]\n",
        "        \"\"\"\n",
        "        x = self.emb_out(prev_tokens)\n",
        "        \n",
        "        prev_gru0_state, enc_seq, enc_mask, _ = prev_state\n",
        "        attn, attn_prob = self.attention(enc_seq, prev_gru0_state, enc_mask)\n",
        "        \n",
        "        assert len(x.shape) == 2 and len(attn.shape) == 2\n",
        "\n",
        "        x = torch.cat([attn, x], dim=-1)\n",
        "        x = self.dec0(x, prev_gru0_state)\n",
        "\n",
        "        new_dec_state = [x, enc_seq, enc_mask, attn_prob]\n",
        "        output_logits = self.logits(x)\n",
        "\n",
        "        return new_dec_state, output_logits"
      ],
      "metadata": {
        "id": "NCKPB5JmcE6j",
        "execution": {
          "iopub.status.busy": "2022-03-06T16:58:31.245948Z",
          "iopub.execute_input": "2022-03-06T16:58:31.246695Z",
          "iopub.status.idle": "2022-03-06T16:58:31.258598Z",
          "shell.execute_reply.started": "2022-03-06T16:58:31.246657Z",
          "shell.execute_reply": "2022-03-06T16:58:31.257877Z"
        },
        "trusted": true
      },
      "execution_count": 21,
      "outputs": []
    },
    {
      "cell_type": "markdown",
      "source": [
        "### Training attentive model\n"
      ],
      "metadata": {
        "id": "ryZCOTEslrtf"
      }
    },
    {
      "cell_type": "code",
      "source": [
        "attentive_model = AttentiveModel(inp_voc, out_voc).to(device)\n",
        "%time metric = train_model(attentive_model, batch_size=64, lr=1e-3)"
      ],
      "metadata": {
        "id": "-YMHPgZxcFaQ",
        "execution": {
          "iopub.status.busy": "2022-03-06T16:58:45.216022Z",
          "iopub.execute_input": "2022-03-06T16:58:45.216636Z",
          "iopub.status.idle": "2022-03-06T17:31:31.518172Z",
          "shell.execute_reply.started": "2022-03-06T16:58:45.216597Z",
          "shell.execute_reply": "2022-03-06T17:31:31.517404Z"
        },
        "trusted": true,
        "colab": {
          "base_uri": "https://localhost:8080/",
          "height": 350
        },
        "outputId": "eb853fbb-1d13-4a1f-a52a-90411030b242"
      },
      "execution_count": 22,
      "outputs": [
        {
          "output_type": "display_data",
          "data": {
            "image/png": "[encoded data removed]",
            "text/plain": [
              "<Figure size 864x288 with 2 Axes>"
            ]
          },
          "metadata": {
            "needs_background": "light"
          }
        },
        {
          "output_type": "stream",
          "name": "stdout",
          "text": [
            "Mean loss=0.508\n"
          ]
        },
        {
          "output_type": "stream",
          "name": "stderr",
          "text": [
            "100%|██████████| 15000/15000 [1:33:43<00:00,  2.67it/s]"
          ]
        },
        {
          "output_type": "stream",
          "name": "stdout",
          "text": [
            "CPU times: user 1h 33min 12s, sys: 36 s, total: 1h 33min 48s\n",
            "Wall time: 1h 33min 43s\n"
          ]
        },
        {
          "output_type": "stream",
          "name": "stderr",
          "text": [
            "\n"
          ]
        }
      ]
    },
    {
      "cell_type": "code",
      "source": [
        "print(\"Current BLEU: \", compute_bleu(attentive_model, dev_inp, dev_out))"
      ],
      "metadata": {
        "colab": {
          "base_uri": "https://localhost:8080/"
        },
        "id": "non9kasB6ttb",
        "outputId": "92a557ea-033e-4b9d-d838-f8cb0129319a"
      },
      "execution_count": 28,
      "outputs": [
        {
          "output_type": "stream",
          "name": "stdout",
          "text": [
            "Current BLEU:  23.07034582761037\n"
          ]
        }
      ]
    },
    {
      "cell_type": "markdown",
      "source": [
        "### Attentive model gets `BLEU = 23`, it is significantly better then simple model. Translation is better too."
      ],
      "metadata": {
        "id": "2-zpyYSEaLjf"
      }
    },
    {
      "cell_type": "markdown",
      "source": [
        "### Visualizing model attention\n",
        "\n",
        "After training the attentive translation model, you can check it's sanity by visualizing its attention weights.\n",
        "\n",
        "We provided you with a function that draws attention maps using [`Bokeh`](https://bokeh.pydata.org/en/latest/index.html). Once you managed to produce something better than random noise, please save at least 3 attention maps and __submit them to anytask__ alongside this notebook to get the max grade. Saving bokeh figures as __cell outputs is not enough!__ (TAs can't see saved bokeh figures in anytask). You can save bokeh images as screenshots or using this button:\n",
        "\n",
        "![bokeh_panel](https://github.com/yandexdataschool/nlp_course/raw/2019/resources/bokeh_panel.png)\n",
        "\n",
        "__Note:__ you're not locked into using bokeh. If you prefer a different visualization method, feel free to use that instead of bokeh."
      ],
      "metadata": {
        "id": "5bApEu7iVCqB"
      }
    },
    {
      "cell_type": "code",
      "source": [
        "import bokeh.plotting as pl\n",
        "import bokeh.models as bm\n",
        "from bokeh.io import output_notebook, show\n",
        "output_notebook()\n",
        "\n",
        "def draw_attention(inp_line, translation, probs):\n",
        "    \"\"\" An intentionally ambiguous function to visualize attention weights \"\"\"\n",
        "    inp_tokens = inp_voc.tokenize(inp_line)\n",
        "    trans_tokens = out_voc.tokenize(translation)\n",
        "    probs = probs[:len(trans_tokens), :len(inp_tokens)]\n",
        "    \n",
        "    fig = pl.figure(x_range=(0, len(inp_tokens)), y_range=(0, len(trans_tokens)),\n",
        "                    x_axis_type=None, y_axis_type=None, tools=[])\n",
        "    fig.image([probs[::-1]], 0, 0, len(inp_tokens), len(trans_tokens))\n",
        "\n",
        "    fig.add_layout(bm.LinearAxis(axis_label='source tokens'), 'above')\n",
        "    fig.xaxis.ticker = np.arange(len(inp_tokens)) + 0.5\n",
        "    fig.xaxis.major_label_overrides = dict(zip(np.arange(len(inp_tokens)) + 0.5, inp_tokens))\n",
        "    fig.xaxis.major_label_orientation = 45\n",
        "\n",
        "    fig.add_layout(bm.LinearAxis(axis_label='translation tokens'), 'left')\n",
        "    fig.yaxis.ticker = np.arange(len(trans_tokens)) + 0.5\n",
        "    fig.yaxis.major_label_overrides = dict(zip(np.arange(len(trans_tokens)) + 0.5, trans_tokens[::-1]))\n",
        "\n",
        "    show(fig)"
      ],
      "metadata": {
        "id": "w2uofckEVCqB",
        "execution": {
          "iopub.status.busy": "2022-03-06T17:37:02.111848Z",
          "iopub.execute_input": "2022-03-06T17:37:02.112147Z",
          "iopub.status.idle": "2022-03-06T17:37:02.133222Z",
          "shell.execute_reply.started": "2022-03-06T17:37:02.112113Z",
          "shell.execute_reply": "2022-03-06T17:37:02.132227Z"
        },
        "trusted": true
      },
      "execution_count": 24,
      "outputs": []
    },
    {
      "cell_type": "code",
      "source": [
        "inp = dev_inp[::500]\n",
        "\n",
        "trans, states = attentive_model.translate_lines(inp)\n",
        "\n",
        "# select attention probs from model state (you may need to change this for your custom model)\n",
        "# attention_probs below must have shape [batch_size, translation_length, input_length], extracted from states\n",
        "# e.g. if attention probs are at the end of each state, use np.stack([state[-1] for state in states], axis=1)\n",
        "attention_probs = np.stack([state[-1].detach().cpu().numpy() for state in states], axis=1)"
      ],
      "metadata": {
        "id": "upUU96QaVCqB",
        "execution": {
          "iopub.status.busy": "2022-03-06T17:37:07.789284Z",
          "iopub.execute_input": "2022-03-06T17:37:07.789539Z",
          "iopub.status.idle": "2022-03-06T17:37:07.862248Z",
          "shell.execute_reply.started": "2022-03-06T17:37:07.789511Z",
          "shell.execute_reply": "2022-03-06T17:37:07.861577Z"
        },
        "trusted": true
      },
      "execution_count": 25,
      "outputs": []
    },
    {
      "cell_type": "code",
      "source": [
        "for i in range(5):\n",
        "    draw_attention(inp[i], trans[i], attention_probs[i])\n",
        "    "
      ],
      "metadata": {
        "id": "mPK6kU4TVCqB",
        "execution": {
          "iopub.status.busy": "2022-03-06T17:37:17.803870Z",
          "iopub.execute_input": "2022-03-06T17:37:17.804474Z",
          "iopub.status.idle": "2022-03-06T17:37:18.026366Z",
          "shell.execute_reply.started": "2022-03-06T17:37:17.804438Z",
          "shell.execute_reply": "2022-03-06T17:37:18.025581Z"
        },
        "trusted": true,
        "colab": {
          "base_uri": "https://localhost:8080/",
          "height": 1000
        },
        "outputId": "92c3bc59-401d-499f-bfa9-a0e4fe4d25ea"
      },
      "execution_count": 26,
      "outputs": [
        {
          "output_type": "display_data",
          "data": {
            "application/javascript": [
              "\n",
              "(function(root) {\n",
              "  function now() {\n",
              "    return new Date();\n",
              "  }\n",
              "\n",
              "  var force = true;\n",
              "\n",
              "  if (typeof root._bokeh_onload_callbacks === \"undefined\" || force === true) {\n",
              "    root._bokeh_onload_callbacks = [];\n",
              "    root._bokeh_is_loading = undefined;\n",
              "  }\n",
              "\n",
              "  var JS_MIME_TYPE = 'application/javascript';\n",
              "  var HTML_MIME_TYPE = 'text/html';\n",
              "  var EXEC_MIME_TYPE = 'application/vnd.bokehjs_exec.v0+json';\n",
              "  var CLASS_NAME = 'output_bokeh rendered_html';\n",
              "\n",
              "  /**\n",
              "   * Render data to the DOM node\n",
              "   */\n",
              "  function render(props, node) {\n",
              "    var script = document.createElement(\"script\");\n",
              "    node.appendChild(script);\n",
              "  }\n",
              "\n",
              "  /**\n",
              "   * Handle when an output is cleared or removed\n",
              "   */\n",
              "  function handleClearOutput(event, handle) {\n",
              "    var cell = handle.cell;\n",
              "\n",
              "    var id = cell.output_area._bokeh_element_id;\n",
              "    var server_id = cell.output_area._bokeh_server_id;\n",
              "    // Clean up Bokeh references\n",
              "    if (id != null && id in Bokeh.index) {\n",
              "      Bokeh.index[id].model.document.clear();\n",
              "      delete Bokeh.index[id];\n",
              "    }\n",
              "\n",
              "    if (server_id !== undefined) {\n",
              "      // Clean up Bokeh references\n",
              "      var cmd = \"from bokeh.io.state import curstate; print(curstate().uuid_to_server['\" + server_id + \"'].get_sessions()[0].document.roots[0]._id)\";\n",
              "      cell.notebook.kernel.execute(cmd, {\n",
              "        iopub: {\n",
              "          output: function(msg) {\n",
              "            var id = msg.content.text.trim();\n",
              "            if (id in Bokeh.index) {\n",
              "              Bokeh.index[id].model.document.clear();\n",
              "              delete Bokeh.index[id];\n",
              "            }\n",
              "          }\n",
              "        }\n",
              "      });\n",
              "      // Destroy server and session\n",
              "      var cmd = \"import bokeh.io.notebook as ion; ion.destroy_server('\" + server_id + \"')\";\n",
              "      cell.notebook.kernel.execute(cmd);\n",
              "    }\n",
              "  }\n",
              "\n",
              "  /**\n",
              "   * Handle when a new output is added\n",
              "   */\n",
              "  function handleAddOutput(event, handle) {\n",
              "    var output_area = handle.output_area;\n",
              "    var output = handle.output;\n",
              "\n",
              "    // limit handleAddOutput to display_data with EXEC_MIME_TYPE content only\n",
              "    if ((output.output_type != \"display_data\") || (!Object.prototype.hasOwnProperty.call(output.data, EXEC_MIME_TYPE))) {\n",
              "      return\n",
              "    }\n",
              "\n",
              "    var toinsert = output_area.element.find(\".\" + CLASS_NAME.split(' ')[0]);\n",
              "\n",
              "    if (output.metadata[EXEC_MIME_TYPE][\"id\"] !== undefined) {\n",
              "      toinsert[toinsert.length - 1].firstChild.textContent = output.data[JS_MIME_TYPE];\n",
              "      // store reference to embed id on output_area\n",
              "      output_area._bokeh_element_id = output.metadata[EXEC_MIME_TYPE][\"id\"];\n",
              "    }\n",
              "    if (output.metadata[EXEC_MIME_TYPE][\"server_id\"] !== undefined) {\n",
              "      var bk_div = document.createElement(\"div\");\n",
              "      bk_div.innerHTML = output.data[HTML_MIME_TYPE];\n",
              "      var script_attrs = bk_div.children[0].attributes;\n",
              "      for (var i = 0; i < script_attrs.length; i++) {\n",
              "        toinsert[toinsert.length - 1].firstChild.setAttribute(script_attrs[i].name, script_attrs[i].value);\n",
              "        toinsert[toinsert.length - 1].firstChild.textContent = bk_div.children[0].textContent\n",
              "      }\n",
              "      // store reference to server id on output_area\n",
              "      output_area._bokeh_server_id = output.metadata[EXEC_MIME_TYPE][\"server_id\"];\n",
              "    }\n",
              "  }\n",
              "\n",
              "  function register_renderer(events, OutputArea) {\n",
              "\n",
              "    function append_mime(data, metadata, element) {\n",
              "      // create a DOM node to render to\n",
              "      var toinsert = this.create_output_subarea(\n",
              "        metadata,\n",
              "        CLASS_NAME,\n",
              "        EXEC_MIME_TYPE\n",
              "      );\n",
              "      this.keyboard_manager.register_events(toinsert);\n",
              "      // Render to node\n",
              "      var props = {data: data, metadata: metadata[EXEC_MIME_TYPE]};\n",
              "      render(props, toinsert[toinsert.length - 1]);\n",
              "      element.append(toinsert);\n",
              "      return toinsert\n",
              "    }\n",
              "\n",
              "    /* Handle when an output is cleared or removed */\n",
              "    events.on('clear_output.CodeCell', handleClearOutput);\n",
              "    events.on('delete.Cell', handleClearOutput);\n",
              "\n",
              "    /* Handle when a new output is added */\n",
              "    events.on('output_added.OutputArea', handleAddOutput);\n",
              "\n",
              "    /**\n",
              "     * Register the mime type and append_mime function with output_area\n",
              "     */\n",
              "    OutputArea.prototype.register_mime_type(EXEC_MIME_TYPE, append_mime, {\n",
              "      /* Is output safe? */\n",
              "      safe: true,\n",
              "      /* Index of renderer in `output_area.display_order` */\n",
              "      index: 0\n",
              "    });\n",
              "  }\n",
              "\n",
              "  // register the mime type if in Jupyter Notebook environment and previously unregistered\n",
              "  if (root.Jupyter !== undefined) {\n",
              "    var events = require('base/js/events');\n",
              "    var OutputArea = require('notebook/js/outputarea').OutputArea;\n",
              "\n",
              "    if (OutputArea.prototype.mime_types().indexOf(EXEC_MIME_TYPE) == -1) {\n",
              "      register_renderer(events, OutputArea);\n",
              "    }\n",
              "  }\n",
              "\n",
              "  \n",
              "  if (typeof (root._bokeh_timeout) === \"undefined\" || force === true) {\n",
              "    root._bokeh_timeout = Date.now() + 5000;\n",
              "    root._bokeh_failed_load = false;\n",
              "  }\n",
              "\n",
              "  var NB_LOAD_WARNING = {'data': {'text/html':\n",
              "     \"<div style='background-color: #fdd'>\\n\"+\n",
              "     \"<p>\\n\"+\n",
              "     \"BokehJS does not appear to have successfully loaded. If loading BokehJS from CDN, this \\n\"+\n",
              "     \"may be due to a slow or bad network connection. Possible fixes:\\n\"+\n",
              "     \"</p>\\n\"+\n",
              "     \"<ul>\\n\"+\n",
              "     \"<li>re-rerun `output_notebook()` to attempt to load from CDN again, or</li>\\n\"+\n",
              "     \"<li>use INLINE resources instead, as so:</li>\\n\"+\n",
              "     \"</ul>\\n\"+\n",
              "     \"<code>\\n\"+\n",
              "     \"from bokeh.resources import INLINE\\n\"+\n",
              "     \"output_notebook(resources=INLINE)\\n\"+\n",
              "     \"</code>\\n\"+\n",
              "     \"</div>\"}};\n",
              "\n",
              "  function display_loaded() {\n",
              "    var el = document.getElementById(null);\n",
              "    if (el != null) {\n",
              "      el.textContent = \"BokehJS is loading...\";\n",
              "    }\n",
              "    if (root.Bokeh !== undefined) {\n",
              "      if (el != null) {\n",
              "        el.textContent = \"BokehJS \" + root.Bokeh.version + \" successfully loaded.\";\n",
              "      }\n",
              "    } else if (Date.now() < root._bokeh_timeout) {\n",
              "      setTimeout(display_loaded, 100)\n",
              "    }\n",
              "  }\n",
              "\n",
              "\n",
              "  function run_callbacks() {\n",
              "    try {\n",
              "      root._bokeh_onload_callbacks.forEach(function(callback) {\n",
              "        if (callback != null)\n",
              "          callback();\n",
              "      });\n",
              "    } finally {\n",
              "      delete root._bokeh_onload_callbacks\n",
              "    }\n",
              "    console.debug(\"Bokeh: all callbacks have finished\");\n",
              "  }\n",
              "\n",
              "  function load_libs(css_urls, js_urls, callback) {\n",
              "    if (css_urls == null) css_urls = [];\n",
              "    if (js_urls == null) js_urls = [];\n",
              "\n",
              "    root._bokeh_onload_callbacks.push(callback);\n",
              "    if (root._bokeh_is_loading > 0) {\n",
              "      console.debug(\"Bokeh: BokehJS is being loaded, scheduling callback at\", now());\n",
              "      return null;\n",
              "    }\n",
              "    if (js_urls == null || js_urls.length === 0) {\n",
              "      run_callbacks();\n",
              "      return null;\n",
              "    }\n",
              "    console.debug(\"Bokeh: BokehJS not loaded, scheduling load and callback at\", now());\n",
              "    root._bokeh_is_loading = css_urls.length + js_urls.length;\n",
              "\n",
              "    function on_load() {\n",
              "      root._bokeh_is_loading--;\n",
              "      if (root._bokeh_is_loading === 0) {\n",
              "        console.debug(\"Bokeh: all BokehJS libraries/stylesheets loaded\");\n",
              "        run_callbacks()\n",
              "      }\n",
              "    }\n",
              "\n",
              "    function on_error(url) {\n",
              "      console.error(\"failed to load \" + url);\n",
              "    }\n",
              "\n",
              "    for (let i = 0; i < css_urls.length; i++) {\n",
              "      const url = css_urls[i];\n",
              "      const element = document.createElement(\"link\");\n",
              "      element.onload = on_load;\n",
              "      element.onerror = on_error.bind(null, url);\n",
              "      element.rel = \"stylesheet\";\n",
              "      element.type = \"text/css\";\n",
              "      element.href = url;\n",
              "      console.debug(\"Bokeh: injecting link tag for BokehJS stylesheet: \", url);\n",
              "      document.body.appendChild(element);\n",
              "    }\n",
              "\n",
              "    const hashes = {\"https://cdn.bokeh.org/bokeh/release/bokeh-2.3.3.min.js\": \"dM3QQsP+wXdHg42wTqW85BjZQdLNNIXqlPw/BgKoExPmTG7ZLML4EGqLMfqHT6ON\", \"https://cdn.bokeh.org/bokeh/release/bokeh-tables-2.3.3.min.js\": \"8x57I4YuIfu8XyZfFo0XVr2WAT8EK4rh/uDe3wF7YuW2FNUSNEpJbsPaB1nJ2fz2\", \"https://cdn.bokeh.org/bokeh/release/bokeh-widgets-2.3.3.min.js\": \"3QTqdz9LyAm2i0sG5XTePsHec3UHWwVsrOL68SYRoAXsafvfAyqtQ+h440+qIBhS\"};\n",
              "\n",
              "    for (let i = 0; i < js_urls.length; i++) {\n",
              "      const url = js_urls[i];\n",
              "      const element = document.createElement('script');\n",
              "      element.onload = on_load;\n",
              "      element.onerror = on_error.bind(null, url);\n",
              "      element.async = false;\n",
              "      element.src = url;\n",
              "      if (url in hashes) {\n",
              "        element.crossOrigin = \"anonymous\";\n",
              "        element.integrity = \"sha384-\" + hashes[url];\n",
              "      }\n",
              "      console.debug(\"Bokeh: injecting script tag for BokehJS library: \", url);\n",
              "      document.head.appendChild(element);\n",
              "    }\n",
              "  };\n",
              "\n",
              "  function inject_raw_css(css) {\n",
              "    const element = document.createElement(\"style\");\n",
              "    element.appendChild(document.createTextNode(css));\n",
              "    document.body.appendChild(element);\n",
              "  }\n",
              "\n",
              "  \n",
              "  var js_urls = [\"https://cdn.bokeh.org/bokeh/release/bokeh-2.3.3.min.js\", \"https://cdn.bokeh.org/bokeh/release/bokeh-widgets-2.3.3.min.js\", \"https://cdn.bokeh.org/bokeh/release/bokeh-tables-2.3.3.min.js\"];\n",
              "  var css_urls = [];\n",
              "  \n",
              "\n",
              "  var inline_js = [\n",
              "    function(Bokeh) {\n",
              "      Bokeh.set_log_level(\"info\");\n",
              "    },\n",
              "    function(Bokeh) {\n",
              "    \n",
              "    \n",
              "    }\n",
              "  ];\n",
              "\n",
              "  function run_inline_js() {\n",
              "    \n",
              "    if (root.Bokeh !== undefined || force === true) {\n",
              "      \n",
              "    for (var i = 0; i < inline_js.length; i++) {\n",
              "      inline_js[i].call(root, root.Bokeh);\n",
              "    }\n",
              "    } else if (Date.now() < root._bokeh_timeout) {\n",
              "      setTimeout(run_inline_js, 100);\n",
              "    } else if (!root._bokeh_failed_load) {\n",
              "      console.log(\"Bokeh: BokehJS failed to load within specified timeout.\");\n",
              "      root._bokeh_failed_load = true;\n",
              "    } else if (force !== true) {\n",
              "      var cell = $(document.getElementById(null)).parents('.cell').data().cell;\n",
              "      cell.output_area.append_execute_result(NB_LOAD_WARNING)\n",
              "    }\n",
              "\n",
              "  }\n",
              "\n",
              "  if (root._bokeh_is_loading === 0) {\n",
              "    console.debug(\"Bokeh: BokehJS loaded, going straight to plotting\");\n",
              "    run_inline_js();\n",
              "  } else {\n",
              "    load_libs(css_urls, js_urls, function() {\n",
              "      console.debug(\"Bokeh: BokehJS plotting callback run at\", now());\n",
              "      run_inline_js();\n",
              "    });\n",
              "  }\n",
              "}(window));"
            ],
            "application/vnd.bokehjs_load.v0+json": "\n(function(root) {\n  function now() {\n    return new Date();\n  }\n\n  var force = true;\n\n  if (typeof root._bokeh_onload_callbacks === \"undefined\" || force === true) {\n    root._bokeh_onload_callbacks = [];\n    root._bokeh_is_loading = undefined;\n  }\n\n  \n\n  \n  if (typeof (root._bokeh_timeout) === \"undefined\" || force === true) {\n    root._bokeh_timeout = Date.now() + 5000;\n    root._bokeh_failed_load = false;\n  }\n\n  var NB_LOAD_WARNING = {'data': {'text/html':\n     \"<div style='background-color: #fdd'>\\n\"+\n     \"<p>\\n\"+\n     \"BokehJS does not appear to have successfully loaded. If loading BokehJS from CDN, this \\n\"+\n     \"may be due to a slow or bad network connection. Possible fixes:\\n\"+\n     \"</p>\\n\"+\n     \"<ul>\\n\"+\n     \"<li>re-rerun `output_notebook()` to attempt to load from CDN again, or</li>\\n\"+\n     \"<li>use INLINE resources instead, as so:</li>\\n\"+\n     \"</ul>\\n\"+\n     \"<code>\\n\"+\n     \"from bokeh.resources import INLINE\\n\"+\n     \"output_notebook(resources=INLINE)\\n\"+\n     \"</code>\\n\"+\n     \"</div>\"}};\n\n  function display_loaded() {\n    var el = document.getElementById(null);\n    if (el != null) {\n      el.textContent = \"BokehJS is loading...\";\n    }\n    if (root.Bokeh !== undefined) {\n      if (el != null) {\n        el.textContent = \"BokehJS \" + root.Bokeh.version + \" successfully loaded.\";\n      }\n    } else if (Date.now() < root._bokeh_timeout) {\n      setTimeout(display_loaded, 100)\n    }\n  }\n\n\n  function run_callbacks() {\n    try {\n      root._bokeh_onload_callbacks.forEach(function(callback) {\n        if (callback != null)\n          callback();\n      });\n    } finally {\n      delete root._bokeh_onload_callbacks\n    }\n    console.debug(\"Bokeh: all callbacks have finished\");\n  }\n\n  function load_libs(css_urls, js_urls, callback) {\n    if (css_urls == null) css_urls = [];\n    if (js_urls == null) js_urls = [];\n\n    root._bokeh_onload_callbacks.push(callback);\n    if (root._bokeh_is_loading > 0) {\n      console.debug(\"Bokeh: BokehJS is being loaded, scheduling callback at\", now());\n      return null;\n    }\n    if (js_urls == null || js_urls.length === 0) {\n      run_callbacks();\n      return null;\n    }\n    console.debug(\"Bokeh: BokehJS not loaded, scheduling load and callback at\", now());\n    root._bokeh_is_loading = css_urls.length + js_urls.length;\n\n    function on_load() {\n      root._bokeh_is_loading--;\n      if (root._bokeh_is_loading === 0) {\n        console.debug(\"Bokeh: all BokehJS libraries/stylesheets loaded\");\n        run_callbacks()\n      }\n    }\n\n    function on_error(url) {\n      console.error(\"failed to load \" + url);\n    }\n\n    for (let i = 0; i < css_urls.length; i++) {\n      const url = css_urls[i];\n      const element = document.createElement(\"link\");\n      element.onload = on_load;\n      element.onerror = on_error.bind(null, url);\n      element.rel = \"stylesheet\";\n      element.type = \"text/css\";\n      element.href = url;\n      console.debug(\"Bokeh: injecting link tag for BokehJS stylesheet: \", url);\n      document.body.appendChild(element);\n    }\n\n    const hashes = {\"https://cdn.bokeh.org/bokeh/release/bokeh-2.3.3.min.js\": \"dM3QQsP+wXdHg42wTqW85BjZQdLNNIXqlPw/BgKoExPmTG7ZLML4EGqLMfqHT6ON\", \"https://cdn.bokeh.org/bokeh/release/bokeh-tables-2.3.3.min.js\": \"8x57I4YuIfu8XyZfFo0XVr2WAT8EK4rh/uDe3wF7YuW2FNUSNEpJbsPaB1nJ2fz2\", \"https://cdn.bokeh.org/bokeh/release/bokeh-widgets-2.3.3.min.js\": \"3QTqdz9LyAm2i0sG5XTePsHec3UHWwVsrOL68SYRoAXsafvfAyqtQ+h440+qIBhS\"};\n\n    for (let i = 0; i < js_urls.length; i++) {\n      const url = js_urls[i];\n      const element = document.createElement('script');\n      element.onload = on_load;\n      element.onerror = on_error.bind(null, url);\n      element.async = false;\n      element.src = url;\n      if (url in hashes) {\n        element.crossOrigin = \"anonymous\";\n        element.integrity = \"sha384-\" + hashes[url];\n      }\n      console.debug(\"Bokeh: injecting script tag for BokehJS library: \", url);\n      document.head.appendChild(element);\n    }\n  };\n\n  function inject_raw_css(css) {\n    const element = document.createElement(\"style\");\n    element.appendChild(document.createTextNode(css));\n    document.body.appendChild(element);\n  }\n\n  \n  var js_urls = [\"https://cdn.bokeh.org/bokeh/release/bokeh-2.3.3.min.js\", \"https://cdn.bokeh.org/bokeh/release/bokeh-widgets-2.3.3.min.js\", \"https://cdn.bokeh.org/bokeh/release/bokeh-tables-2.3.3.min.js\"];\n  var css_urls = [];\n  \n\n  var inline_js = [\n    function(Bokeh) {\n      Bokeh.set_log_level(\"info\");\n    },\n    function(Bokeh) {\n    \n    \n    }\n  ];\n\n  function run_inline_js() {\n    \n    if (root.Bokeh !== undefined || force === true) {\n      \n    for (var i = 0; i < inline_js.length; i++) {\n      inline_js[i].call(root, root.Bokeh);\n    }\n    } else if (Date.now() < root._bokeh_timeout) {\n      setTimeout(run_inline_js, 100);\n    } else if (!root._bokeh_failed_load) {\n      console.log(\"Bokeh: BokehJS failed to load within specified timeout.\");\n      root._bokeh_failed_load = true;\n    } else if (force !== true) {\n      var cell = $(document.getElementById(null)).parents('.cell').data().cell;\n      cell.output_area.append_execute_result(NB_LOAD_WARNING)\n    }\n\n  }\n\n  if (root._bokeh_is_loading === 0) {\n    console.debug(\"Bokeh: BokehJS loaded, going straight to plotting\");\n    run_inline_js();\n  } else {\n    load_libs(css_urls, js_urls, function() {\n      console.debug(\"Bokeh: BokehJS plotting callback run at\", now());\n      run_inline_js();\n    });\n  }\n}(window));"
          },
          "metadata": {}
        },
        {
          "output_type": "display_data",
          "data": {
            "text/html": [
              "\n",
              "\n",
              "\n",
              "\n",
              "\n",
              "\n",
              "  <div class=\"bk-root\" id=\"dfdbef06-7961-4aae-b946-aa349ed44140\" data-root-id=\"1002\"></div>\n"
            ]
          },
          "metadata": {}
        },
        {
          "output_type": "display_data",
          "data": {
            "application/javascript": [
              "(function(root) {\n",
              "  function embed_document(root) {\n",
              "    \n",
              "  var docs_json = {\"50c5f144-c645-4e22-a905-c3cc9bc6d673\":{\"defs\":[],\"roots\":{\"references\":[{\"attributes\":{\"above\":[{\"id\":\"1021\"}],\"left\":[{\"id\":\"1024\"}],\"renderers\":[{\"id\":\"1019\"}],\"title\":{\"id\":\"1028\"},\"toolbar\":{\"id\":\"1011\"},\"x_range\":{\"id\":\"1003\"},\"x_scale\":{\"id\":\"1007\"},\"y_range\":{\"id\":\"1005\"},\"y_scale\":{\"id\":\"1009\"}},\"id\":\"1002\",\"subtype\":\"Figure\",\"type\":\"Plot\"},{\"attributes\":{},\"id\":\"1032\",\"type\":\"BasicTickFormatter\"},{\"attributes\":{\"data_source\":{\"id\":\"1012\"},\"glyph\":{\"id\":\"1013\"},\"hover_glyph\":null,\"muted_glyph\":null,\"nonselection_glyph\":{\"id\":\"1016\"},\"view\":{\"id\":\"1020\"}},\"id\":\"1019\",\"type\":\"GlyphRenderer\"},{\"attributes\":{\"end\":16},\"id\":\"1005\",\"type\":\"Range1d\"},{\"attributes\":{\"color_mapper\":{\"id\":\"1017\"},\"dh\":{\"value\":16},\"dw\":{\"value\":11},\"global_alpha\":0.1,\"image\":{\"field\":\"image\"},\"x\":{\"value\":0},\"y\":{\"value\":0}},\"id\":\"1016\",\"type\":\"Image\"},{\"attributes\":{\"ticks\":[0.5,1.5,2.5,3.5,4.5,5.5,6.5,7.5,8.5,9.5,10.5]},\"id\":\"1022\",\"type\":\"FixedTicker\"},{\"attributes\":{\"active_multi\":null},\"id\":\"1011\",\"type\":\"Toolbar\"},{\"attributes\":{},\"id\":\"1029\",\"type\":\"AllLabels\"},{\"attributes\":{\"source\":{\"id\":\"1012\"}},\"id\":\"1020\",\"type\":\"CDSView\"},{\"attributes\":{\"data\":{\"image\":[{\"__ndarray__\":\"EcnsPqioyDqXGzY7gJVoOIs5LjuqekI8wmooO3S8kzvR7os8OkrAPT8ZzT5dYSE+dM0LOzMIgzzncYY6/QToO6Vh7D0f4AI9y65QPP6OGD4iKtU9xVTOPm2dnj7pQQI88lxyPJCMoDl3dAs7/6VlO07gXDrK8yU8cCeqPGfljT2xfA8/vRmcPliJSzsJyJA6icJvOKmHhzovWJo7UQmpO+y8lD2UNpQ9nqIoPqqTvT570Kk9XI8IO3L5njqWScM3WQRGOpWvPjwWaa48/D73PGdfsD131ok+bTf9PqZwZTuodUc5x2ZSOZAUsDenqJ06ltnJPFUvszxcjBk9X/6jPpa6gz5ppqo+ARy5PfyzqDx/xvU6Hrn3OYFQtjxNYBc+pXMBPkqFXj6tiwE+mA3kPVM+Cj593zM9VkFLPZPKDD3k/Hc7yy3ZPMCt7D0Ygig+ZpBJPnWI4T27pKg9g38wPkAh8D4vM8k9VlkqPmXQgztZUBQ9xzntPV0+sDx+C+M8PKOVPIjBkjzkKcw82L0XPafL5DqgT8A7lFWvOllVDTxRqDU+TxhDPijALj5wVWo+D0f/PcRaWj2IEtA8sKsWO9fkZTtV4qQ6KpCiPbzA0j5NJ4c+BosLPRvnsD3E6Gg9EmQQPXtpkjvWMz85BGsnO130njsvIag+yu76Pq6rBj7Q5hU8pWGEPNMhAzwH55c72i3ZO1Bfujr+9YM71oQFO1uu8j4nAMk+ONmhPY8JjDybeEo8LQb0Ox5gXjuhWOU832cjPRzkWT4C7VE+5UF5PlzYWz5KV/o8vRSZO993Fjx4ULc7CkDLO0GexTujuu87GTDHPRPXyT3YS5k+kX6oPqFROz2GTrw8Qec1PVPJDD1nJ3M8QZ7FO6O67zsZMMc9E9fJPdhLmT6Rfqg+oVE7PYZOvDxB5zU9U8kMPWcnczw=\",\"dtype\":\"float32\",\"order\":\"little\",\"shape\":[16,11]}]},\"selected\":{\"id\":\"1034\"},\"selection_policy\":{\"id\":\"1033\"}},\"id\":\"1012\",\"type\":\"ColumnDataSource\"},{\"attributes\":{},\"id\":\"1030\",\"type\":\"BasicTickFormatter\"},{\"attributes\":{\"palette\":[\"#000000\",\"#252525\",\"#525252\",\"#737373\",\"#969696\",\"#bdbdbd\",\"#d9d9d9\",\"#f0f0f0\",\"#ffffff\"]},\"id\":\"1017\",\"type\":\"LinearColorMapper\"},{\"attributes\":{\"color_mapper\":{\"id\":\"1014\"},\"dh\":{\"value\":16},\"dw\":{\"value\":11},\"image\":{\"field\":\"image\"},\"x\":{\"value\":0},\"y\":{\"value\":0}},\"id\":\"1013\",\"type\":\"Image\"},{\"attributes\":{},\"id\":\"1009\",\"type\":\"LinearScale\"},{\"attributes\":{\"end\":11},\"id\":\"1003\",\"type\":\"Range1d\"},{\"attributes\":{\"palette\":[\"#000000\",\"#252525\",\"#525252\",\"#737373\",\"#969696\",\"#bdbdbd\",\"#d9d9d9\",\"#f0f0f0\",\"#ffffff\"]},\"id\":\"1014\",\"type\":\"LinearColorMapper\"},{\"attributes\":{},\"id\":\"1034\",\"type\":\"Selection\"},{\"attributes\":{},\"id\":\"1031\",\"type\":\"AllLabels\"},{\"attributes\":{\"axis_label\":\"translation tokens\",\"formatter\":{\"id\":\"1030\"},\"major_label_overrides\":{\"0.5\":\"_EOS_\",\"1.5\":\".\",\"10.5\":\"at\",\"11.5\":\"kitchen\",\"12.5\":\"shared\",\"13.5\":\"is\",\"14.5\":\"there\",\"15.5\":\"_BOS_\",\"2.5\":\"shared\",\"3.5\":\"are\",\"4.5\":\"facilities\",\"5.5\":\"kitchen\",\"6.5\":\"shared\",\"7.5\":\"and\",\"8.5\":\"property\",\"9.5\":\"the\"},\"major_label_policy\":{\"id\":\"1029\"},\"ticker\":{\"id\":\"1025\"}},\"id\":\"1024\",\"type\":\"LinearAxis\"},{\"attributes\":{\"ticks\":[0.5,1.5,2.5,3.5,4.5,5.5,6.5,7.5,8.5,9.5,10.5,11.5,12.5,13.5,14.5,15.5]},\"id\":\"1025\",\"type\":\"FixedTicker\"},{\"attributes\":{},\"id\":\"1033\",\"type\":\"UnionRenderers\"},{\"attributes\":{\"axis_label\":\"source tokens\",\"formatter\":{\"id\":\"1032\"},\"major_label_orientation\":45,\"major_label_overrides\":{\"0.5\":\"_BOS_\",\"1.5\":\"\\u0432\",\"10.5\":\"_EOS_\",\"2.5\":\"\\u0440\\u0430\\u0441\\u043f\\u043e\\u0440\\u044f\\u0436\\u0435\\u043d\\u0438\\u0438\",\"3.5\":\"\\u0433\\u043e\\u0441\\u0442\\u0435\\u0439\",\"4.5\":\"\\u043e\\u0431\\u0449\\u0430\\u044f\",\"5.5\":\"\\u043a\\u0443\\u0445\\u043d\\u044f\",\"6.5\":\"\\u0438\",\"7.5\":\"\\u043e\\u0431\\u0449\\u0430\\u044f\",\"8.5\":\"\\u0433\\u043e\\u0441\\u0442\\u0438\\u043d\\u0430\\u044f\",\"9.5\":\".\"},\"major_label_policy\":{\"id\":\"1031\"},\"ticker\":{\"id\":\"1022\"}},\"id\":\"1021\",\"type\":\"LinearAxis\"},{\"attributes\":{},\"id\":\"1028\",\"type\":\"Title\"},{\"attributes\":{},\"id\":\"1007\",\"type\":\"LinearScale\"}],\"root_ids\":[\"1002\"]},\"title\":\"Bokeh Application\",\"version\":\"2.3.3\"}};\n",
              "  var render_items = [{\"docid\":\"50c5f144-c645-4e22-a905-c3cc9bc6d673\",\"root_ids\":[\"1002\"],\"roots\":{\"1002\":\"dfdbef06-7961-4aae-b946-aa349ed44140\"}}];\n",
              "  root.Bokeh.embed.embed_items_notebook(docs_json, render_items);\n",
              "\n",
              "  }\n",
              "  if (root.Bokeh !== undefined) {\n",
              "    embed_document(root);\n",
              "  } else {\n",
              "    var attempts = 0;\n",
              "    var timer = setInterval(function(root) {\n",
              "      if (root.Bokeh !== undefined) {\n",
              "        clearInterval(timer);\n",
              "        embed_document(root);\n",
              "      } else {\n",
              "        attempts++;\n",
              "        if (attempts > 100) {\n",
              "          clearInterval(timer);\n",
              "          console.log(\"Bokeh: ERROR: Unable to run BokehJS code because BokehJS library is missing\");\n",
              "        }\n",
              "      }\n",
              "    }, 10, root)\n",
              "  }\n",
              "})(window);"
            ],
            "application/vnd.bokehjs_exec.v0+json": ""
          },
          "metadata": {
            "application/vnd.bokehjs_exec.v0+json": {
              "id": "1002"
            }
          }
        },
        {
          "output_type": "display_data",
          "data": {
            "text/html": [
              "\n",
              "\n",
              "\n",
              "\n",
              "\n",
              "\n",
              "  <div class=\"bk-root\" id=\"fbbddb6d-dbe2-4641-86e1-2ca475e25516\" data-root-id=\"1075\"></div>\n"
            ]
          },
          "metadata": {}
        },
        {
          "output_type": "display_data",
          "data": {
            "application/javascript": [
              "(function(root) {\n",
              "  function embed_document(root) {\n",
              "    \n",
              "  var docs_json = {\"502b1196-d3be-476d-aa59-c7b4dd7df6bc\":{\"defs\":[],\"roots\":{\"references\":[{\"attributes\":{\"above\":[{\"id\":\"1094\"}],\"left\":[{\"id\":\"1097\"}],\"renderers\":[{\"id\":\"1092\"}],\"title\":{\"id\":\"1109\"},\"toolbar\":{\"id\":\"1084\"},\"x_range\":{\"id\":\"1076\"},\"x_scale\":{\"id\":\"1080\"},\"y_range\":{\"id\":\"1078\"},\"y_scale\":{\"id\":\"1082\"}},\"id\":\"1075\",\"subtype\":\"Figure\",\"type\":\"Plot\"},{\"attributes\":{},\"id\":\"1114\",\"type\":\"UnionRenderers\"},{\"attributes\":{},\"id\":\"1080\",\"type\":\"LinearScale\"},{\"attributes\":{\"axis_label\":\"translation tokens\",\"formatter\":{\"id\":\"1111\"},\"major_label_overrides\":{\"0.5\":\"_EOS_\",\"1.5\":\".\",\"10.5\":\"rentals\",\"11.5\":\"bicycle\",\"12.5\":\"_BOS_\",\"2.5\":\"services\",\"3.5\":\"shuttle\",\"4.5\":\"free\",\"5.5\":\"and\",\"6.5\":\"service\",\"7.5\":\"shuttle\",\"8.5\":\"free\",\"9.5\":\",\"},\"major_label_policy\":{\"id\":\"1110\"},\"ticker\":{\"id\":\"1098\"}},\"id\":\"1097\",\"type\":\"LinearAxis\"},{\"attributes\":{},\"id\":\"1109\",\"type\":\"Title\"},{\"attributes\":{\"color_mapper\":{\"id\":\"1087\"},\"dh\":{\"value\":13},\"dw\":{\"value\":15},\"image\":{\"field\":\"image\"},\"x\":{\"value\":0},\"y\":{\"value\":0}},\"id\":\"1086\",\"type\":\"Image\"},{\"attributes\":{\"active_multi\":null},\"id\":\"1084\",\"type\":\"Toolbar\"},{\"attributes\":{\"axis_label\":\"source tokens\",\"formatter\":{\"id\":\"1113\"},\"major_label_orientation\":45,\"major_label_overrides\":{\"0.5\":\"_BOS_\",\"1.5\":\"\\u043a\\u0440\\u043e\\u043c\\u0435\",\"10.5\":\"\\u0438\",\"11.5\":\"\\u0431\\u0435\\u0441\\u043f\\u043b\\u0430\\u0442\\u043d\\u0430\\u044f\",\"12.5\":\"\\u043f\\u0430\\u0440\\u043a\\u043e\\u0432\\u043a\\u0430\",\"13.5\":\".\",\"14.5\":\"_EOS_\",\"2.5\":\"\\u0442\\u043e\\u0433\\u043e\",\"3.5\":\",\",\"4.5\":\"\\u043f\\u0440\\u0435\\u0434\\u043e\\u0441\\u0442\\u0430\\u0432\\u043b\\u044f\\u0435\\u0442\\u0441\\u044f\",\"5.5\":\"\\u043f\\u0440\\u043e\\u043a\\u0430\\u0442\",\"6.5\":\"\\u0432\\u0435\\u043b\\u043e\\u0441\\u0438\\u043f\\u0435\\u0434\\u043e\\u0432\",\"7.5\":\",\",\"8.5\":\"\\u0443\\u0441\\u043b\\u0443\\u0433\\u0438\",\"9.5\":\"\\u0442\\u0440\\u0430\\u043d\\u0441\\u0444\\u0435\\u0440\\u0430\"},\"major_label_policy\":{\"id\":\"1112\"},\"ticker\":{\"id\":\"1095\"}},\"id\":\"1094\",\"type\":\"LinearAxis\"},{\"attributes\":{},\"id\":\"1115\",\"type\":\"Selection\"},{\"attributes\":{\"palette\":[\"#000000\",\"#252525\",\"#525252\",\"#737373\",\"#969696\",\"#bdbdbd\",\"#d9d9d9\",\"#f0f0f0\",\"#ffffff\"]},\"id\":\"1087\",\"type\":\"LinearColorMapper\"},{\"attributes\":{\"palette\":[\"#000000\",\"#252525\",\"#525252\",\"#737373\",\"#969696\",\"#bdbdbd\",\"#d9d9d9\",\"#f0f0f0\",\"#ffffff\"]},\"id\":\"1090\",\"type\":\"LinearColorMapper\"},{\"attributes\":{},\"id\":\"1082\",\"type\":\"LinearScale\"},{\"attributes\":{\"end\":15},\"id\":\"1076\",\"type\":\"Range1d\"},{\"attributes\":{\"end\":13},\"id\":\"1078\",\"type\":\"Range1d\"},{\"attributes\":{},\"id\":\"1112\",\"type\":\"AllLabels\"},{\"attributes\":{\"data_source\":{\"id\":\"1085\"},\"glyph\":{\"id\":\"1086\"},\"hover_glyph\":null,\"muted_glyph\":null,\"nonselection_glyph\":{\"id\":\"1089\"},\"view\":{\"id\":\"1093\"}},\"id\":\"1092\",\"type\":\"GlyphRenderer\"},{\"attributes\":{\"ticks\":[0.5,1.5,2.5,3.5,4.5,5.5,6.5,7.5,8.5,9.5,10.5,11.5,12.5]},\"id\":\"1098\",\"type\":\"FixedTicker\"},{\"attributes\":{\"ticks\":[0.5,1.5,2.5,3.5,4.5,5.5,6.5,7.5,8.5,9.5,10.5,11.5,12.5,13.5,14.5]},\"id\":\"1095\",\"type\":\"FixedTicker\"},{\"attributes\":{},\"id\":\"1110\",\"type\":\"AllLabels\"},{\"attributes\":{\"source\":{\"id\":\"1085\"}},\"id\":\"1093\",\"type\":\"CDSView\"},{\"attributes\":{},\"id\":\"1113\",\"type\":\"BasicTickFormatter\"},{\"attributes\":{},\"id\":\"1111\",\"type\":\"BasicTickFormatter\"},{\"attributes\":{\"color_mapper\":{\"id\":\"1090\"},\"dh\":{\"value\":13},\"dw\":{\"value\":15},\"global_alpha\":0.1,\"image\":{\"field\":\"image\"},\"x\":{\"value\":0},\"y\":{\"value\":0}},\"id\":\"1089\",\"type\":\"Image\"},{\"attributes\":{\"data\":{\"image\":[{\"__ndarray__\":\"UV34PXU5UzuJ3pg6wRQOOhym1DyJ7dk7znGSPDqZCDuqsUg7dM1HPZDf+zs0eUw+DjJuPcSp4j0NUMk+2YHjPsJ7jTuL9TU5KzWrOXSluTxDvcM6ftuQO4gZMzrBihA6jHlqPFnlQzvY57o9ZAqSPQH8Ez5fWkk+RwYZPiOkaTsG7Oo5ZccgOWxdPjvhfS4673eNPOJNmjoOlgw8VzuBPPvQhTzqhDY9xY29PZetND6ntPA+hubjO/Nq5TfYJgE2kxsPN9emFzlAhSE5masUOwqCVDlCzk44MBIhO+qP6zuiR7E+/gFNPkr1Mz5CRoQ+LP8RPTlXBDo8nvQ3eNMaOb6IRDzBkS47AyX6O1G4jTuy93g8WUUoPSLaqj2ujqg+J7HFPYyNAj5t+nk+rurEPHWXXzpj/ko3aDMLOqdBbDu8eYM7VnbHPJ14Uzyxlx48zUzlPM9yDj3XIEI+MLh7PpVmeT4pkjY+JiylPMI7xjpCujE5oWwFOps+SDufmCY8Mi3gPeoVUTwhZxg9yzLMPWnFnD3anq49jmKBPhWoSj5bLr49U5aeO8lS8TouG2s4e4/KOUloDTx9Dbo9BBMdPoj5/zyqWIM9ub3zPRBNvj0iWg4++d26Pd2XID75yTo9OhgmO0Zz+zpNVDc5dSKVOmNliTxDlSY87BO5PN5iBDw7pKc99lGKPW83MT4mszc+gJQKPhDaQT5ri+E9s4g+PM8R/jpVbpc5MZbDOuk9lDxpYw89QWuYPJAG+jyozVw+uFvFPZNm+D3C2iU+r8gNPsZgwD3nW2A98z87O92c9zoccQ47/gMaPEUYMTyXYbo92MnUPl/Uuz74dzc8fPoEPXKrUz0g7KQ6YDDgOhgqXDrGSYc5md4lOjcHIDuqxYQ7ZOWePDfXbjzNxoQ+debmPgOwSj5HVeg7i4eePBhCjDwm+Cs7Epn5OrpoBzs3ngI6md4lOjcHIDuqxYQ7ZOWePDfXbjzNxoQ+debmPgOwSj5HVeg7i4eePBhCjDwm+Cs7Epn5OrpoBzs3ngI6\",\"dtype\":\"float32\",\"order\":\"little\",\"shape\":[13,15]}]},\"selected\":{\"id\":\"1115\"},\"selection_policy\":{\"id\":\"1114\"}},\"id\":\"1085\",\"type\":\"ColumnDataSource\"}],\"root_ids\":[\"1075\"]},\"title\":\"Bokeh Application\",\"version\":\"2.3.3\"}};\n",
              "  var render_items = [{\"docid\":\"502b1196-d3be-476d-aa59-c7b4dd7df6bc\",\"root_ids\":[\"1075\"],\"roots\":{\"1075\":\"fbbddb6d-dbe2-4641-86e1-2ca475e25516\"}}];\n",
              "  root.Bokeh.embed.embed_items_notebook(docs_json, render_items);\n",
              "\n",
              "  }\n",
              "  if (root.Bokeh !== undefined) {\n",
              "    embed_document(root);\n",
              "  } else {\n",
              "    var attempts = 0;\n",
              "    var timer = setInterval(function(root) {\n",
              "      if (root.Bokeh !== undefined) {\n",
              "        clearInterval(timer);\n",
              "        embed_document(root);\n",
              "      } else {\n",
              "        attempts++;\n",
              "        if (attempts > 100) {\n",
              "          clearInterval(timer);\n",
              "          console.log(\"Bokeh: ERROR: Unable to run BokehJS code because BokehJS library is missing\");\n",
              "        }\n",
              "      }\n",
              "    }, 10, root)\n",
              "  }\n",
              "})(window);"
            ],
            "application/vnd.bokehjs_exec.v0+json": ""
          },
          "metadata": {
            "application/vnd.bokehjs_exec.v0+json": {
              "id": "1075"
            }
          }
        },
        {
          "output_type": "display_data",
          "data": {
            "text/html": [
              "\n",
              "\n",
              "\n",
              "\n",
              "\n",
              "\n",
              "  <div class=\"bk-root\" id=\"de073c88-3e4a-43c4-9250-0ba3b6d50eb6\" data-root-id=\"1156\"></div>\n"
            ]
          },
          "metadata": {}
        },
        {
          "output_type": "display_data",
          "data": {
            "application/javascript": [
              "(function(root) {\n",
              "  function embed_document(root) {\n",
              "    \n",
              "  var docs_json = {\"f9771a29-05de-4c76-abef-a2029328d0fe\":{\"defs\":[],\"roots\":{\"references\":[{\"attributes\":{\"above\":[{\"id\":\"1175\"}],\"left\":[{\"id\":\"1178\"}],\"renderers\":[{\"id\":\"1173\"}],\"title\":{\"id\":\"1198\"},\"toolbar\":{\"id\":\"1165\"},\"x_range\":{\"id\":\"1157\"},\"x_scale\":{\"id\":\"1161\"},\"y_range\":{\"id\":\"1159\"},\"y_scale\":{\"id\":\"1163\"}},\"id\":\"1156\",\"subtype\":\"Figure\",\"type\":\"Plot\"},{\"attributes\":{},\"id\":\"1201\",\"type\":\"AllLabels\"},{\"attributes\":{\"color_mapper\":{\"id\":\"1171\"},\"dh\":{\"value\":10},\"dw\":{\"value\":13},\"global_alpha\":0.1,\"image\":{\"field\":\"image\"},\"x\":{\"value\":0},\"y\":{\"value\":0}},\"id\":\"1170\",\"type\":\"Image\"},{\"attributes\":{},\"id\":\"1163\",\"type\":\"LinearScale\"},{\"attributes\":{\"active_multi\":null},\"id\":\"1165\",\"type\":\"Toolbar\"},{\"attributes\":{},\"id\":\"1204\",\"type\":\"Selection\"},{\"attributes\":{\"axis_label\":\"translation tokens\",\"formatter\":{\"id\":\"1200\"},\"major_label_overrides\":{\"0.5\":\"_EOS_\",\"1.5\":\".\",\"2.5\":\"away\",\"3.5\":\"km\",\"4.5\":\"26\",\"5.5\":\"is\",\"6.5\":\"ic\",\"7.5\":\"lam@@\",\"8.5\":\"is@@\",\"9.5\":\"_BOS_\"},\"major_label_policy\":{\"id\":\"1199\"},\"ticker\":{\"id\":\"1179\"}},\"id\":\"1178\",\"type\":\"LinearAxis\"},{\"attributes\":{},\"id\":\"1161\",\"type\":\"LinearScale\"},{\"attributes\":{},\"id\":\"1202\",\"type\":\"BasicTickFormatter\"},{\"attributes\":{\"color_mapper\":{\"id\":\"1168\"},\"dh\":{\"value\":10},\"dw\":{\"value\":13},\"image\":{\"field\":\"image\"},\"x\":{\"value\":0},\"y\":{\"value\":0}},\"id\":\"1167\",\"type\":\"Image\"},{\"attributes\":{},\"id\":\"1199\",\"type\":\"AllLabels\"},{\"attributes\":{\"end\":10},\"id\":\"1159\",\"type\":\"Range1d\"},{\"attributes\":{\"palette\":[\"#000000\",\"#252525\",\"#525252\",\"#737373\",\"#969696\",\"#bdbdbd\",\"#d9d9d9\",\"#f0f0f0\",\"#ffffff\"]},\"id\":\"1171\",\"type\":\"LinearColorMapper\"},{\"attributes\":{\"data_source\":{\"id\":\"1166\"},\"glyph\":{\"id\":\"1167\"},\"hover_glyph\":null,\"muted_glyph\":null,\"nonselection_glyph\":{\"id\":\"1170\"},\"view\":{\"id\":\"1174\"}},\"id\":\"1173\",\"type\":\"GlyphRenderer\"},{\"attributes\":{\"ticks\":[0.5,1.5,2.5,3.5,4.5,5.5,6.5,7.5,8.5,9.5]},\"id\":\"1179\",\"type\":\"FixedTicker\"},{\"attributes\":{\"axis_label\":\"source tokens\",\"formatter\":{\"id\":\"1202\"},\"major_label_orientation\":45,\"major_label_overrides\":{\"0.5\":\"_BOS_\",\"1.5\":\"\\u0440\\u0430\\u0441\\u0441\\u0442\\u043e\\u044f\\u043d\\u0438\\u0435\",\"10.5\":\"\\u043a\\u043c\",\"11.5\":\".\",\"12.5\":\"_EOS_\",\"2.5\":\"\\u0434\\u043e\",\"3.5\":\"\\u0433\\u043e\\u0440\\u043e\\u0434\\u0430\",\"4.5\":\"\\u043a\\u0438@@\",\"5.5\":\"\\u0441\\u0441\\u0438@@\",\"6.5\":\"\\u043c@@\",\"7.5\":\"\\u043c\\u0438\",\"8.5\":\"\\u0441\\u043e\\u0441\\u0442\\u0430\\u0432\\u043b\\u044f\\u0435\\u0442\",\"9.5\":\"26\"},\"major_label_policy\":{\"id\":\"1201\"},\"ticker\":{\"id\":\"1176\"}},\"id\":\"1175\",\"type\":\"LinearAxis\"},{\"attributes\":{},\"id\":\"1198\",\"type\":\"Title\"},{\"attributes\":{\"ticks\":[0.5,1.5,2.5,3.5,4.5,5.5,6.5,7.5,8.5,9.5,10.5,11.5,12.5]},\"id\":\"1176\",\"type\":\"FixedTicker\"},{\"attributes\":{\"data\":{\"image\":[{\"__ndarray__\":\"UGoCPwWyNz4Hj+08AY3hPbJNUzzq/Co6mfzwOeC2Czu7/oQ4lCyeO03CJjypGj49sGDBPUTCLT+J7Qs9g/i0PabsFT2pfNE99yiYO9pJJzvFFp87kUCDN4OA1DseYso7QjvPPEzBIDxPvGs8yKuIPXgD+z5lB8k7HbuKPfwwjzqFQhA6Mt1nOqfW5Tc1Csw89VEJPtzWxD2EysY9NRSwOvn4wzq91CE8ZsgfOhsg/zrhDIE44ZYzOJn3bzgeD8o2whi9Pd4IWD+4LQg9m1V3PGxFjTwqrUk86HusPH5SpTzjLFk9umC8OyUeDTuAv787MCxaO6M8WT7BJr0+FTcbPhT4AD6EYTk9Mei+O/9QbDwNu088ZpyePlhXEz1CPec8C6CyPtAYgTxHfKg9VBPHPJVpTD132do8Y6ToPBNzpjuQK1A8LuO7O3AJEz/otwY+T+f6PCqgBT48mxw8WgrBPJKZ1TvLcYc8LarLPKdUkz2aSxo8NqQTPZ6SXj3FlBs+TDgyPhGXiD0pla4+PQMIPZGtCDxXDO077dbzPEmLgzymRlM971AVPGIQ0ztYPzo91h7pPgfeNj7W3QU97YrAPUfIoj0KT508zkGrOzIecTzh5QU8pkZTPe9QFTxiENM7WD86PdYe6T4H3jY+1t0FPe2KwD1HyKI9Ck+dPM5BqzsyHnE84eUFPA==\",\"dtype\":\"float32\",\"order\":\"little\",\"shape\":[10,13]}]},\"selected\":{\"id\":\"1204\"},\"selection_policy\":{\"id\":\"1203\"}},\"id\":\"1166\",\"type\":\"ColumnDataSource\"},{\"attributes\":{\"end\":13},\"id\":\"1157\",\"type\":\"Range1d\"},{\"attributes\":{\"source\":{\"id\":\"1166\"}},\"id\":\"1174\",\"type\":\"CDSView\"},{\"attributes\":{\"palette\":[\"#000000\",\"#252525\",\"#525252\",\"#737373\",\"#969696\",\"#bdbdbd\",\"#d9d9d9\",\"#f0f0f0\",\"#ffffff\"]},\"id\":\"1168\",\"type\":\"LinearColorMapper\"},{\"attributes\":{},\"id\":\"1200\",\"type\":\"BasicTickFormatter\"},{\"attributes\":{},\"id\":\"1203\",\"type\":\"UnionRenderers\"}],\"root_ids\":[\"1156\"]},\"title\":\"Bokeh Application\",\"version\":\"2.3.3\"}};\n",
              "  var render_items = [{\"docid\":\"f9771a29-05de-4c76-abef-a2029328d0fe\",\"root_ids\":[\"1156\"],\"roots\":{\"1156\":\"de073c88-3e4a-43c4-9250-0ba3b6d50eb6\"}}];\n",
              "  root.Bokeh.embed.embed_items_notebook(docs_json, render_items);\n",
              "\n",
              "  }\n",
              "  if (root.Bokeh !== undefined) {\n",
              "    embed_document(root);\n",
              "  } else {\n",
              "    var attempts = 0;\n",
              "    var timer = setInterval(function(root) {\n",
              "      if (root.Bokeh !== undefined) {\n",
              "        clearInterval(timer);\n",
              "        embed_document(root);\n",
              "      } else {\n",
              "        attempts++;\n",
              "        if (attempts > 100) {\n",
              "          clearInterval(timer);\n",
              "          console.log(\"Bokeh: ERROR: Unable to run BokehJS code because BokehJS library is missing\");\n",
              "        }\n",
              "      }\n",
              "    }, 10, root)\n",
              "  }\n",
              "})(window);"
            ],
            "application/vnd.bokehjs_exec.v0+json": ""
          },
          "metadata": {
            "application/vnd.bokehjs_exec.v0+json": {
              "id": "1156"
            }
          }
        },
        {
          "output_type": "display_data",
          "data": {
            "text/html": [
              "\n",
              "\n",
              "\n",
              "\n",
              "\n",
              "\n",
              "  <div class=\"bk-root\" id=\"2534a7f8-a5fd-43d6-87bb-6d00dc3b949d\" data-root-id=\"1245\"></div>\n"
            ]
          },
          "metadata": {}
        },
        {
          "output_type": "display_data",
          "data": {
            "application/javascript": [
              "(function(root) {\n",
              "  function embed_document(root) {\n",
              "    \n",
              "  var docs_json = {\"b7c5023b-cd21-42ba-8bd0-7c64d5051f18\":{\"defs\":[],\"roots\":{\"references\":[{\"attributes\":{\"above\":[{\"id\":\"1264\"}],\"left\":[{\"id\":\"1267\"}],\"renderers\":[{\"id\":\"1262\"}],\"title\":{\"id\":\"1295\"},\"toolbar\":{\"id\":\"1254\"},\"x_range\":{\"id\":\"1246\"},\"x_scale\":{\"id\":\"1250\"},\"y_range\":{\"id\":\"1248\"},\"y_scale\":{\"id\":\"1252\"}},\"id\":\"1245\",\"subtype\":\"Figure\",\"type\":\"Plot\"},{\"attributes\":{\"axis_label\":\"translation tokens\",\"formatter\":{\"id\":\"1297\"},\"major_label_overrides\":{\"0.5\":\"_EOS_\",\"1.5\":\".\",\"10.5\":\"walk\",\"11.5\":\"minute\",\"12.5\":\"-\",\"13.5\":\"5\",\"14.5\":\"a\",\"15.5\":\"are\",\"16.5\":\"apartments\",\"17.5\":\"conditioned\",\"18.5\":\"-\",\"19.5\":\"air\",\"2.5\":\"beach\",\"20.5\":\"and\",\"21.5\":\"garden\",\"22.5\":\",\",\"23.5\":\"pool\",\"24.5\":\"outdoor\",\"25.5\":\"shared\",\"26.5\":\"a\",\"27.5\":\"to\",\"28.5\":\"access\",\"29.5\":\"offering\",\"3.5\":\"as\",\"30.5\":\"_BOS_\",\"4.5\":\"se@@\",\"5.5\":\"porto\",\"6.5\":\"in\",\"7.5\":\"beach\",\"8.5\":\"the\",\"9.5\":\"from\"},\"major_label_policy\":{\"id\":\"1296\"},\"ticker\":{\"id\":\"1268\"}},\"id\":\"1267\",\"type\":\"LinearAxis\"},{\"attributes\":{\"data_source\":{\"id\":\"1255\"},\"glyph\":{\"id\":\"1256\"},\"hover_glyph\":null,\"muted_glyph\":null,\"nonselection_glyph\":{\"id\":\"1259\"},\"view\":{\"id\":\"1263\"}},\"id\":\"1262\",\"type\":\"GlyphRenderer\"},{\"attributes\":{\"end\":32},\"id\":\"1246\",\"type\":\"Range1d\"},{\"attributes\":{},\"id\":\"1301\",\"type\":\"Selection\"},{\"attributes\":{\"palette\":[\"#000000\",\"#252525\",\"#525252\",\"#737373\",\"#969696\",\"#bdbdbd\",\"#d9d9d9\",\"#f0f0f0\",\"#ffffff\"]},\"id\":\"1257\",\"type\":\"LinearColorMapper\"},{\"attributes\":{\"active_multi\":null},\"id\":\"1254\",\"type\":\"Toolbar\"},{\"attributes\":{\"ticks\":[0.5,1.5,2.5,3.5,4.5,5.5,6.5,7.5,8.5,9.5,10.5,11.5,12.5,13.5,14.5,15.5,16.5,17.5,18.5,19.5,20.5,21.5,22.5,23.5,24.5,25.5,26.5,27.5,28.5,29.5,30.5,31.5]},\"id\":\"1265\",\"type\":\"FixedTicker\"},{\"attributes\":{\"source\":{\"id\":\"1255\"}},\"id\":\"1263\",\"type\":\"CDSView\"},{\"attributes\":{},\"id\":\"1250\",\"type\":\"LinearScale\"},{\"attributes\":{},\"id\":\"1299\",\"type\":\"BasicTickFormatter\"},{\"attributes\":{},\"id\":\"1295\",\"type\":\"Title\"},{\"attributes\":{},\"id\":\"1300\",\"type\":\"UnionRenderers\"},{\"attributes\":{\"palette\":[\"#000000\",\"#252525\",\"#525252\",\"#737373\",\"#969696\",\"#bdbdbd\",\"#d9d9d9\",\"#f0f0f0\",\"#ffffff\"]},\"id\":\"1260\",\"type\":\"LinearColorMapper\"},{\"attributes\":{\"ticks\":[0.5,1.5,2.5,3.5,4.5,5.5,6.5,7.5,8.5,9.5,10.5,11.5,12.5,13.5,14.5,15.5,16.5,17.5,18.5,19.5,20.5,21.5,22.5,23.5,24.5,25.5,26.5,27.5,28.5,29.5,30.5]},\"id\":\"1268\",\"type\":\"FixedTicker\"},{\"attributes\":{},\"id\":\"1298\",\"type\":\"AllLabels\"},{\"attributes\":{\"color_mapper\":{\"id\":\"1260\"},\"dh\":{\"value\":31},\"dw\":{\"value\":32},\"global_alpha\":0.1,\"image\":{\"field\":\"image\"},\"x\":{\"value\":0},\"y\":{\"value\":0}},\"id\":\"1259\",\"type\":\"Image\"},{\"attributes\":{\"axis_label\":\"source tokens\",\"formatter\":{\"id\":\"1299\"},\"major_label_orientation\":45,\"major_label_overrides\":{\"0.5\":\"_BOS_\",\"1.5\":\"\\u0430\\u043f\\u0430\\u0440\\u0442\\u0430\\u043c\\u0435\\u043d\\u0442\\u044b\",\"10.5\":\"\\u0441\\u0430\\u0434\\u043e\\u043c\",\"11.5\":\",\",\"12.5\":\"\\u043a\\u043e\\u043d\\u0434\\u0438\\u0446\\u0438\\u043e\\u043d\\u0435\\u0440\\u043e\\u043c\",\"13.5\":\"\\u0438\",\"14.5\":\"\\u0442\\u0435\\u0440\\u0440\\u0430\\u0441\\u043e\\u0439\",\"15.5\":\"\\u0434\\u043b\\u044f\",\"16.5\":\"\\u0437\\u0430\\u0433\\u0430\\u0440\\u0430\",\"17.5\":\"\\u0440\\u0430\\u0441\\u043f\\u043e\\u043b\\u043e\\u0436\\u0435\\u043d\\u044b\",\"18.5\":\"\\u0432\",\"19.5\":\"5\",\"2.5\":\"\\u0432\",\"20.5\":\"\\u043c\\u0438\\u043d\\u0443\\u0442\\u0430\\u0445\",\"21.5\":\"\\u0445\\u043e\\u0434\\u044c\\u0431\\u044b\",\"22.5\":\"\\u043e\\u0442\",\"23.5\":\"\\u043f\\u043b\\u044f\\u0436\\u0430\",\"24.5\":\"\\u043d\\u0430\",\"25.5\":\"\\u043a\\u0443\\u0440\\u043e\\u0440\\u0442\\u0435\",\"26.5\":\"\\u043a\\u0430@@\",\"27.5\":\"\\u0431\\u043e\",\"28.5\":\"-\",\"29.5\":\"\\u0440\\u043e\\u0439\",\"3.5\":\"\\u043f\\u0435\\u043d\\u0442@@\",\"30.5\":\".\",\"31.5\":\"_EOS_\",\"4.5\":\"\\u0445\\u0430\\u0443\\u0441\\u0435\",\"5.5\":\"\\u0441\",\"6.5\":\"\\u043e\\u0431\\u0449\\u0438\\u043c\",\"7.5\":\"\\u043e\\u0442\\u043a\\u0440\\u044b\\u0442\\u044b\\u043c\",\"8.5\":\"\\u0431\\u0430\\u0441\\u0441\\u0435\\u0439\\u043d\\u043e\\u043c\",\"9.5\":\",\"},\"major_label_policy\":{\"id\":\"1298\"},\"ticker\":{\"id\":\"1265\"}},\"id\":\"1264\",\"type\":\"LinearAxis\"},{\"attributes\":{},\"id\":\"1296\",\"type\":\"AllLabels\"},{\"attributes\":{},\"id\":\"1297\",\"type\":\"BasicTickFormatter\"},{\"attributes\":{\"color_mapper\":{\"id\":\"1257\"},\"dh\":{\"value\":31},\"dw\":{\"value\":32},\"image\":{\"field\":\"image\"},\"x\":{\"value\":0},\"y\":{\"value\":0}},\"id\":\"1256\",\"type\":\"Image\"},{\"attributes\":{\"data\":{\"image\":[{\"__ndarray__\":\"A70nPpiprzmepKg6k7MGO/kIvTt0E7c6KLfAOsTI2zruuoM6RTyBOeOlNDm/x9s5AJD8O+TrMTwqG9U9NrKlOzcPzjxaADw8Mwj5OvUCwDvr1fQ8JT49PeFhzjyZ15w8ppR0PFlfwDzg5Cg8CLS9O7rZHTw8pyA9DG0XPn2hjT4n3Qc+uip8OWhaDTr2IR86gJMAPBHnrDneKhY6uYVaOtILMTo6GK05EQAjOg3hmjrCg6E7MmG0OxcBCD19Lek78iTNPDNjwzx8Zak7OuA0PNa4KT32aQM9Nd7IPSuKZT18v4g915ogPshiEjyprDo8Q5YIPMovZT0BNo89Vg0HPp6vSz2O8Kg5T0urOIsfxDivHpo6Ate8Orq3aznbIi06O5B6OdP4DzimnAI5N1VAOatwrjmI0dA5TWGVOlh2eDm9Ho06hy2xOu03tjmg1S86Cjc7O6V+NDsOlQo8v9qTPLG4UjyG0zw9ud+QPGVH0DwVpoc9OscPPguxVj6Yf8c+zruJPZXVyziivBs5ZjvEOC29/DozMsg5w3aYOSStRjnKM9441GDFNwecpTfy0LA40IKWORFJgDmN4SY61NU5OYvrizrorH46dsaDOe8gBTqyVwk8DCY3O3cqQTuSfEg8gkNyPFVcgjzF9Jw8wOQ8PWoSfT2i2+M97wJUPmF72D4F+Xo9U2ghN5cAjDbK6g81ccizOK5whjeq8iM66xYnOZNVqDddtlY4yt7uNrhiEThRUUw4S1mLOJjjnTiA0UQ3qKGOOeyT1Dnc4wk4W0eFOXhy0jocAYo6PQMEO5CtBTz/s5E7XAOAPYZOsT1lVJc9KYIzPmMAOT6OnR0+cuE+PkNSRj1z7mA4G42UObcfqjl4cjw738RcOq/IGTrjaRk6NHKWOrJBTTme3DQ5ne8BOnOFWzvzUEs70bWBPP/HgTqtKjs8GkYOPJhuATsNvJU7Kj+APF3HbDzslqM8TXiVPHIeAz22LrE9shWQPApYEjxIqVQ82XebPUstNj6v7dM+G1ARPG0EczfDd2o1x8ENNbN1eTm2PTI5a2wiOZgokjgUDI03nqmQNqocnjZeqAE32XmMNsUihjc9CHA3HS3ZNkvreDhpuyk5cWkiOIIRBDjrp6k4CqULOR0acDrKYBQ+ArcgPtWenT3iMwk+zNDDPbWw2D1xi04+gbUqPdaQAD3mR108190SOEO4gTXczDs1VbOYOu+0gzmeiZI6+CrZONKVUTgJ9c03YP2jNpKJETdBh5I22XRnN6TGmTcivy02JItPNyIgXzfU/581Kqo+OBVKcjg0fpc5sc8APCwOAT/iijY+JyNMPcoFkT0dcYQ9Ank8PYuxpTwcrqk88wGqPK6cDjwrUQI3vJkPNaQRDjUfsDk5rZNZOBop+TlPZig4wyaLNz47gDdogNc2Bh1ON76jTzd6jO43lBeSOD+NxzZn3UQ4/foVOPdyTTb/Lys3iY7oOJ76IzoO8x07J+WbPWzThz2IWRw9ENBBPj4u0D1NEtk9pcQoPmNDEj7pz9A9EgSSOxmvIzhtBRQ2ZwV3NSUAkTinEBw4yEcLO6EVvzp1Iu45JbwlO/dB1jhLsSo5TElBOlkw1DrK8sw5u3OmOCp2DzpYzNE5V4tuOI0HDzv4CEc6tCqhOxhf6zvxhuc9HddlPoqKFD3Vmww+SIaQPh2oyT22oOk8sdr2PHNrnTztRJE55+adN0WzHDc3v041rXqPOCIUCDmUUKk8SNGyO26U1juazyI8MqmeO0LEBzzv0487186zOzzK8zpSrUQ5mJb6Ouk/Cjo0h9g3DO0pO4pKVzz9m9I9aE8tP7LTBj3riKY7atwEOxgcqzz7sW09LcZbPM/1gTkKWFo6C02/OZOCdjvbrcg3a70rNwHuNTbRkFg5Dp07Or4f1DuJ8oA7PnL7OhP2szq52e87IiFxPGjqNT1W/Hg9Wdm6POBTNjvl6mI81OXbOxs8wjqLOKY8Q+w6PXwA4D3PjXU+9cC7PVOIWj3FfkA9RVhYPWPAhT2kUy89Mp/3O0GamTzWPko8mMqUPIq1VDltZGY4S5yfN5BOljqDJK07PeKkPK9dhTsZTEE8jZkWPBikejzcHrY8kNCMPbyMaz6dSCM9LDOxO4GiBD0vSLo88CsAO/94lTywCxk9DSuaPfzF8D27nac8F8uqPNb+Ej3K2So9sLx0PXGnEj2cYd87T2hQPJiSEDwQrOM6ekwmOaNc2zjdONA3vjhGO3r3MzqQFSM8iE0mO+RAFzpY9q46OtKtOenYAjrV1448u7UpPLuOaDtSKuQ5v8PgOzYpqjspYVI6uFgJPYC7MD6P3eE+h4SGPv7uEDuD+gk7bERDO56QvDtD0YM79ebmOhJSojqLXjk7q2fEOlcwEj3Jyr451b0aOlDA7zpliPk7KmN3PfsL1jyDw4o8MxaxO9sqvjq/Oy07wJ9NO7HbvDz7ygY9QA6wPLXJ9zucRMM8Y9P6PDwTaz3k2FE9PMklPZVbAz7Vc2c+boM9PLCrZjyFTpc8xqMxPWmk2Dy/MkI8z5L4PNlZoDxXjp08TLyrPXSVtjxq4tg8LjEkPbVTNz6K3l8+LMKAPeeP2jwFa4o7ztO0OI3GUjrFszc6BOaPO3ZjBjvOu787v9+bOrR0GTyKtEM87N+vPMJRejyMLn48fegQPXk7lT29Rss8R/uAPBu0ejyM7zk87wQjPE9dKDzNOZI8989sPEGZnTwyx+88A5uvOpw5azp8OUg58cajPfVewz2F6fY98B21PA9QYzwEfJA6LQMjPMdqBTzrkw09tzmpPHOi7Dyd2AM8hVLJPMWG+DyxvJw8pZhPPahQrjylm7o8NOv7PEkqJD18n449Z9tMPYvlPT1DMQc93dQKPQN9GDywcsg8pXGZPJ2UEj2IlC87TGAtO3XV3jofm848jHQoPYerDz0yLYY9emISPRiwrTqAifs8EmyTPPpgJz1e7VA8k+bGPJ4rDzz2rk89+gymPeP3vj07Mi49VnPYPOzpqTzY5Bw998wZPWnd9Dyca3A9YTOBPPmnyDypPAI9lCatPCx7uDyKLrw8v5VxO/VXxDki13Y5kHhXOU/M7zrenZY65VDnOjKlnTsUbiE82P+cOgTyhDyp7FU8l/MlPmMfAD3AkSQ+mASmPSzCgT76sr89vzS8PFBkBz2wXWo8nOOrO5+VlTu6flI8ovEWPNEV2TsrBs87iR4HPLTkGDw8Blo81QcbPBhcAjy8w6k7z80GOzOojjuXJzg59XEoOskLhzoojwE6uI0TO3cLjjt8og06gMEbPcAr9DwBb4Y+5IFkPgl0MD5CPzk9JgHaPUAMED2tAqg8seZIPHnHNzt8wSs7F/qcOzRY2TpuaJU6BEgQO/s2KDvwfGo7/IsOO8kCDzs5eHs7GOZ/OyjKBT19kxw8Wh4NO9FrpjnVRCU80uScO4XbhTzJQ8M82UngPMn4jzzKneY8NIp7PdXssD15S4o+duEqPqHEyjwPY4c9eDKjPE9MITtLHaE8iWUUPGofwjs9TmM8tsDVPEAfezxR7Ew8F6/nOwAS7zvA1bQ7DJDnOiEaJzvxTSI7pdoBO53dXzrlDnc6y8VrOZZ8CTsFhgk6l+CeOq0c6jtfMHc7sjivOx3IRz60Wk0+lYZiPnUpQz6obTQ9aWOhOwJeHz3rBuk8iC3DO67rXDzW/IM7NlWBO2tcoDsNvxg7uApuO3Qqhzt7kBU7pa1pO4wAyDq21AA6zyOAOv4paDp8ZrA7HuYHOkMRTjpZoMs4Kc0wO/W+/jrNzfM7+I9NPUyPeT1EuRg9v3AiPvyf5D2kvRQ+S/C8PToVNz3eAB48nczUPUb8pT2TCv08kHydPIZoTzvxDd86XPFqOxEDwTvMH8s7LoLYO2RKHDvPf207HVuCOu9mcjmy8kA6m5rhOVC+Mzwe31o6xC8UOsq9UDkuNJ47kHV3PAjA1TwEcpQ9Fb1VPv7TZD0vfdk9U+yYPSvPJD2391U9lKsQPC8Iszt/PhQ9jPMsPYPz9Tx4tes8gKb8OyIKwjtw75Q8LlH0PMnm0zzl9vs8d8SAPNQW7jyUnNw7G1xLO5u5gTvTNi07pkKPPHoZtzlVHdU5ZzXqOD3bEDyV6JE8+S5mPXrc+D0C3rw+dUAjPrkhHz3qpPA83DjVPIY7hjxss1A733xtOh2HJDxn8D88QpR8OwkjmjyR9mk7Bg5oO1ZHjzxMy687mcorPIAs6TumbE88QmWKPA8/6TuHg+w60mobO9LAtzp5azk9sbTGOx21tzqEntU6dYqPPKM6LD0PNGo+ZlcZPjrK6z1V0L49/skDPKo5ajzEgwQ8uUsbPDzDxTp74Fo682ZXPESZADyQNio7Grl7PNa2Mzw6o5M8ig+WPB7Zfzwjixk9ORasPDXkCT0BUwo9NJlnPIT1rjvXV7I766uNO8BD1zsih/o6jSHvOkirmzrG/7Y8QlvHPAzNND1cdJM+PpPiPRdWZj1oAY899B5KPTizsD2KrJs9XhqnO7s/1TpmLUY8Q66JPNO2pztPF3Y8fZrlOxiJlTuP8Xc8Y23XOwQN+Du9M5E7zX1qPC6Z3TzzmSU8mRmCO6/MXjuGgsE6zBALOhDtJDgw0NU2eDSDNuJOSzlU1Is5TZ73PstmZz5kMBg+iGLcPfjEnzsFPNw7jgfWOo42vDuZE7w6joAKOQ0hIjtTOT06xEifNvjApTmB1ww6rc/xOojF8DqPDmY5kh9MOSkMmDghzto6vLIaOyNtEDmDI9E3opboOAYLYDikhyg5l+u/ORSJ2zm4NB06cIodO/U10zq1WdU9MrMUPo/jwT7icAM+57wJPHHcBzwQ4r07n3RDO1liJTqo07E4nWYJO3dtXDr2pMY4Z3b3O6HMRjzVFBo9pdcAPqhtfDvLdwU7IM12Osg1LTysErc7aiEvOlfm7TlhMIQ6GjULOhUJEzvd0vw7U5tVPEe5hjzvg4Y9DIRUPaxZxT5y4R8+mvQ2PjnIlz3jQMY7atgbPHsMKzvBpGc7X7THOv7whDoJXwc7P3phOt0D7TmWBjM7fZRWOtUiUzoPBRQ7V3FmOi2EtzrmCbE6WWo6O2hxFTuZtr86CdLTOhUQuDqHYpc6FQkTO93S/DtTm1U8R7mGPO+Dhj0MhFQ9rFnFPnLhHz6a9DY+OciXPeNAxjtq2Bs8ewwrO8GkZztftMc6/vCEOglfBzs/emE63QPtOZYGMzt9lFY61SJTOg8FFDtXcWY6LYS3OuYJsTpZajo7aHEVO5m2vzoJ0tM6FRC4Oodilzo=\",\"dtype\":\"float32\",\"order\":\"little\",\"shape\":[31,32]}]},\"selected\":{\"id\":\"1301\"},\"selection_policy\":{\"id\":\"1300\"}},\"id\":\"1255\",\"type\":\"ColumnDataSource\"},{\"attributes\":{},\"id\":\"1252\",\"type\":\"LinearScale\"},{\"attributes\":{\"end\":31},\"id\":\"1248\",\"type\":\"Range1d\"}],\"root_ids\":[\"1245\"]},\"title\":\"Bokeh Application\",\"version\":\"2.3.3\"}};\n",
              "  var render_items = [{\"docid\":\"b7c5023b-cd21-42ba-8bd0-7c64d5051f18\",\"root_ids\":[\"1245\"],\"roots\":{\"1245\":\"2534a7f8-a5fd-43d6-87bb-6d00dc3b949d\"}}];\n",
              "  root.Bokeh.embed.embed_items_notebook(docs_json, render_items);\n",
              "\n",
              "  }\n",
              "  if (root.Bokeh !== undefined) {\n",
              "    embed_document(root);\n",
              "  } else {\n",
              "    var attempts = 0;\n",
              "    var timer = setInterval(function(root) {\n",
              "      if (root.Bokeh !== undefined) {\n",
              "        clearInterval(timer);\n",
              "        embed_document(root);\n",
              "      } else {\n",
              "        attempts++;\n",
              "        if (attempts > 100) {\n",
              "          clearInterval(timer);\n",
              "          console.log(\"Bokeh: ERROR: Unable to run BokehJS code because BokehJS library is missing\");\n",
              "        }\n",
              "      }\n",
              "    }, 10, root)\n",
              "  }\n",
              "})(window);"
            ],
            "application/vnd.bokehjs_exec.v0+json": ""
          },
          "metadata": {
            "application/vnd.bokehjs_exec.v0+json": {
              "id": "1245"
            }
          }
        },
        {
          "output_type": "display_data",
          "data": {
            "text/html": [
              "\n",
              "\n",
              "\n",
              "\n",
              "\n",
              "\n",
              "  <div class=\"bk-root\" id=\"1c097e9d-3ea0-4576-a7fe-ea16c8db8f0f\" data-root-id=\"1342\"></div>\n"
            ]
          },
          "metadata": {}
        },
        {
          "output_type": "display_data",
          "data": {
            "application/javascript": [
              "(function(root) {\n",
              "  function embed_document(root) {\n",
              "    \n",
              "  var docs_json = {\"d1be0012-9bda-44b2-982b-9337cd7686a1\":{\"defs\":[],\"roots\":{\"references\":[{\"attributes\":{\"above\":[{\"id\":\"1361\"}],\"left\":[{\"id\":\"1364\"}],\"renderers\":[{\"id\":\"1359\"}],\"title\":{\"id\":\"1400\"},\"toolbar\":{\"id\":\"1351\"},\"x_range\":{\"id\":\"1343\"},\"x_scale\":{\"id\":\"1347\"},\"y_range\":{\"id\":\"1345\"},\"y_scale\":{\"id\":\"1349\"}},\"id\":\"1342\",\"subtype\":\"Figure\",\"type\":\"Plot\"},{\"attributes\":{\"axis_label\":\"source tokens\",\"formatter\":{\"id\":\"1404\"},\"major_label_orientation\":45,\"major_label_overrides\":{\"0.5\":\"_BOS_\",\"1.5\":\"\\u0430\\u043f\\u0430\\u0440\\u0442\\u0430\\u043c\\u0435\\u043d\\u0442\\u044b\",\"10.5\":\"square\",\"11.5\":\"\\u043d\\u0430\\u0445\\u043e\\u0434\\u044f\\u0442\\u0441\\u044f\",\"12.5\":\"\\u0432\",\"13.5\":\"\\u043c\\u043e\\u0441\\u043a\\u0432\\u0435\",\"14.5\":\",\",\"15.5\":\"\\u0432\",\"16.5\":\"200\",\"17.5\":\"\\u043c\\u0435\\u0442\\u0440\\u0430\\u0445\",\"18.5\":\"\\u043e\\u0442\",\"19.5\":\"\\u0431\\u043e\\u043b\\u044c\\u0448\\u043e\\u0433\\u043e\",\"2.5\":\"mo@@\",\"20.5\":\"\\u0442\\u0435\\u0430\\u0442\\u0440\\u0430\",\"21.5\":\".\",\"22.5\":\"_EOS_\",\"3.5\":\"s@@\",\"4.5\":\"co@@\",\"5.5\":\"w\",\"6.5\":\"point\",\"7.5\":\"-\",\"8.5\":\"loft\",\"9.5\":\"red\"},\"major_label_policy\":{\"id\":\"1403\"},\"ticker\":{\"id\":\"1362\"}},\"id\":\"1361\",\"type\":\"LinearAxis\"},{\"attributes\":{\"data_source\":{\"id\":\"1352\"},\"glyph\":{\"id\":\"1353\"},\"hover_glyph\":null,\"muted_glyph\":null,\"nonselection_glyph\":{\"id\":\"1356\"},\"view\":{\"id\":\"1360\"}},\"id\":\"1359\",\"type\":\"GlyphRenderer\"},{\"attributes\":{\"ticks\":[0.5,1.5,2.5,3.5,4.5,5.5,6.5,7.5,8.5,9.5,10.5,11.5,12.5,13.5,14.5,15.5,16.5,17.5,18.5,19.5,20.5,21.5,22.5]},\"id\":\"1362\",\"type\":\"FixedTicker\"},{\"attributes\":{},\"id\":\"1405\",\"type\":\"UnionRenderers\"},{\"attributes\":{\"ticks\":[0.5,1.5,2.5,3.5,4.5,5.5,6.5,7.5,8.5,9.5,10.5,11.5,12.5,13.5,14.5,15.5,16.5,17.5,18.5,19.5,20.5,21.5,22.5,23.5,24.5,25.5,26.5,27.5,28.5]},\"id\":\"1365\",\"type\":\"FixedTicker\"},{\"attributes\":{},\"id\":\"1403\",\"type\":\"AllLabels\"},{\"attributes\":{\"active_multi\":null},\"id\":\"1351\",\"type\":\"Toolbar\"},{\"attributes\":{},\"id\":\"1404\",\"type\":\"BasicTickFormatter\"},{\"attributes\":{},\"id\":\"1400\",\"type\":\"Title\"},{\"attributes\":{\"palette\":[\"#000000\",\"#252525\",\"#525252\",\"#737373\",\"#969696\",\"#bdbdbd\",\"#d9d9d9\",\"#f0f0f0\",\"#ffffff\"]},\"id\":\"1354\",\"type\":\"LinearColorMapper\"},{\"attributes\":{},\"id\":\"1349\",\"type\":\"LinearScale\"},{\"attributes\":{},\"id\":\"1347\",\"type\":\"LinearScale\"},{\"attributes\":{\"data\":{\"image\":[{\"__ndarray__\":\"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\",\"dtype\":\"float32\",\"order\":\"little\",\"shape\":[29,23]}]},\"selected\":{\"id\":\"1406\"},\"selection_policy\":{\"id\":\"1405\"}},\"id\":\"1352\",\"type\":\"ColumnDataSource\"},{\"attributes\":{},\"id\":\"1401\",\"type\":\"AllLabels\"},{\"attributes\":{\"color_mapper\":{\"id\":\"1354\"},\"dh\":{\"value\":29},\"dw\":{\"value\":23},\"image\":{\"field\":\"image\"},\"x\":{\"value\":0},\"y\":{\"value\":0}},\"id\":\"1353\",\"type\":\"Image\"},{\"attributes\":{},\"id\":\"1402\",\"type\":\"BasicTickFormatter\"},{\"attributes\":{\"color_mapper\":{\"id\":\"1357\"},\"dh\":{\"value\":29},\"dw\":{\"value\":23},\"global_alpha\":0.1,\"image\":{\"field\":\"image\"},\"x\":{\"value\":0},\"y\":{\"value\":0}},\"id\":\"1356\",\"type\":\"Image\"},{\"attributes\":{\"end\":29},\"id\":\"1345\",\"type\":\"Range1d\"},{\"attributes\":{\"palette\":[\"#000000\",\"#252525\",\"#525252\",\"#737373\",\"#969696\",\"#bdbdbd\",\"#d9d9d9\",\"#f0f0f0\",\"#ffffff\"]},\"id\":\"1357\",\"type\":\"LinearColorMapper\"},{\"attributes\":{\"source\":{\"id\":\"1352\"}},\"id\":\"1360\",\"type\":\"CDSView\"},{\"attributes\":{\"end\":23},\"id\":\"1343\",\"type\":\"Range1d\"},{\"attributes\":{\"axis_label\":\"translation tokens\",\"formatter\":{\"id\":\"1402\"},\"major_label_overrides\":{\"0.5\":\"_EOS_\",\"1.5\":\".\",\"10.5\":\"the\",\"11.5\":\",\",\"12.5\":\"ro\",\"13.5\":\"tre@@\",\"14.5\":\"lido\",\"15.5\":\"in\",\"16.5\":\"is\",\"17.5\":\"theatre\",\"18.5\":\"ballet\",\"19.5\":\"and\",\"2.5\":\"theatre\",\"20.5\":\"opera\",\"21.5\":\"of\",\"22.5\":\"theatre\",\"23.5\":\"the\",\"24.5\":\"from\",\"25.5\":\"metres\",\"26.5\":\"200\",\"27.5\":\"set\",\"28.5\":\"_BOS_\",\"3.5\":\"riga\",\"4.5\":\"the\",\"5.5\":\"from\",\"6.5\":\"metres\",\"7.5\":\"200\",\"8.5\":\"is\",\"9.5\":\"apartment\"},\"major_label_policy\":{\"id\":\"1401\"},\"ticker\":{\"id\":\"1365\"}},\"id\":\"1364\",\"type\":\"LinearAxis\"},{\"attributes\":{},\"id\":\"1406\",\"type\":\"Selection\"}],\"root_ids\":[\"1342\"]},\"title\":\"Bokeh Application\",\"version\":\"2.3.3\"}};\n",
              "  var render_items = [{\"docid\":\"d1be0012-9bda-44b2-982b-9337cd7686a1\",\"root_ids\":[\"1342\"],\"roots\":{\"1342\":\"1c097e9d-3ea0-4576-a7fe-ea16c8db8f0f\"}}];\n",
              "  root.Bokeh.embed.embed_items_notebook(docs_json, render_items);\n",
              "\n",
              "  }\n",
              "  if (root.Bokeh !== undefined) {\n",
              "    embed_document(root);\n",
              "  } else {\n",
              "    var attempts = 0;\n",
              "    var timer = setInterval(function(root) {\n",
              "      if (root.Bokeh !== undefined) {\n",
              "        clearInterval(timer);\n",
              "        embed_document(root);\n",
              "      } else {\n",
              "        attempts++;\n",
              "        if (attempts > 100) {\n",
              "          clearInterval(timer);\n",
              "          console.log(\"Bokeh: ERROR: Unable to run BokehJS code because BokehJS library is missing\");\n",
              "        }\n",
              "      }\n",
              "    }, 10, root)\n",
              "  }\n",
              "})(window);"
            ],
            "application/vnd.bokehjs_exec.v0+json": ""
          },
          "metadata": {
            "application/vnd.bokehjs_exec.v0+json": {
              "id": "1342"
            }
          }
        }
      ]
    }
  ]
}