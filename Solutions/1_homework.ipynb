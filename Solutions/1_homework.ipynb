{
 "cells": [
  {
   "cell_type": "markdown",
   "metadata": {
    "id": "bQkNdb27O6nw"
   },
   "source": [
    "## Homework: Multilingual Embedding-based Machine Translation (7 points)"
   ]
  },
  {
   "cell_type": "markdown",
   "metadata": {
    "id": "0V5MEuXTO6ny"
   },
   "source": [
    "**In this homework** **<font color='red'>YOU</font>** will make machine translation system without using parallel corpora, alignment, attention, 100500 depth super-cool recurrent neural network and all that kind superstuff.\n",
    "\n",
    "But even without parallel corpora this system can be good enough (hopefully). \n",
    "\n",
    "For our system we choose two kindred Slavic languages: Ukrainian and Russian. "
   ]
  },
  {
   "cell_type": "markdown",
   "metadata": {
    "id": "onPOpvhOO6nz"
   },
   "source": [
    "### Feel the difference!\n",
    "\n",
    "(_синій кіт_ vs. _синій кит_)"
   ]
  },
  {
   "cell_type": "markdown",
   "metadata": {
    "id": "FUgUf_jCO6n0"
   },
   "source": [
    "![blue_cat_blue_whale.png](https://github.com/yandexdataschool/nlp_course/raw/master/resources/blue_cat_blue_whale.png)"
   ]
  },
  {
   "cell_type": "markdown",
   "metadata": {
    "id": "DX61APjuO6n0"
   },
   "source": [
    "### Frament of the Swadesh list for some slavic languages\n",
    "\n",
    "The Swadesh list is a lexicostatistical stuff. It's named after American linguist Morris Swadesh and contains basic lexis. This list are used to define subgroupings of languages, its relatedness.\n",
    "\n",
    "So we can see some kind of word invariance for different Slavic languages.\n",
    "\n",
    "\n",
    "| Russian         | Belorussian              | Ukrainian               | Polish             | Czech                         | Bulgarian            |\n",
    "|-----------------|--------------------------|-------------------------|--------------------|-------------------------------|-----------------------|\n",
    "| женщина         | жанчына, кабета, баба    | жінка                   | kobieta            | žena                          | жена                  |\n",
    "| мужчина         | мужчына                  | чоловік, мужчина        | mężczyzna          | muž                           | мъж                   |\n",
    "| человек         | чалавек                  | людина, чоловік         | człowiek           | člověk                        | човек                 |\n",
    "| ребёнок, дитя   | дзіця, дзіцёнак, немаўля | дитина, дитя            | dziecko            | dítě                          | дете                  |\n",
    "| жена            | жонка                    | дружина, жінка          | żona               | žena, manželka, choť          | съпруга, жена         |\n",
    "| муж             | муж, гаспадар            | чоловiк, муж            | mąż                | muž, manžel, choť             | съпруг, мъж           |\n",
    "| мать, мама      | маці, матка              | мати, матір, неня, мама | matka              | matka, máma, 'стар.' mateř    | майка                 |\n",
    "| отец, тятя      | бацька, тата             | батько, тато, татусь    | ojciec             | otec                          | баща, татко           |\n",
    "| много           | шмат, багата             | багато                  | wiele              | mnoho, hodně                  | много                 |\n",
    "| несколько       | некалькі, колькі         | декілька, кілька        | kilka              | několik, pár, trocha          | няколко               |\n",
    "| другой, иной    | іншы                     | інший                   | inny               | druhý, jiný                   | друг                  |\n",
    "| зверь, животное | жывёла, звер, істота     | тварина, звір           | zwierzę            | zvíře                         | животно               |\n",
    "| рыба            | рыба                     | риба                    | ryba               | ryba                          | риба                  |\n",
    "| птица           | птушка                   | птах, птиця             | ptak               | pták                          | птица                 |\n",
    "| собака, пёс     | сабака                   | собака, пес             | pies               | pes                           | куче, пес             |\n",
    "| вошь            | вош                      | воша                    | wesz               | veš                           | въшка                 |\n",
    "| змея, гад       | змяя                     | змія, гад               | wąż                | had                           | змия                  |\n",
    "| червь, червяк   | чарвяк                   | хробак, черв'як         | robak              | červ                          | червей                |\n",
    "| дерево          | дрэва                    | дерево                  | drzewo             | strom, dřevo                  | дърво                 |\n",
    "| лес             | лес                      | ліс                     | las                | les                           | гора, лес             |\n",
    "| палка           | кій, палка               | палиця                  | patyk, pręt, pałka | hůl, klacek, prut, kůl, pálka | палка, пръчка, бастун |"
   ]
  },
  {
   "cell_type": "markdown",
   "metadata": {
    "id": "0DtLd-ZXO6n2"
   },
   "source": [
    "But the context distribution of these languages demonstrates even more invariance. And we can use this fact for our for our purposes."
   ]
  },
  {
   "cell_type": "markdown",
   "metadata": {
    "id": "9KEzJLrjO6n3"
   },
   "source": [
    "## Data"
   ]
  },
  {
   "cell_type": "code",
   "execution_count": 27,
   "metadata": {
    "id": "w5NgxW1OO6n3"
   },
   "outputs": [],
   "source": [
    "import gensim\n",
    "import numpy as np\n",
    "from gensim.models import KeyedVectors\n",
    "from zipfile import ZipFile"
   ]
  },
  {
   "cell_type": "markdown",
   "metadata": {
    "id": "JpFPAH0_O6n5"
   },
   "source": [
    "Download embeddings here:\n",
    "* [cc.uk.300.vec.zip](https://yadi.sk/d/9CAeNsJiInoyUA)\n",
    "* [cc.ru.300.vec.zip](https://yadi.sk/d/3yG0-M4M8fypeQ)"
   ]
  },
  {
   "cell_type": "code",
   "execution_count": 30,
   "metadata": {
    "colab": {
     "base_uri": "https://localhost:8080/"
    },
    "id": "-52LkHhRQaGI",
    "outputId": "56a1ce2b-a41d-4ffc-b872-988c45dfcc45"
   },
   "outputs": [
    {
     "name": "stdout",
     "output_type": "stream",
     "text": [
      "--2022-02-09 21:11:09--  https://getfile.dokpub.com/yandex/get/https://disk.yandex.ru/d/3yG0-M4M8fypeQ\n",
      "Resolving getfile.dokpub.com (getfile.dokpub.com)... 78.46.92.107\n",
      "Connecting to getfile.dokpub.com (getfile.dokpub.com)|78.46.92.107|:443... connected.\n",
      "HTTP request sent, awaiting response... 302 Moved Temporarily\n",
      "Location: https://downloader.disk.yandex.ru/disk/f21305e83970878d6875050927dd15947ceeae2ae6b2762aa9921c8e564fa9e5/620465f8/HdZOcL9j2UCaFZl90Y8xfcTnpNaEkOFBvBMcb1tjQV6ciMfYRf6DCCWmZlYoeRwMntukoppeKNR68PfXdYslpA%3D%3D?uid=0&filename=cc.ru.300.vec.zip&disposition=attachment&hash=Tf4kWKzkDPdN2THngpCb3pCAfsAgLUptvmXFCRFSUxY%3D%3A&limit=0&content_type=application%2Fzip&owner_uid=78404243&fsize=397254664&hid=67d07e7a6953ad340b81e01c02abd45d&media_type=compressed&tknv=v2 [following]\n",
      "--2022-02-09 21:11:10--  https://downloader.disk.yandex.ru/disk/f21305e83970878d6875050927dd15947ceeae2ae6b2762aa9921c8e564fa9e5/620465f8/HdZOcL9j2UCaFZl90Y8xfcTnpNaEkOFBvBMcb1tjQV6ciMfYRf6DCCWmZlYoeRwMntukoppeKNR68PfXdYslpA%3D%3D?uid=0&filename=cc.ru.300.vec.zip&disposition=attachment&hash=Tf4kWKzkDPdN2THngpCb3pCAfsAgLUptvmXFCRFSUxY%3D%3A&limit=0&content_type=application%2Fzip&owner_uid=78404243&fsize=397254664&hid=67d07e7a6953ad340b81e01c02abd45d&media_type=compressed&tknv=v2\n",
      "Resolving downloader.disk.yandex.ru (downloader.disk.yandex.ru)... 77.88.21.127, 2a02:6b8::2:127\n",
      "Connecting to downloader.disk.yandex.ru (downloader.disk.yandex.ru)|77.88.21.127|:443... connected.\n",
      "HTTP request sent, awaiting response... 302 Found\n",
      "Location: https://s210vla.storage.yandex.net/rdisk/f21305e83970878d6875050927dd15947ceeae2ae6b2762aa9921c8e564fa9e5/620465f8/HdZOcL9j2UCaFZl90Y8xfcTnpNaEkOFBvBMcb1tjQV6ciMfYRf6DCCWmZlYoeRwMntukoppeKNR68PfXdYslpA==?uid=0&filename=cc.ru.300.vec.zip&disposition=attachment&hash=Tf4kWKzkDPdN2THngpCb3pCAfsAgLUptvmXFCRFSUxY%3D%3A&limit=0&content_type=application%2Fzip&owner_uid=78404243&fsize=397254664&hid=67d07e7a6953ad340b81e01c02abd45d&media_type=compressed&tknv=v2&rtoken=gyBvqo7KepAy&force_default=no&ycrid=na-42b1547a17558d52c09e9a9a461bfe9c-downloader19f&ts=5d79f9ceb6e00&s=2fe0de1a7ca5c2660fb4ec133caa5b3a8d0598dc4dcec348041cc270d0d08672&pb=U2FsdGVkX1_i9gobyChCGSS1V4P010CmzNV6MtoOjQHJ46bdokM3y9lLKRI7f-gSx1rtrEIhvNHGmE4UkymJx4K_kMi3Q9mjBrO4M7eoCX8 [following]\n",
      "--2022-02-09 21:11:11--  https://s210vla.storage.yandex.net/rdisk/f21305e83970878d6875050927dd15947ceeae2ae6b2762aa9921c8e564fa9e5/620465f8/HdZOcL9j2UCaFZl90Y8xfcTnpNaEkOFBvBMcb1tjQV6ciMfYRf6DCCWmZlYoeRwMntukoppeKNR68PfXdYslpA==?uid=0&filename=cc.ru.300.vec.zip&disposition=attachment&hash=Tf4kWKzkDPdN2THngpCb3pCAfsAgLUptvmXFCRFSUxY%3D%3A&limit=0&content_type=application%2Fzip&owner_uid=78404243&fsize=397254664&hid=67d07e7a6953ad340b81e01c02abd45d&media_type=compressed&tknv=v2&rtoken=gyBvqo7KepAy&force_default=no&ycrid=na-42b1547a17558d52c09e9a9a461bfe9c-downloader19f&ts=5d79f9ceb6e00&s=2fe0de1a7ca5c2660fb4ec133caa5b3a8d0598dc4dcec348041cc270d0d08672&pb=U2FsdGVkX1_i9gobyChCGSS1V4P010CmzNV6MtoOjQHJ46bdokM3y9lLKRI7f-gSx1rtrEIhvNHGmE4UkymJx4K_kMi3Q9mjBrO4M7eoCX8\n",
      "Resolving s210vla.storage.yandex.net (s210vla.storage.yandex.net)... 77.88.33.147, 2a02:6b8:c0e:919:0:41af:7e01:40a9\n",
      "Connecting to s210vla.storage.yandex.net (s210vla.storage.yandex.net)|77.88.33.147|:443... connected.\n",
      "HTTP request sent, awaiting response... 200 OK\n",
      "Length: 397254664 (379M) [application/zip]\n",
      "Saving to: ‘/content/gdrive/My Drive/3yG0-M4M8fypeQ’\n",
      "\n",
      "3yG0-M4M8fypeQ      100%[===================>] 378.85M  22.1MB/s    in 18s     \n",
      "\n",
      "2022-02-09 21:11:30 (20.6 MB/s) - ‘/content/gdrive/My Drive/3yG0-M4M8fypeQ’ saved [397254664/397254664]\n",
      "\n"
     ]
    }
   ],
   "source": [
    "!wget -P /content/gdrive/My\\ Drive https://getfile.dokpub.com/yandex/get/https://disk.yandex.ru/d/3yG0-M4M8fypeQ"
   ]
  },
  {
   "cell_type": "code",
   "execution_count": 31,
   "metadata": {
    "colab": {
     "base_uri": "https://localhost:8080/"
    },
    "id": "yt3M4vu1QjHg",
    "outputId": "19a20324-f16e-4754-9b56-8587564c4b38"
   },
   "outputs": [
    {
     "name": "stdout",
     "output_type": "stream",
     "text": [
      "--2022-02-09 21:16:16--  https://getfile.dokpub.com/yandex/get/https://disk.yandex.ru/d/9CAeNsJiInoyUA\n",
      "Resolving getfile.dokpub.com (getfile.dokpub.com)... 78.46.92.107\n",
      "Connecting to getfile.dokpub.com (getfile.dokpub.com)|78.46.92.107|:443... connected.\n",
      "HTTP request sent, awaiting response... 302 Moved Temporarily\n",
      "Location: https://downloader.disk.yandex.ru/disk/a87cc6fe1c63769c65d623b96575f8f0b4f3785dfe4bc057c25ac614ce1c70c3/62046749/HdZOcL9j2UCaFZl90Y8xfcevwXkXuXvaIYjUX06MZoTXMyIOD6p5K-p8gA1R1iDaMnWY-AL8LMuEB1uPSIvHDw%3D%3D?uid=0&filename=cc.uk.300.vec.zip&disposition=attachment&hash=0MriIZAL2DprNGr89hL7a6bICrn4LuFQAJY%2BK4qSU1A%3D%3A&limit=0&content_type=application%2Fzip&owner_uid=78404243&fsize=386324207&hid=d843208373e1ea4be77ac5cfc29ca557&media_type=compressed&tknv=v2 [following]\n",
      "--2022-02-09 21:16:17--  https://downloader.disk.yandex.ru/disk/a87cc6fe1c63769c65d623b96575f8f0b4f3785dfe4bc057c25ac614ce1c70c3/62046749/HdZOcL9j2UCaFZl90Y8xfcevwXkXuXvaIYjUX06MZoTXMyIOD6p5K-p8gA1R1iDaMnWY-AL8LMuEB1uPSIvHDw%3D%3D?uid=0&filename=cc.uk.300.vec.zip&disposition=attachment&hash=0MriIZAL2DprNGr89hL7a6bICrn4LuFQAJY%2BK4qSU1A%3D%3A&limit=0&content_type=application%2Fzip&owner_uid=78404243&fsize=386324207&hid=d843208373e1ea4be77ac5cfc29ca557&media_type=compressed&tknv=v2\n",
      "Resolving downloader.disk.yandex.ru (downloader.disk.yandex.ru)... 77.88.21.127, 2a02:6b8::2:127\n",
      "Connecting to downloader.disk.yandex.ru (downloader.disk.yandex.ru)|77.88.21.127|:443... connected.\n",
      "HTTP request sent, awaiting response... 302 Found\n",
      "Location: https://s202vla.storage.yandex.net/rdisk/a87cc6fe1c63769c65d623b96575f8f0b4f3785dfe4bc057c25ac614ce1c70c3/62046749/HdZOcL9j2UCaFZl90Y8xfcevwXkXuXvaIYjUX06MZoTXMyIOD6p5K-p8gA1R1iDaMnWY-AL8LMuEB1uPSIvHDw==?uid=0&filename=cc.uk.300.vec.zip&disposition=attachment&hash=0MriIZAL2DprNGr89hL7a6bICrn4LuFQAJY%2BK4qSU1A%3D%3A&limit=0&content_type=application%2Fzip&owner_uid=78404243&fsize=386324207&hid=d843208373e1ea4be77ac5cfc29ca557&media_type=compressed&tknv=v2&rtoken=RoTk7vsBOAus&force_default=no&ycrid=na-aa1807cafc44b45809e325e087042003-downloader23e&ts=5d79fb101a440&s=1534d462e14550d44e10e4fb628e5365c7357570f7075e1671826524730e7ee4&pb=U2FsdGVkX1-zVIsyXOZDfjXy-tZhhdMW6G6fPB1cZOL8VGFST6vEbQlqrkGzh6DMw-qzEX9jBkBSTp9-TNbC7IQbBtodxffb23MujNZbX5w [following]\n",
      "--2022-02-09 21:16:17--  https://s202vla.storage.yandex.net/rdisk/a87cc6fe1c63769c65d623b96575f8f0b4f3785dfe4bc057c25ac614ce1c70c3/62046749/HdZOcL9j2UCaFZl90Y8xfcevwXkXuXvaIYjUX06MZoTXMyIOD6p5K-p8gA1R1iDaMnWY-AL8LMuEB1uPSIvHDw==?uid=0&filename=cc.uk.300.vec.zip&disposition=attachment&hash=0MriIZAL2DprNGr89hL7a6bICrn4LuFQAJY%2BK4qSU1A%3D%3A&limit=0&content_type=application%2Fzip&owner_uid=78404243&fsize=386324207&hid=d843208373e1ea4be77ac5cfc29ca557&media_type=compressed&tknv=v2&rtoken=RoTk7vsBOAus&force_default=no&ycrid=na-aa1807cafc44b45809e325e087042003-downloader23e&ts=5d79fb101a440&s=1534d462e14550d44e10e4fb628e5365c7357570f7075e1671826524730e7ee4&pb=U2FsdGVkX1-zVIsyXOZDfjXy-tZhhdMW6G6fPB1cZOL8VGFST6vEbQlqrkGzh6DMw-qzEX9jBkBSTp9-TNbC7IQbBtodxffb23MujNZbX5w\n",
      "Resolving s202vla.storage.yandex.net (s202vla.storage.yandex.net)... 77.88.33.139, 2a02:6b8:c0e:92c:0:41af:a5f6:1631\n",
      "Connecting to s202vla.storage.yandex.net (s202vla.storage.yandex.net)|77.88.33.139|:443... connected.\n",
      "HTTP request sent, awaiting response... 200 OK\n",
      "Length: 386324207 (368M) [application/zip]\n",
      "Saving to: ‘/content/gdrive/My Drive/9CAeNsJiInoyUA’\n",
      "\n",
      "9CAeNsJiInoyUA      100%[===================>] 368.43M  21.8MB/s    in 18s     \n",
      "\n",
      "2022-02-09 21:16:36 (20.3 MB/s) - ‘/content/gdrive/My Drive/9CAeNsJiInoyUA’ saved [386324207/386324207]\n",
      "\n"
     ]
    }
   ],
   "source": [
    "!wget -P /content/gdrive/My\\ Drive https://getfile.dokpub.com/yandex/get/https://disk.yandex.ru/d/9CAeNsJiInoyUA"
   ]
  },
  {
   "cell_type": "code",
   "execution_count": 32,
   "metadata": {
    "id": "a-hygjZxTbp1"
   },
   "outputs": [],
   "source": [
    "path = \"/content/gdrive/My Drive/cc.uk.300.vec.zip\"\n",
    "tar = ZipFile(path, \"r\")\n",
    "tar.extractall(r\"/content/gdrive/My Drive/cc.uk.300.vec\")\n",
    "tar.close()"
   ]
  },
  {
   "cell_type": "code",
   "execution_count": 33,
   "metadata": {
    "id": "WV4JQfVxWVZK"
   },
   "outputs": [],
   "source": [
    "path = \"/content/gdrive/My Drive/cc.ru.300.vec.zip\"\n",
    "tar = ZipFile(path, \"r\")\n",
    "tar.extractall(r\"/content/gdrive/My Drive/cc.ru.300.vec\")\n",
    "tar.close()"
   ]
  },
  {
   "cell_type": "markdown",
   "metadata": {
    "id": "-mgXPJhYO6n5"
   },
   "source": [
    "Load embeddings for ukrainian and russian."
   ]
  },
  {
   "cell_type": "code",
   "execution_count": 35,
   "metadata": {
    "id": "M_3tZ8NLO6n6"
   },
   "outputs": [],
   "source": [
    "uk_emb = KeyedVectors.load_word2vec_format(\"/content/gdrive/My Drive/cc.uk.300.vec/cc.uk.300.vec\")"
   ]
  },
  {
   "cell_type": "code",
   "execution_count": 36,
   "metadata": {
    "id": "1xghITXMO6n6"
   },
   "outputs": [],
   "source": [
    "ru_emb = KeyedVectors.load_word2vec_format(\"/content/gdrive/My Drive/cc.ru.300.vec/cc.ru.300.vec\")"
   ]
  },
  {
   "cell_type": "code",
   "execution_count": 39,
   "metadata": {
    "colab": {
     "base_uri": "https://localhost:8080/"
    },
    "id": "tQyrPEAPO6n7",
    "outputId": "0865e449-66c4-4c89-dbbd-c161386b1070"
   },
   "outputs": [
    {
     "data": {
      "text/plain": [
       "[('август', 1.0),\n",
       " ('июль', 0.9383153915405273),\n",
       " ('сентябрь', 0.9240028858184814),\n",
       " ('июнь', 0.9222575426101685),\n",
       " ('октябрь', 0.9095538854598999)]"
      ]
     },
     "execution_count": 39,
     "metadata": {},
     "output_type": "execute_result"
    }
   ],
   "source": [
    "ru_emb.most_similar([ru_emb[\"август\"]], topn=5)"
   ]
  },
  {
   "cell_type": "code",
   "execution_count": 38,
   "metadata": {
    "colab": {
     "base_uri": "https://localhost:8080/"
    },
    "id": "T2wfJg2JO6n7",
    "outputId": "f4c18d2c-4b36-4c0b-b3f3-d31246b5accd"
   },
   "outputs": [
    {
     "data": {
      "text/plain": [
       "[('серпень', 0.9999999403953552),\n",
       " ('липень', 0.9096440076828003),\n",
       " ('вересень', 0.901697039604187),\n",
       " ('червень', 0.8992519378662109),\n",
       " ('жовтень', 0.8810408711433411),\n",
       " ('листопад', 0.8787633776664734),\n",
       " ('квітень', 0.8592804670333862),\n",
       " ('грудень', 0.8586863279342651),\n",
       " ('травень', 0.8408110737800598),\n",
       " ('лютий', 0.8256431818008423)]"
      ]
     },
     "execution_count": 38,
     "metadata": {},
     "output_type": "execute_result"
    }
   ],
   "source": [
    "uk_emb.most_similar([uk_emb[\"серпень\"]])"
   ]
  },
  {
   "cell_type": "code",
   "execution_count": 40,
   "metadata": {
    "colab": {
     "base_uri": "https://localhost:8080/"
    },
    "id": "bEiG_1f6O6n7",
    "outputId": "ee11c26d-237c-4981-c5b1-604be6879bc7"
   },
   "outputs": [
    {
     "data": {
      "text/plain": [
       "[('Недопустимость', 0.24435284733772278),\n",
       " ('конструктивность', 0.23293080925941467),\n",
       " ('офор', 0.23256804049015045),\n",
       " ('deteydlya', 0.23031717538833618),\n",
       " ('пресечении', 0.22632381319999695),\n",
       " ('одностороннего', 0.22608885169029236),\n",
       " ('подход', 0.2230587601661682),\n",
       " ('иболее', 0.22003726661205292),\n",
       " ('2015Александр', 0.21872764825820923),\n",
       " ('конструктивен', 0.21796566247940063)]"
      ]
     },
     "execution_count": 40,
     "metadata": {},
     "output_type": "execute_result"
    }
   ],
   "source": [
    "ru_emb.most_similar([uk_emb[\"серпень\"]])"
   ]
  },
  {
   "cell_type": "markdown",
   "metadata": {
    "id": "JkgcPvx_O6n8"
   },
   "source": [
    "Load small dictionaries for correspoinding words pairs as trainset and testset."
   ]
  },
  {
   "cell_type": "code",
   "execution_count": 41,
   "metadata": {
    "id": "2yTBmkb7O6n8"
   },
   "outputs": [],
   "source": [
    "def load_word_pairs(filename):\n",
    "    uk_ru_pairs = []\n",
    "    uk_vectors = []\n",
    "    ru_vectors = []\n",
    "    with open(filename, \"r\") as inpf:\n",
    "        for line in inpf:\n",
    "            uk, ru = line.rstrip().split(\"\\t\")\n",
    "            if uk not in uk_emb or ru not in ru_emb:\n",
    "                continue\n",
    "            uk_ru_pairs.append((uk, ru))\n",
    "            uk_vectors.append(uk_emb[uk])\n",
    "            ru_vectors.append(ru_emb[ru])\n",
    "    return uk_ru_pairs, np.array(uk_vectors), np.array(ru_vectors)"
   ]
  },
  {
   "cell_type": "code",
   "execution_count": 42,
   "metadata": {
    "colab": {
     "base_uri": "https://localhost:8080/"
    },
    "id": "5TVzhDw4YpfT",
    "outputId": "ad8beda2-c4be-4ced-c5fd-cbce277b2743"
   },
   "outputs": [
    {
     "name": "stdout",
     "output_type": "stream",
     "text": [
      "--2022-02-09 21:28:03--  https://raw.githubusercontent.com/yandexdataschool/nlp_course/2021/week01_embeddings/ukr_rus.test.txt\n",
      "Resolving raw.githubusercontent.com (raw.githubusercontent.com)... 185.199.108.133, 185.199.109.133, 185.199.110.133, ...\n",
      "Connecting to raw.githubusercontent.com (raw.githubusercontent.com)|185.199.108.133|:443... connected.\n",
      "HTTP request sent, awaiting response... 200 OK\n",
      "Length: 12188 (12K) [text/plain]\n",
      "Saving to: ‘/content/gdrive/My Drive/ukr_rus.test.txt’\n",
      "\n",
      "\r",
      "ukr_rus.test.txt      0%[                    ]       0  --.-KB/s               \r",
      "ukr_rus.test.txt    100%[===================>]  11.90K  --.-KB/s    in 0s      \n",
      "\n",
      "2022-02-09 21:28:03 (59.0 MB/s) - ‘/content/gdrive/My Drive/ukr_rus.test.txt’ saved [12188/12188]\n",
      "\n"
     ]
    }
   ],
   "source": [
    "!wget -P /content/gdrive/My\\ Drive https://raw.githubusercontent.com/yandexdataschool/nlp_course/2021/week01_embeddings/ukr_rus.test.txt"
   ]
  },
  {
   "cell_type": "code",
   "execution_count": 43,
   "metadata": {
    "colab": {
     "base_uri": "https://localhost:8080/"
    },
    "id": "UlbPoKWdYxBP",
    "outputId": "51af55f7-b33f-4a10-e87d-37be73c71bdf"
   },
   "outputs": [
    {
     "name": "stdout",
     "output_type": "stream",
     "text": [
      "--2022-02-09 21:28:43--  https://raw.githubusercontent.com/yandexdataschool/nlp_course/2021/week01_embeddings/ukr_rus.train.txt\n",
      "Resolving raw.githubusercontent.com (raw.githubusercontent.com)... 185.199.111.133, 185.199.108.133, 185.199.110.133, ...\n",
      "Connecting to raw.githubusercontent.com (raw.githubusercontent.com)|185.199.111.133|:443... connected.\n",
      "HTTP request sent, awaiting response... 200 OK\n",
      "Length: 59351 (58K) [text/plain]\n",
      "Saving to: ‘/content/gdrive/My Drive/ukr_rus.train.txt’\n",
      "\n",
      "\r",
      "ukr_rus.train.txt     0%[                    ]       0  --.-KB/s               \r",
      "ukr_rus.train.txt   100%[===================>]  57.96K  --.-KB/s    in 0.01s   \n",
      "\n",
      "2022-02-09 21:28:43 (5.27 MB/s) - ‘/content/gdrive/My Drive/ukr_rus.train.txt’ saved [59351/59351]\n",
      "\n"
     ]
    }
   ],
   "source": [
    "!wget -P /content/gdrive/My\\ Drive https://raw.githubusercontent.com/yandexdataschool/nlp_course/2021/week01_embeddings/ukr_rus.train.txt"
   ]
  },
  {
   "cell_type": "code",
   "execution_count": 44,
   "metadata": {
    "id": "IBa3MdC-O6n9"
   },
   "outputs": [],
   "source": [
    "uk_ru_train, X_train, Y_train = load_word_pairs(\"/content/gdrive/My Drive/ukr_rus.train.txt\")"
   ]
  },
  {
   "cell_type": "code",
   "execution_count": 45,
   "metadata": {
    "id": "sko9pKP7O6n9"
   },
   "outputs": [],
   "source": [
    "uk_ru_test, X_test, Y_test = load_word_pairs(\"/content/gdrive/My Drive/ukr_rus.test.txt\")"
   ]
  },
  {
   "cell_type": "markdown",
   "metadata": {
    "id": "shFT6Q5GO6n-"
   },
   "source": [
    "## Embedding space mapping"
   ]
  },
  {
   "cell_type": "markdown",
   "metadata": {
    "id": "I7UU7iFzO6n-"
   },
   "source": [
    "Let $x_i \\in \\mathrm{R}^d$ be the distributed representation of word $i$ in the source language, and $y_i \\in \\mathrm{R}^d$ is the vector representation of its translation. Our purpose is to learn such linear transform $W$ that minimizes euclidian distance between $Wx_i$ and $y_i$ for some subset of word embeddings. Thus we can formulate so-called Procrustes problem:\n",
    "\n",
    "$$W^*= \\arg\\min_W \\sum_{i=1}^n||Wx_i - y_i||_2$$\n",
    "or\n",
    "$$W^*= \\arg\\min_W ||WX - Y||_F$$\n",
    "\n",
    "where $||*||_F$ - Frobenius norm.\n",
    "\n",
    "In Greek mythology, Procrustes or \"the stretcher\" was a rogue smith and bandit from Attica who attacked people by stretching them or cutting off their legs, so as to force them to fit the size of an iron bed. We make same bad things with source embedding space. Our Procrustean bed is target embedding space."
   ]
  },
  {
   "cell_type": "markdown",
   "metadata": {
    "id": "LBAu_sRGO6n_"
   },
   "source": [
    "![embedding_mapping.png](https://github.com/yandexdataschool/nlp_course/raw/master/resources/embedding_mapping.png)"
   ]
  },
  {
   "cell_type": "markdown",
   "metadata": {
    "id": "5X-_3jaTO6n_"
   },
   "source": [
    "![procrustes.png](https://github.com/yandexdataschool/nlp_course/raw/master/resources/procrustes.png)"
   ]
  },
  {
   "cell_type": "markdown",
   "metadata": {
    "id": "iWl8Tg9xO6n_"
   },
   "source": [
    "But wait...$W^*= \\arg\\min_W \\sum_{i=1}^n||Wx_i - y_i||_2$ looks like simple multiple linear regression (without intercept fit). So let's code."
   ]
  },
  {
   "cell_type": "code",
   "execution_count": 47,
   "metadata": {
    "colab": {
     "base_uri": "https://localhost:8080/"
    },
    "id": "fYIpwV0WO6oA",
    "outputId": "63783775-224d-4464-f780-a2fbd31d3078"
   },
   "outputs": [
    {
     "data": {
      "text/plain": [
       "LinearRegression()"
      ]
     },
     "execution_count": 47,
     "metadata": {},
     "output_type": "execute_result"
    }
   ],
   "source": [
    "from sklearn.linear_model import LinearRegression\n",
    "\n",
    "# YOUR CODE HERE\n",
    "mapping = LinearRegression()\n",
    "mapping.fit(X_train, Y_train)"
   ]
  },
  {
   "cell_type": "markdown",
   "metadata": {
    "id": "atj-LsSXO6oA"
   },
   "source": [
    "Let's take a look at neigbours of the vector of word _\"серпень\"_ (_\"август\"_ in Russian) after linear transform."
   ]
  },
  {
   "cell_type": "code",
   "execution_count": 48,
   "metadata": {
    "colab": {
     "base_uri": "https://localhost:8080/"
    },
    "id": "ZPyLoyVhO6oA",
    "outputId": "56ce2159-034b-4b10-b213-adb3d7c9e451"
   },
   "outputs": [
    {
     "data": {
      "text/plain": [
       "[('апрель', 0.8541592359542847),\n",
       " ('июнь', 0.8411962985992432),\n",
       " ('март', 0.8397400379180908),\n",
       " ('сентябрь', 0.8359213471412659),\n",
       " ('февраль', 0.8328747749328613),\n",
       " ('октябрь', 0.8311804533004761),\n",
       " ('ноябрь', 0.8278145790100098),\n",
       " ('июль', 0.8236349821090698),\n",
       " ('август', 0.8120611906051636),\n",
       " ('декабрь', 0.8037999272346497)]"
      ]
     },
     "execution_count": 48,
     "metadata": {},
     "output_type": "execute_result"
    }
   ],
   "source": [
    "august = mapping.predict(uk_emb[\"серпень\"].reshape(1, -1))\n",
    "ru_emb.most_similar(august)"
   ]
  },
  {
   "cell_type": "markdown",
   "metadata": {
    "id": "XdLLJRMoO6oB"
   },
   "source": [
    "We can see that neighbourhood of this embedding cosists of different months, but right variant is on the ninth place."
   ]
  },
  {
   "cell_type": "markdown",
   "metadata": {
    "id": "QsKlD_UdO6oB"
   },
   "source": [
    "As quality measure we will use precision top-1, top-5 and top-10 (for each transformed Ukrainian embedding we count how many right target pairs are found in top N nearest neighbours in Russian embedding space)."
   ]
  },
  {
   "cell_type": "code",
   "execution_count": 74,
   "metadata": {
    "id": "He-smsAQO6oB"
   },
   "outputs": [],
   "source": [
    "def precision(pairs, mapped_vectors, topn=1):\n",
    "    \"\"\"\n",
    "    :args:\n",
    "        pairs = list of right word pairs [(uk_word_0, ru_word_0), ...]\n",
    "        mapped_vectors = list of embeddings after mapping from source embedding space to destination embedding space\n",
    "        topn = the number of nearest neighbours in destination embedding space to choose from\n",
    "    :returns:\n",
    "        precision_val, float number, total number of words for those we can find right translation at top K.\n",
    "    \"\"\"\n",
    "    assert len(pairs) == len(mapped_vectors)\n",
    "    num_matches = 0\n",
    "    for i, (_, ru) in enumerate(pairs):\n",
    "        # YOUR CODE HERE\n",
    "        emb = ru_emb.most_similar([mapped_vectors[i]])[:topn]\n",
    "        for words in emb:\n",
    "          if words[0] == ru:\n",
    "              num_matches += 1\n",
    "\n",
    "    precision_val = num_matches / len(pairs)\n",
    "    return precision_val\n"
   ]
  },
  {
   "cell_type": "code",
   "execution_count": 75,
   "metadata": {
    "id": "eELq0darO6oC"
   },
   "outputs": [],
   "source": [
    "assert precision([(\"серпень\", \"август\")], august, topn=5) == 0.0\n",
    "assert precision([(\"серпень\", \"август\")], august, topn=9) == 1.0\n",
    "assert precision([(\"серпень\", \"август\")], august, topn=10) == 1.0"
   ]
  },
  {
   "cell_type": "code",
   "execution_count": 76,
   "metadata": {
    "id": "O0Oc1TpWO6oC"
   },
   "outputs": [],
   "source": [
    "assert precision(uk_ru_test, X_test) == 0.0\n",
    "assert precision(uk_ru_test, Y_test) == 1.0"
   ]
  },
  {
   "cell_type": "code",
   "execution_count": 81,
   "metadata": {
    "id": "qKEa7sfkO6oC"
   },
   "outputs": [],
   "source": [
    "precision_top1 = precision(uk_ru_test, mapping.predict(X_test), 1)\n",
    "precision_top5 = precision(uk_ru_test, mapping.predict(X_test), 5)\n",
    "\n",
    "assert precision_top1 >= 0.635\n",
    "assert precision_top5 >= 0.811"
   ]
  },
  {
   "cell_type": "markdown",
   "metadata": {
    "id": "VUR0PcuHO6oD"
   },
   "source": [
    "## Making it better (orthogonal Procrustean problem)"
   ]
  },
  {
   "cell_type": "markdown",
   "metadata": {
    "id": "RhYfQEpdO6oD"
   },
   "source": [
    "It can be shown (see original paper) that a self-consistent linear mapping between semantic spaces should be orthogonal. \n",
    "We can restrict transform $W$ to be orthogonal. Then we will solve next problem:\n",
    "\n",
    "$$W^*= \\arg\\min_W ||WX - Y||_F \\text{, where: } W^TW = I$$\n",
    "\n",
    "$$I \\text{- identity matrix}$$\n",
    "\n",
    "Instead of making yet another regression problem we can find optimal orthogonal transformation using singular value decomposition. It turns out that optimal transformation $W^*$ can be expressed via SVD components:\n",
    "$$X^TY=U\\Sigma V^T\\text{, singular value decompostion}$$\n",
    "$$W^*=UV^T$$"
   ]
  },
  {
   "cell_type": "code",
   "execution_count": 82,
   "metadata": {
    "id": "cBPbzRkaO6oD"
   },
   "outputs": [],
   "source": [
    "def learn_transform(X_train, Y_train):\n",
    "    \"\"\" \n",
    "    :returns: W* : float matrix[emb_dim x emb_dim] as defined in formulae above\n",
    "    \"\"\"\n",
    "    # YOU CODE HERE\n",
    "    u, Rs, vh = np.linalg.svd(X_train.T @ Y_train, full_matrices=False)\n",
    "    return u @ vh"
   ]
  },
  {
   "cell_type": "code",
   "execution_count": 83,
   "metadata": {
    "id": "rekruH-sO6oE"
   },
   "outputs": [],
   "source": [
    "W = learn_transform(X_train, Y_train)"
   ]
  },
  {
   "cell_type": "code",
   "execution_count": 84,
   "metadata": {
    "colab": {
     "base_uri": "https://localhost:8080/"
    },
    "id": "6wThoWzfO6oE",
    "outputId": "d26f16b7-394a-41a5-b780-e86053992da7"
   },
   "outputs": [
    {
     "data": {
      "text/plain": [
       "[('апрель', 0.8237907886505127),\n",
       " ('сентябрь', 0.8049713373184204),\n",
       " ('март', 0.8025654554367065),\n",
       " ('июнь', 0.8021842241287231),\n",
       " ('октябрь', 0.8001736402511597),\n",
       " ('ноябрь', 0.7934483885765076),\n",
       " ('февраль', 0.7914121150970459),\n",
       " ('июль', 0.7908109426498413),\n",
       " ('август', 0.7891016602516174),\n",
       " ('декабрь', 0.7686373591423035)]"
      ]
     },
     "execution_count": 84,
     "metadata": {},
     "output_type": "execute_result"
    }
   ],
   "source": [
    "ru_emb.most_similar([np.matmul(uk_emb[\"серпень\"], W)])"
   ]
  },
  {
   "cell_type": "code",
   "execution_count": 85,
   "metadata": {
    "id": "HfenGkxCO6oF"
   },
   "outputs": [],
   "source": [
    "assert precision(uk_ru_test, np.matmul(X_test, W)) >= 0.653\n",
    "assert precision(uk_ru_test, np.matmul(X_test, W), 5) >= 0.824"
   ]
  },
  {
   "cell_type": "markdown",
   "metadata": {
    "id": "vPg6FupSO6oF"
   },
   "source": [
    "## UK-RU Translator"
   ]
  },
  {
   "cell_type": "markdown",
   "metadata": {
    "id": "xBhV9w77O6oF"
   },
   "source": [
    "Now we are ready to make simple word-based translator: for earch word in source language in shared embedding space we find the nearest in target language.\n"
   ]
  },
  {
   "cell_type": "code",
   "execution_count": 86,
   "metadata": {
    "colab": {
     "base_uri": "https://localhost:8080/"
    },
    "id": "t-Y4GIQwnYrh",
    "outputId": "597b4485-a5f3-4919-d5c9-997eb8075958"
   },
   "outputs": [
    {
     "name": "stdout",
     "output_type": "stream",
     "text": [
      "--2022-02-09 22:32:20--  https://raw.githubusercontent.com/yandexdataschool/nlp_course/2021/week01_embeddings/fairy_tale.txt\n",
      "Resolving raw.githubusercontent.com (raw.githubusercontent.com)... 185.199.108.133, 185.199.109.133, 185.199.110.133, ...\n",
      "Connecting to raw.githubusercontent.com (raw.githubusercontent.com)|185.199.108.133|:443... connected.\n",
      "HTTP request sent, awaiting response... 200 OK\n",
      "Length: 9191 (9.0K) [text/plain]\n",
      "Saving to: ‘/content/gdrive/My Drive/fairy_tale.txt’\n",
      "\n",
      "\r",
      "fairy_tale.txt        0%[                    ]       0  --.-KB/s               \r",
      "fairy_tale.txt      100%[===================>]   8.98K  --.-KB/s    in 0s      \n",
      "\n",
      "2022-02-09 22:32:20 (93.2 MB/s) - ‘/content/gdrive/My Drive/fairy_tale.txt’ saved [9191/9191]\n",
      "\n"
     ]
    }
   ],
   "source": [
    "!wget -P /content/gdrive/My\\ Drive https://raw.githubusercontent.com/yandexdataschool/nlp_course/2021/week01_embeddings/fairy_tale.txt"
   ]
  },
  {
   "cell_type": "code",
   "execution_count": 87,
   "metadata": {
    "id": "PIgA7HLyO6oF"
   },
   "outputs": [],
   "source": [
    "with open(\"/content/gdrive/My Drive/fairy_tale.txt\", \"r\") as inpf:\n",
    "    uk_sentences = [line.rstrip().lower() for line in inpf]"
   ]
  },
  {
   "cell_type": "code",
   "execution_count": 142,
   "metadata": {
    "id": "oiLsnNixO6oG"
   },
   "outputs": [],
   "source": [
    "def translate(sentence):\n",
    "    \"\"\"\n",
    "    :args:\n",
    "        sentence - sentence in Ukrainian (str)\n",
    "    :returns:\n",
    "        translation - sentence in Russian (str)\n",
    "\n",
    "    * find ukrainian embedding for each word in sentence\n",
    "    * transform ukrainian embedding vector\n",
    "    * find nearest russian word and replace\n",
    "    \"\"\"\n",
    "    # YOUR CODE HERE\n",
    "    text = sentence.split(' ')\n",
    "    list_senc = []\n",
    "    for word in text:\n",
    "      try:\n",
    "        ru = ru_emb.most_similar([np.matmul(uk_emb[word], W)])[0][0]\n",
    "        list_senc.append(ru)\n",
    "      except KeyError:\n",
    "        list_senc.append(word)\n",
    "    return ' '.join(list_senc)"
   ]
  },
  {
   "cell_type": "code",
   "execution_count": 143,
   "metadata": {
    "id": "zYP42sL0O6oG"
   },
   "outputs": [],
   "source": [
    "assert translate(\".\") == \".\"\n",
    "assert translate(\"1 , 3\") == \"1 , 3\"\n",
    "assert translate(\"кіт зловив мишу\") == \"кот поймал мышку\""
   ]
  },
  {
   "cell_type": "code",
   "execution_count": 144,
   "metadata": {
    "colab": {
     "base_uri": "https://localhost:8080/"
    },
    "id": "AeFkk6QIO6oG",
    "outputId": "6eccd471-f06e-41db-a1bd-b239d7fc1f24"
   },
   "outputs": [
    {
     "name": "stdout",
     "output_type": "stream",
     "text": [
      "src: лисичка - сестричка і вовк - панібрат\n",
      "dst: лисичка – сестричка и волк – панібрат\n",
      "\n",
      "src: як була собі лисичка та зробила хатку, та й живе. а це приходять холоди. от лисичка замерзла та й побігла в село вогню добувать, щоб витопити. прибігає до одної баби та й каже:\n",
      "dst: как была себе лисичка и сделала хатку, и и живе. а оно приходят холоди. из лисичка замерзла и и побежала во село огня добувать, чтобы витопити. прибегает к одной бабы и и каже:\n",
      "\n",
      "src: — здорові були, бабусю! з неділею... позичте мені огню, я вам одслужу.\n",
      "dst: — здоровые були, бабусю! со неділею... позичте мне огню, мной тебе одслужу.\n",
      "\n",
      "src: — добре, — каже, — лисичко - сестричко. сідай погрійся трохи, поки я пиріжечки повибираю з печі!\n",
      "dst: — добре, — каже, — лисичко – сестричко. садись погрійся трохи, пока мной пирожки повибираю со печі!\n",
      "\n",
      "src: а баба макові пиріжки пекла. от баба вибирає пиріжки та на столі кладе, щоб прохололи; а лисичка підгляділа та за пиріг, та з хати... виїла мачок із середини, а туди напхала сміттячка, стулила та й біжить.\n",
      "dst: а бабка маковые пирожки пекла. из бабка выбирает пирожки и по столе кладе, чтобы прохололи; а лисичка підгляділа и за пиріг, и со хати... виїла мачок со середини, а туда напхала сміттячка, стулила и и біжить.\n",
      "\n",
      "src: от біжить, а хлопці товар женуть до води.\n",
      "dst: из біжить, а парни товар гонят к воды\n",
      "\n",
      "src: — здорові були, хлопці!\n",
      "dst: — здоровые були, хлопці!\n",
      "\n",
      "src: — здорова, лисичко - сестричко!\n",
      "dst: — здорова, лисичко – сестричко!\n",
      "\n",
      "src: — проміняйте мені бичка - третячка на маковий пиріжок!\n",
      "dst: — проміняйте мне бычка – третячка по маковый пиріжок!\n",
      "\n",
      "src: — добре, — кажуть.\n",
      "dst: — добре, — кажуть.\n",
      "\n",
      "src: — тільки, — каже, — тепер не їжте, а як я вибіжу з села, то тоді.\n",
      "dst: — тільки, — каже, — теперь не їжте, а как мной вибіжу со села, то тоді.\n",
      "\n",
      "src: от помінялись. лисичка за бичка — та в ліс. а хлопці до пиріжка — а там сміттянко.\n",
      "dst: из помінялись. лисичка за бычка — и во сельско а парни к пирожка — а там сміттянко.\n",
      "\n",
      "src: от прибігла лисичка до своєї хатки, вирубала дерево, зробила санки, запрягла бичка — іде. аж біжить вовк:\n",
      "dst: из прибежала лисичка к своего хатки, вирубала дерево, сделала санки, запрягла бычка — іде. аж бежит вовк:\n",
      "\n",
      "src: — здорова, лисичко - сестричко!\n",
      "dst: — здорова, лисичко – сестричко!\n",
      "\n",
      "src: — здоров, вовчику - братику!\n",
      "dst: — здоров, вовчику – братику!\n",
      "\n",
      "src: — де ти взяла бичка - третячка і санки?\n",
      "dst: — куда ты взяла бычка – третячка и санки?\n",
      "\n",
      "src: — зробила собі!\n",
      "dst: — сделала собі!\n",
      "\n",
      "src: — підвези ж, — каже, — мене, лисичко - сестричко!\n",
      "dst: — підвези ж, — каже, — мене, лисичко – сестричко!\n",
      "\n",
      "src: — е, куди я тебе візьму? ти мені й санки поламаєш!\n",
      "dst: — е, куда мной тебя візьму? ты мне и санки поламаєш!\n",
      "\n",
      "src: — ні, — каже, — я тільки одну ніжку положу.\n",
      "dst: — ні, — каже, — мной только одну ножку положу.\n",
      "\n",
      "src: — ну, клади!\n",
      "dst: — ну, клади!\n",
      "\n",
      "src: от од’їхали трохи, вовк і каже:\n",
      "dst: из од’їхали трохи, волк и каже:\n",
      "\n",
      "src: — положу я, лисичко - сестричко, й другу ніжку!\n",
      "dst: — положу я, лисичко – сестричко, и вторую ніжку!\n",
      "\n",
      "src: — е, вовчику - братику, ти мені й санки поламаєш!\n",
      "dst: — е, вовчику – братику, ты мне и санки поламаєш!\n",
      "\n",
      "src: — ні, — каже, — не поламаю!\n",
      "dst: — ні, — каже, — не поламаю!\n",
      "\n",
      "src: — ну, клади!\n",
      "dst: — ну, клади!\n",
      "\n",
      "src: вовк і положив. ідуть, їдуть, коли це щось — трісь.\n",
      "dst: волк и положив. ідуть, їдуть, когда оно что-то — трісь.\n",
      "\n",
      "src: — е, вовчику - братику, ти мені вже й санки ламаєш!\n",
      "dst: — е, вовчику – братику, ты мне уже и санки ламаєш!\n",
      "\n",
      "src: — ні лисичко - сестричко, то я орішок розкусив.\n",
      "dst: — ни лисичко – сестричко, то мной орішок розкусив.\n",
      "\n",
      "src: — ну, гляди!\n",
      "dst: — ну, гляди!\n",
      "\n",
      "src: от їдуть...\n",
      "dst: из їдуть...\n",
      "\n",
      "src: — положу я, лисичко - сестричко, й третю ніжку! — каже вовк.\n",
      "dst: — положу я, лисичко – сестричко, и третью ніжку! — говорит вовк.\n",
      "\n",
      "src: — куди ти положиш? ти мені санки поламаєш! чим я тоді дровець привезу?\n",
      "dst: — куда ты положиш? ты мне санки поламаєш! Чем мной тогда дровець привезу?\n",
      "\n",
      "src: — ні, — каже, — не поламаю.\n",
      "dst: — ні, — каже, — не поламаю.\n",
      "\n",
      "src: — ну, клади.\n",
      "dst: — ну, клади.\n",
      "\n",
      "src: вовк положив і третю ногу. коли це — трісь!\n",
      "dst: волк положил и третью ногу. когда оно — трісь!\n",
      "\n",
      "src: — ой лихо! — каже лисичка. — йди собі геть, вовчику, — ти мені зовсім санки поламаєш.\n",
      "dst: — ой лихо! — говорит лисичка. — иди себе геть, вовчику, — ты мне совсем санки поламаєш.\n",
      "\n",
      "src: — ні, то я орішок розкусив!\n",
      "dst: — ні, то мной орішок розкусив!\n",
      "\n",
      "src: — дай же й мені!\n",
      "dst: — дай то и мені!\n",
      "\n",
      "src: — нема, — каже, — останній!\n",
      "dst: — нема, — каже, — останній!\n",
      "\n",
      "src: їдуть собі та й їдуть; вовчик і каже:\n",
      "dst: едут себе и и їдуть; вовчик и каже:\n",
      "\n",
      "src: — сяду я зовсім, лисичко!\n",
      "dst: — сяду мной зовсім, лисичко!\n",
      "\n",
      "src: — куди ти сядеш, вовчику - братику? і санки розламаєш!\n",
      "dst: — куда ты сядеш, вовчику – братику? и санки розламаєш!\n",
      "\n",
      "src: — я помаленьку, — каже.\n",
      "dst: — мной помаленьку, — каже.\n",
      "\n",
      "src: — ну, гляди!\n",
      "dst: — ну, гляди!\n",
      "\n",
      "src: от вовчик тільки що сів, а санки так і розпались... лисичка тоді давай його лаять! лаяла - лаяла та й каже:\n",
      "dst: из вовчик только что сів, а санки так и розпались... лисичка тогда давай его лаять! ругала – ругала и и каже:\n",
      "\n",
      "src: — піди ж, сякий - такий сину, дровець нарубай і на санки вирубай, і приволочи!\n",
      "dst: — пойди ж, сякий – такой сину, дровець нарубай и по санки вирубай, и приволочи!\n",
      "\n",
      "src: — як же я, — каже вовчик, — вирубаю, коли я не знаю, якого дерева?\n",
      "dst: — как то я, — говорит вовчик, — вирубаю, когда мной не знаю, которого дерева?\n",
      "\n",
      "src: — е, — сякий - такий сину! як санчата ламать, так і знав, а дровець вирубать, то й ні!\n",
      "dst: — е, — сякий – такой сину! как санки ламать, так и знав, а дровець вирубать, то и ні!\n",
      "\n",
      "src: коришувала його, коришувала...\n",
      "dst: коришувала його, коришувала...\n",
      "\n",
      "src: — як увійдеш, — каже, — в ліс, то кажи: « рубайся, дерево, й пряме, й криве! рубайся, дерево, й пряме, й криве! »\n",
      "dst: — как увійдеш, — каже, — во ліс, то кажи: « рубайся, дерево, и пряме, и криве! рубайся, дерево, и пряме, и криве! »\n",
      "\n",
      "src: вовк і пішов.\n",
      "dst: волк и пішов.\n",
      "\n",
      "src: от приходить в ліс та й каже:\n",
      "dst: из приходит во лес и и каже:\n",
      "\n",
      "src: — рубайся, дерево, криве й криве!\n",
      "dst: — рубайся, дерево, кривое и криве!\n",
      "\n",
      "src: дерево й нарубалось. таке корячкувате, що й на палицю не вибереш — не то на полозок! приносить вовчик до лисички те дерево. вона як подивилась, давай його знов батькувати.\n",
      "dst: дерево и нарубалось. такое корячкувате, что и по палку не выберешь — не то по полозок! приносит вовчик к лисички что дерево. она как подивилась, давай его снова батькувати.\n",
      "\n",
      "src: — ти, — каже, — сякий - такий сину, не так казав, як я тобі веліла!\n",
      "dst: — ти, — каже, — сякий – такой сину, не так казав, как мной тебе веліла!\n",
      "\n",
      "src: — ні, лисичко - сестричко, я, — каже, — стояв та все казав: « рубайся, дерево, криве й криве! »\n",
      "dst: — ні, лисичко – сестричко, я, — каже, — стоял и всё казав: « рубайся, дерево, кривое и криве! »\n",
      "\n",
      "src: — е, бісів сину, й того недотепний! ну, сиди ж ти тут, — я сама піду нарубаю.\n",
      "dst: — е, бесов сину, и того недотепний! ну, сиди же ты тут, — мной сама пойду нарубаю.\n",
      "\n",
      "src: та й пішла.\n",
      "dst: и и пішла.\n",
      "\n",
      "src: от сидить вовк сам собі — так їсти хочеться! він думав - думав: « давай, — каже, — з’їм бичка та й утечу! » от взяв проїв дірку у бичка, із середини все виїв, а туди горобців напустив і соломою заткнув, а сам — драла... приходить лисичка, зробила санчата, сіла...\n",
      "dst: из сидит волк сам себе — так кушать хочеться! он думал – думав: « давай, — каже, — з’їм бычка и и утечу! » из взял проїв дыру во бичка, со середины всё виїв, а туда воробьёв напустил и соломой заткнув, а сам — драла... приходит лисичка, сделала санчата, сіла...\n",
      "\n",
      "src: — гей, бичок - третячок!\n",
      "dst: — гей, бычок – третячок!\n",
      "\n",
      "src: аж бичок не везе. вона його батогом. як ударила, а віхоть соломи й випав; а горобці — хррр!\n",
      "dst: аж бычок не везе. она его батогом. как ударила, а віхоть соломы и випав; а воробьи — хррр!\n",
      "\n",
      "src: — а, сякий - такий вовчик! постій же, — каже, — я тобі згадаю!\n",
      "dst: — а, сякий – такой вовчик! постой же, — каже, — мной тебе згадаю!\n",
      "\n",
      "src: та й пішла...\n",
      "dst: и и пішла...\n",
      "\n",
      "src: лягла на шляху та й лежить. ідуть чумаки з рибою; вона притаїлась, мов нежива. чумаки дивляться — аж лисиця:\n",
      "dst: легла по пути и и лежить. идут казаки со рибою; она притаїлась, языки нежива. казаки смотрят — аж лисиця:\n",
      "\n",
      "src: — візьмім, — кажуть, — бра, та продамо — буде за що хоч погрітися!\n",
      "dst: — візьмім, — кажуть, — бра, и продадим — будет за что хоть погрітися!\n",
      "\n",
      "src: скинули її на останній віз та й поїхали. ідуть та й їдуть. а лисичка - сестричка бачить, що вони не дивляться, та все кида по рибці на дорогу, все кида... от як накидала вже багато, тоді нишком і сама злізла. чумаки ж поїхали собі далі, а вона позбирала рибку, сіла та й їсть.\n",
      "dst: сбросили ей по последний визы и и поїхали. идут и и їдуть. а лисичка – сестричка бачить, что они не дивляться, и всё кида по рыбки по дорогу, всё кида... из как навязала уже багато, тогда втихаря и сама злізла. казаки же поехали себе далі, а она позбирала рибку, присела и и їсть.\n",
      "\n",
      "src: коли це біжить вовчик:\n",
      "dst: когда оно бежит вовчик:\n",
      "\n",
      "src: — здорова була, лисичко - сестричко!\n",
      "dst: — здоровая була, лисичко – сестричко!\n",
      "\n",
      "src: — здоров, вовчику - братику!\n",
      "dst: — здоров, вовчику – братику!\n",
      "\n",
      "src: — що ти робиш, лисичко - сестричко?\n",
      "dst: — что ты робиш, лисичко – сестричко?\n",
      "\n",
      "src: — рибу, — каже, — їм.\n",
      "dst: — рибу, — каже, — їм.\n",
      "\n",
      "src: — дай же й мені!\n",
      "dst: — дай то и мені!\n",
      "\n",
      "src: — піди собі налови.\n",
      "dst: — пойди себе налови.\n",
      "\n",
      "src: — так як же я наловлю, коли я не вмію?\n",
      "dst: — так как то мной наловлю, когда мной не вмію?\n",
      "\n",
      "src: — ну, як знаєш, а я не дам і кісточки!\n",
      "dst: — ну, как знаєш, а мной не дам и кісточки!\n",
      "\n",
      "src: — так хоч навчи мене, як наловить.\n",
      "dst: — так хоть научить мене, как наловить.\n",
      "\n",
      "src: а лисичка й дума: « постій же! ти мого бичка - третячка з’їв — я тепер тобі оддячу! »\n",
      "dst: а лисичка и дума: « постой же! ты моего бычка – третячка з’їв — мной теперь тебе оддячу! »\n",
      "\n",
      "src: — а так, — каже, — піди до ополонки, устроми в ополонку хвіст та потихеньку води ним і приказуй: « ловись, рибко, мала й велика! ловись, рибко, мала й велика! » то вона й наловиться.\n",
      "dst: — а так, — каже, — пойди к ополонки, устроми во прорубь хвост и потихоньку воды ним и приказуй: « ловись, рибко, имела и велика! ловись, рибко, имела и велика! » то она и наловиться.\n",
      "\n",
      "src: — ну, спасибі за науку! — каже вовчик.\n",
      "dst: — ну, спасибо за науку! — говорит вовчик.\n",
      "\n",
      "src: от прибігає вовчик до ополонки, устромив в ополонку хвіст:\n",
      "dst: из прибегает вовчик к ополонки, устромив во прорубь хвіст:\n",
      "\n",
      "src: — ловись, — каже, — рибко, мала й велика!\n",
      "dst: — ловись, — каже, — рибко, имела и велика!\n",
      "\n",
      "src: а лисичка з очерету:\n",
      "dst: а лисичка со очерету:\n",
      "\n",
      "src: — мерзни, мерзни, вовчий хвіст!\n",
      "dst: — мерзни, мерзни, волчий хвіст!\n",
      "\n",
      "src: а мороз надворі такий, що аж шкварчить! вовчик хвостиком усе водить та:\n",
      "dst: а мороз дворе такий, что аж шкварчить! вовчик хвостиком всё водит та:\n",
      "\n",
      "src: — ловись, рибко, мала й велика!\n",
      "dst: — ловись, рибко, имела и велика!\n",
      "\n",
      "src: а лисичка:\n",
      "dst: а лисичка:\n",
      "\n",
      "src: — мерзни, мерзни, вовчий хвіст!\n",
      "dst: — мерзни, мерзни, волчий хвіст!\n",
      "\n",
      "src: поки ловив вовчик рибу, поки хвіст так і прикипів в ополонці! тоді лисичка в село:\n",
      "dst: пока ловил вовчик рибу, пока хвост так и пугаясь во ополонці! тогда лисичка во село:\n",
      "\n",
      "src: — ідіть, люди, вовка бить!\n",
      "dst: — ідіть, люди, волка бить!\n",
      "\n",
      "src: люди як вискочать — з кочергами, з рогачами, із сокирами: вбили того вовка і пропав бідний! а лисичка й досі живе у своїй хатці.\n",
      "dst: люди как вискочать — со кочергами, со рогачами, со сокирами: убили того волка и пропал бідний! а лисичка и сих живет во своей хатці.\n",
      "\n"
     ]
    }
   ],
   "source": [
    "for sentence in uk_sentences:\n",
    "    print(\"src: {}\\ndst: {}\\n\".format(sentence, translate(sentence)))"
   ]
  },
  {
   "cell_type": "markdown",
   "metadata": {
    "id": "4_8yQWBxO6oH"
   },
   "source": [
    "Not so bad, right? We can easily improve translation using language model and not one but several nearest neighbours in shared embedding space. But next time."
   ]
  },
  {
   "cell_type": "markdown",
   "metadata": {
    "id": "fEwYU9jfO6oH"
   },
   "source": [
    "## Would you like to learn more?\n",
    "\n",
    "### Articles:\n",
    "* [Exploiting Similarities among Languages for Machine Translation](https://arxiv.org/pdf/1309.4168)  - entry point for multilingual embedding studies by Tomas Mikolov (the author of W2V)\n",
    "* [Offline bilingual word vectors, orthogonal transformations and the inverted softmax](https://arxiv.org/pdf/1702.03859) - orthogonal transform for unsupervised MT\n",
    "* [Word Translation Without Parallel Data](https://arxiv.org/pdf/1710.04087)\n",
    "* [Loss in Translation: Learning Bilingual Word Mapping with a Retrieval Criterion](https://arxiv.org/pdf/1804.07745)\n",
    "* [Unsupervised Alignment of Embeddings with Wasserstein Procrustes](https://arxiv.org/pdf/1805.11222)\n",
    "\n",
    "### Repos (with ready-to-use multilingual embeddings):\n",
    "* https://github.com/facebookresearch/MUSE\n",
    "\n",
    "* https://github.com/Babylonpartners/fastText_multilingual -"
   ]
  }
 ],
 "metadata": {
  "accelerator": "GPU",
  "colab": {
   "collapsed_sections": [],
   "name": "1_homework.ipynb",
   "provenance": []
  },
  "kernelspec": {
   "display_name": "Python 3",
   "language": "python",
   "name": "python3"
  },
  "language_info": {
   "codemirror_mode": {
    "name": "ipython",
    "version": 3
   },
   "file_extension": ".py",
   "mimetype": "text/x-python",
   "name": "python",
   "nbconvert_exporter": "python",
   "pygments_lexer": "ipython3",
   "version": "3.8.3"
  }
 },
 "nbformat": 4,
 "nbformat_minor": 1
}
